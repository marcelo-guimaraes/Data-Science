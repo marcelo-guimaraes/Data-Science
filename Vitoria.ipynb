{
  "nbformat": 4,
  "nbformat_minor": 0,
  "metadata": {
    "colab": {
      "name": "Vitoria.ipynb",
      "provenance": [],
      "mount_file_id": "1qoa4ZsMq1kPXilH7ChJMJHL-WrP52gWU",
      "authorship_tag": "ABX9TyOz7/vabCpoHJ8oFFprDtvo",
      "include_colab_link": true
    },
    "kernelspec": {
      "name": "python3",
      "display_name": "Python 3"
    }
  },
  "cells": [
    {
      "cell_type": "markdown",
      "metadata": {
        "id": "view-in-github",
        "colab_type": "text"
      },
      "source": [
        "<a href=\"https://colab.research.google.com/github/marcelo-guimaraes/Data-Science/blob/master/Vitoria.ipynb\" target=\"_parent\"><img src=\"https://colab.research.google.com/assets/colab-badge.svg\" alt=\"Open In Colab\"/></a>"
      ]
    },
    {
      "cell_type": "markdown",
      "metadata": {
        "id": "ScjJKshOI4L7",
        "colab_type": "text"
      },
      "source": [
        "# Time Series: Explorando os registros de temperatura da cidade de Vitória"
      ]
    },
    {
      "cell_type": "markdown",
      "metadata": {
        "id": "2KawNvbhJNpw",
        "colab_type": "text"
      },
      "source": [
        "A cidade de Vitória fica no Espírito Santo, tem população estimada em 3,9 milhões de habitantes e cresceu mais de 25% no decorrer das últimas duas décadas. Hoje analizarei o impacto que esse crescimento teve na temperatura da cidade"
      ]
    },
    {
      "cell_type": "markdown",
      "metadata": {
        "id": "TLeSdcQxMOj8",
        "colab_type": "text"
      },
      "source": [
        "### Primeiro importarei algumas bibliotecas e o [dataset](https://www.kaggle.com/volpatto/temperature-timeseries-for-some-brazilian-cities) que irei utilizar"
      ]
    },
    {
      "cell_type": "code",
      "metadata": {
        "id": "Y1u2eaUgI4kU",
        "colab_type": "code",
        "colab": {}
      },
      "source": [
        "import numpy as np\n",
        "import pandas as pd\n",
        "import matplotlib.pyplot as plt\n",
        "import seaborn as sns"
      ],
      "execution_count": 0,
      "outputs": []
    },
    {
      "cell_type": "code",
      "metadata": {
        "id": "WmG0-MUUkDjp",
        "colab_type": "code",
        "colab": {}
      },
      "source": [
        "df = pd.read_csv('/content/drive/My Drive/station_vitoria.csv', index_col = 'YEAR')"
      ],
      "execution_count": 0,
      "outputs": []
    },
    {
      "cell_type": "code",
      "metadata": {
        "id": "v2jrtGkIkyAJ",
        "colab_type": "code",
        "colab": {
          "base_uri": "https://localhost:8080/",
          "height": 317
        },
        "outputId": "952a96b0-7aa8-4d43-f455-e0856727e686"
      },
      "source": [
        "df.describe()"
      ],
      "execution_count": 8,
      "outputs": [
        {
          "output_type": "execute_result",
          "data": {
            "text/html": [
              "<div>\n",
              "<style scoped>\n",
              "    .dataframe tbody tr th:only-of-type {\n",
              "        vertical-align: middle;\n",
              "    }\n",
              "\n",
              "    .dataframe tbody tr th {\n",
              "        vertical-align: top;\n",
              "    }\n",
              "\n",
              "    .dataframe thead th {\n",
              "        text-align: right;\n",
              "    }\n",
              "</style>\n",
              "<table border=\"1\" class=\"dataframe\">\n",
              "  <thead>\n",
              "    <tr style=\"text-align: right;\">\n",
              "      <th></th>\n",
              "      <th>JAN</th>\n",
              "      <th>FEB</th>\n",
              "      <th>MAR</th>\n",
              "      <th>APR</th>\n",
              "      <th>MAY</th>\n",
              "      <th>JUN</th>\n",
              "      <th>JUL</th>\n",
              "      <th>AUG</th>\n",
              "      <th>SEP</th>\n",
              "      <th>OCT</th>\n",
              "      <th>NOV</th>\n",
              "      <th>DEC</th>\n",
              "      <th>D-J-F</th>\n",
              "      <th>M-A-M</th>\n",
              "      <th>J-J-A</th>\n",
              "      <th>S-O-N</th>\n",
              "      <th>metANN</th>\n",
              "    </tr>\n",
              "  </thead>\n",
              "  <tbody>\n",
              "    <tr>\n",
              "      <th>count</th>\n",
              "      <td>59.000000</td>\n",
              "      <td>59.000000</td>\n",
              "      <td>59.000000</td>\n",
              "      <td>59.000000</td>\n",
              "      <td>59.000000</td>\n",
              "      <td>59.000000</td>\n",
              "      <td>59.000000</td>\n",
              "      <td>59.000000</td>\n",
              "      <td>59.000000</td>\n",
              "      <td>59.000000</td>\n",
              "      <td>59.000000</td>\n",
              "      <td>59.000000</td>\n",
              "      <td>59.000000</td>\n",
              "      <td>59.000000</td>\n",
              "      <td>59.000000</td>\n",
              "      <td>59.000000</td>\n",
              "      <td>59.000000</td>\n",
              "    </tr>\n",
              "    <tr>\n",
              "      <th>mean</th>\n",
              "      <td>159.194407</td>\n",
              "      <td>192.631525</td>\n",
              "      <td>241.749153</td>\n",
              "      <td>240.753559</td>\n",
              "      <td>239.385932</td>\n",
              "      <td>188.885254</td>\n",
              "      <td>155.164576</td>\n",
              "      <td>155.510508</td>\n",
              "      <td>155.886102</td>\n",
              "      <td>156.733559</td>\n",
              "      <td>239.982034</td>\n",
              "      <td>240.806610</td>\n",
              "      <td>175.545932</td>\n",
              "      <td>207.603729</td>\n",
              "      <td>155.479492</td>\n",
              "      <td>173.223390</td>\n",
              "      <td>206.908305</td>\n",
              "    </tr>\n",
              "    <tr>\n",
              "      <th>std</th>\n",
              "      <td>335.828665</td>\n",
              "      <td>367.818120</td>\n",
              "      <td>406.500530</td>\n",
              "      <td>407.034445</td>\n",
              "      <td>407.767526</td>\n",
              "      <td>369.524992</td>\n",
              "      <td>337.437881</td>\n",
              "      <td>337.299488</td>\n",
              "      <td>337.149904</td>\n",
              "      <td>336.811277</td>\n",
              "      <td>407.448306</td>\n",
              "      <td>407.006212</td>\n",
              "      <td>352.746917</td>\n",
              "      <td>382.539180</td>\n",
              "      <td>337.311683</td>\n",
              "      <td>353.740615</td>\n",
              "      <td>382.874827</td>\n",
              "    </tr>\n",
              "    <tr>\n",
              "      <th>min</th>\n",
              "      <td>24.560000</td>\n",
              "      <td>25.840000</td>\n",
              "      <td>25.440000</td>\n",
              "      <td>24.620000</td>\n",
              "      <td>22.910000</td>\n",
              "      <td>21.180000</td>\n",
              "      <td>20.240000</td>\n",
              "      <td>21.840000</td>\n",
              "      <td>22.130000</td>\n",
              "      <td>22.590000</td>\n",
              "      <td>23.110000</td>\n",
              "      <td>24.400000</td>\n",
              "      <td>25.350000</td>\n",
              "      <td>24.390000</td>\n",
              "      <td>21.370000</td>\n",
              "      <td>22.830000</td>\n",
              "      <td>23.560000</td>\n",
              "    </tr>\n",
              "    <tr>\n",
              "      <th>25%</th>\n",
              "      <td>26.780000</td>\n",
              "      <td>27.280000</td>\n",
              "      <td>27.135000</td>\n",
              "      <td>25.700000</td>\n",
              "      <td>24.040000</td>\n",
              "      <td>22.840000</td>\n",
              "      <td>22.220000</td>\n",
              "      <td>22.575000</td>\n",
              "      <td>22.880000</td>\n",
              "      <td>24.135000</td>\n",
              "      <td>24.800000</td>\n",
              "      <td>25.850000</td>\n",
              "      <td>26.710000</td>\n",
              "      <td>25.765000</td>\n",
              "      <td>22.625000</td>\n",
              "      <td>23.990000</td>\n",
              "      <td>24.900000</td>\n",
              "    </tr>\n",
              "    <tr>\n",
              "      <th>50%</th>\n",
              "      <td>27.590000</td>\n",
              "      <td>28.180000</td>\n",
              "      <td>27.770000</td>\n",
              "      <td>26.500000</td>\n",
              "      <td>24.670000</td>\n",
              "      <td>23.780000</td>\n",
              "      <td>22.870000</td>\n",
              "      <td>23.140000</td>\n",
              "      <td>23.390000</td>\n",
              "      <td>24.550000</td>\n",
              "      <td>25.410000</td>\n",
              "      <td>26.500000</td>\n",
              "      <td>27.390000</td>\n",
              "      <td>26.160000</td>\n",
              "      <td>23.100000</td>\n",
              "      <td>24.620000</td>\n",
              "      <td>25.340000</td>\n",
              "    </tr>\n",
              "    <tr>\n",
              "      <th>75%</th>\n",
              "      <td>28.455000</td>\n",
              "      <td>29.075000</td>\n",
              "      <td>28.755000</td>\n",
              "      <td>27.960000</td>\n",
              "      <td>25.880000</td>\n",
              "      <td>24.525000</td>\n",
              "      <td>23.700000</td>\n",
              "      <td>24.085000</td>\n",
              "      <td>24.775000</td>\n",
              "      <td>25.465000</td>\n",
              "      <td>27.365000</td>\n",
              "      <td>28.080000</td>\n",
              "      <td>28.290000</td>\n",
              "      <td>27.060000</td>\n",
              "      <td>23.760000</td>\n",
              "      <td>25.230000</td>\n",
              "      <td>25.990000</td>\n",
              "    </tr>\n",
              "    <tr>\n",
              "      <th>max</th>\n",
              "      <td>999.900000</td>\n",
              "      <td>999.900000</td>\n",
              "      <td>999.900000</td>\n",
              "      <td>999.900000</td>\n",
              "      <td>999.900000</td>\n",
              "      <td>999.900000</td>\n",
              "      <td>999.900000</td>\n",
              "      <td>999.900000</td>\n",
              "      <td>999.900000</td>\n",
              "      <td>999.900000</td>\n",
              "      <td>999.900000</td>\n",
              "      <td>999.900000</td>\n",
              "      <td>999.900000</td>\n",
              "      <td>999.900000</td>\n",
              "      <td>999.900000</td>\n",
              "      <td>999.900000</td>\n",
              "      <td>999.900000</td>\n",
              "    </tr>\n",
              "  </tbody>\n",
              "</table>\n",
              "</div>"
            ],
            "text/plain": [
              "              JAN         FEB         MAR  ...       J-J-A       S-O-N      metANN\n",
              "count   59.000000   59.000000   59.000000  ...   59.000000   59.000000   59.000000\n",
              "mean   159.194407  192.631525  241.749153  ...  155.479492  173.223390  206.908305\n",
              "std    335.828665  367.818120  406.500530  ...  337.311683  353.740615  382.874827\n",
              "min     24.560000   25.840000   25.440000  ...   21.370000   22.830000   23.560000\n",
              "25%     26.780000   27.280000   27.135000  ...   22.625000   23.990000   24.900000\n",
              "50%     27.590000   28.180000   27.770000  ...   23.100000   24.620000   25.340000\n",
              "75%     28.455000   29.075000   28.755000  ...   23.760000   25.230000   25.990000\n",
              "max    999.900000  999.900000  999.900000  ...  999.900000  999.900000  999.900000\n",
              "\n",
              "[8 rows x 17 columns]"
            ]
          },
          "metadata": {
            "tags": []
          },
          "execution_count": 8
        }
      ]
    },
    {
      "cell_type": "code",
      "metadata": {
        "id": "DYp15KLPk6iD",
        "colab_type": "code",
        "colab": {
          "base_uri": "https://localhost:8080/",
          "height": 235
        },
        "outputId": "c309bca2-98dd-48f6-da50-fedfb474589c"
      },
      "source": [
        "df.head()"
      ],
      "execution_count": 18,
      "outputs": [
        {
          "output_type": "execute_result",
          "data": {
            "text/html": [
              "<div>\n",
              "<style scoped>\n",
              "    .dataframe tbody tr th:only-of-type {\n",
              "        vertical-align: middle;\n",
              "    }\n",
              "\n",
              "    .dataframe tbody tr th {\n",
              "        vertical-align: top;\n",
              "    }\n",
              "\n",
              "    .dataframe thead th {\n",
              "        text-align: right;\n",
              "    }\n",
              "</style>\n",
              "<table border=\"1\" class=\"dataframe\">\n",
              "  <thead>\n",
              "    <tr style=\"text-align: right;\">\n",
              "      <th></th>\n",
              "      <th>JAN</th>\n",
              "      <th>FEB</th>\n",
              "      <th>MAR</th>\n",
              "      <th>APR</th>\n",
              "      <th>MAY</th>\n",
              "      <th>JUN</th>\n",
              "      <th>JUL</th>\n",
              "      <th>AUG</th>\n",
              "      <th>SEP</th>\n",
              "      <th>OCT</th>\n",
              "      <th>NOV</th>\n",
              "      <th>DEC</th>\n",
              "      <th>D-J-F</th>\n",
              "      <th>M-A-M</th>\n",
              "      <th>J-J-A</th>\n",
              "      <th>S-O-N</th>\n",
              "      <th>metANN</th>\n",
              "    </tr>\n",
              "    <tr>\n",
              "      <th>YEAR</th>\n",
              "      <th></th>\n",
              "      <th></th>\n",
              "      <th></th>\n",
              "      <th></th>\n",
              "      <th></th>\n",
              "      <th></th>\n",
              "      <th></th>\n",
              "      <th></th>\n",
              "      <th></th>\n",
              "      <th></th>\n",
              "      <th></th>\n",
              "      <th></th>\n",
              "      <th></th>\n",
              "      <th></th>\n",
              "      <th></th>\n",
              "      <th></th>\n",
              "      <th></th>\n",
              "    </tr>\n",
              "  </thead>\n",
              "  <tbody>\n",
              "    <tr>\n",
              "      <th>1961</th>\n",
              "      <td>26.09</td>\n",
              "      <td>27.29</td>\n",
              "      <td>27.08</td>\n",
              "      <td>26.35</td>\n",
              "      <td>999.90</td>\n",
              "      <td>22.58</td>\n",
              "      <td>21.90</td>\n",
              "      <td>23.14</td>\n",
              "      <td>25.10</td>\n",
              "      <td>24.92</td>\n",
              "      <td>25.41</td>\n",
              "      <td>25.54</td>\n",
              "      <td>26.25</td>\n",
              "      <td>25.92</td>\n",
              "      <td>22.54</td>\n",
              "      <td>25.14</td>\n",
              "      <td>24.96</td>\n",
              "    </tr>\n",
              "    <tr>\n",
              "      <th>1962</th>\n",
              "      <td>26.38</td>\n",
              "      <td>26.81</td>\n",
              "      <td>26.82</td>\n",
              "      <td>999.90</td>\n",
              "      <td>23.46</td>\n",
              "      <td>21.18</td>\n",
              "      <td>21.12</td>\n",
              "      <td>22.50</td>\n",
              "      <td>22.46</td>\n",
              "      <td>23.14</td>\n",
              "      <td>24.53</td>\n",
              "      <td>24.95</td>\n",
              "      <td>26.24</td>\n",
              "      <td>25.22</td>\n",
              "      <td>21.60</td>\n",
              "      <td>23.38</td>\n",
              "      <td>24.11</td>\n",
              "    </tr>\n",
              "    <tr>\n",
              "      <th>1963</th>\n",
              "      <td>27.59</td>\n",
              "      <td>26.73</td>\n",
              "      <td>999.90</td>\n",
              "      <td>25.56</td>\n",
              "      <td>23.31</td>\n",
              "      <td>21.98</td>\n",
              "      <td>21.75</td>\n",
              "      <td>21.87</td>\n",
              "      <td>23.78</td>\n",
              "      <td>24.82</td>\n",
              "      <td>25.69</td>\n",
              "      <td>24.78</td>\n",
              "      <td>26.42</td>\n",
              "      <td>25.15</td>\n",
              "      <td>21.87</td>\n",
              "      <td>24.76</td>\n",
              "      <td>24.55</td>\n",
              "    </tr>\n",
              "    <tr>\n",
              "      <th>1964</th>\n",
              "      <td>25.28</td>\n",
              "      <td>999.90</td>\n",
              "      <td>999.90</td>\n",
              "      <td>999.90</td>\n",
              "      <td>999.90</td>\n",
              "      <td>22.02</td>\n",
              "      <td>20.24</td>\n",
              "      <td>21.84</td>\n",
              "      <td>22.41</td>\n",
              "      <td>23.23</td>\n",
              "      <td>23.49</td>\n",
              "      <td>25.06</td>\n",
              "      <td>25.39</td>\n",
              "      <td>999.90</td>\n",
              "      <td>21.37</td>\n",
              "      <td>23.04</td>\n",
              "      <td>23.56</td>\n",
              "    </tr>\n",
              "    <tr>\n",
              "      <th>1965</th>\n",
              "      <td>25.65</td>\n",
              "      <td>27.18</td>\n",
              "      <td>26.40</td>\n",
              "      <td>25.48</td>\n",
              "      <td>24.09</td>\n",
              "      <td>23.07</td>\n",
              "      <td>22.46</td>\n",
              "      <td>23.64</td>\n",
              "      <td>24.19</td>\n",
              "      <td>23.77</td>\n",
              "      <td>999.90</td>\n",
              "      <td>27.54</td>\n",
              "      <td>25.96</td>\n",
              "      <td>25.32</td>\n",
              "      <td>23.06</td>\n",
              "      <td>24.39</td>\n",
              "      <td>24.68</td>\n",
              "    </tr>\n",
              "  </tbody>\n",
              "</table>\n",
              "</div>"
            ],
            "text/plain": [
              "        JAN     FEB     MAR     APR  ...   M-A-M  J-J-A  S-O-N  metANN\n",
              "YEAR                                 ...                              \n",
              "1961  26.09   27.29   27.08   26.35  ...   25.92  22.54  25.14   24.96\n",
              "1962  26.38   26.81   26.82  999.90  ...   25.22  21.60  23.38   24.11\n",
              "1963  27.59   26.73  999.90   25.56  ...   25.15  21.87  24.76   24.55\n",
              "1964  25.28  999.90  999.90  999.90  ...  999.90  21.37  23.04   23.56\n",
              "1965  25.65   27.18   26.40   25.48  ...   25.32  23.06  24.39   24.68\n",
              "\n",
              "[5 rows x 17 columns]"
            ]
          },
          "metadata": {
            "tags": []
          },
          "execution_count": 18
        }
      ]
    },
    {
      "cell_type": "markdown",
      "metadata": {
        "id": "AvhC8DX7tQxV",
        "colab_type": "text"
      },
      "source": [
        "Como podemos perceber, o velor \"999.90\" está cumprindo a função de Missing Value, portanto esse dataset precisará ser tratado"
      ]
    },
    {
      "cell_type": "markdown",
      "metadata": {
        "id": "MI4UvUKBNvVm",
        "colab_type": "text"
      },
      "source": [
        ""
      ]
    },
    {
      "cell_type": "markdown",
      "metadata": {
        "id": "oTvorWJ7NvZJ",
        "colab_type": "text"
      },
      "source": [
        "### Data Cleaning "
      ]
    },
    {
      "cell_type": "code",
      "metadata": {
        "id": "GtY0XSEdzrhQ",
        "colab_type": "code",
        "colab": {}
      },
      "source": [
        "df.replace(999.90, np.nan, inplace = True)"
      ],
      "execution_count": 0,
      "outputs": []
    },
    {
      "cell_type": "code",
      "metadata": {
        "id": "1kc7_hOuzeil",
        "colab_type": "code",
        "colab": {
          "base_uri": "https://localhost:8080/",
          "height": 235
        },
        "outputId": "da8c2bec-77b9-4d5e-ac31-efdae4e2f0e4"
      },
      "source": [
        "df.head()"
      ],
      "execution_count": 31,
      "outputs": [
        {
          "output_type": "execute_result",
          "data": {
            "text/html": [
              "<div>\n",
              "<style scoped>\n",
              "    .dataframe tbody tr th:only-of-type {\n",
              "        vertical-align: middle;\n",
              "    }\n",
              "\n",
              "    .dataframe tbody tr th {\n",
              "        vertical-align: top;\n",
              "    }\n",
              "\n",
              "    .dataframe thead th {\n",
              "        text-align: right;\n",
              "    }\n",
              "</style>\n",
              "<table border=\"1\" class=\"dataframe\">\n",
              "  <thead>\n",
              "    <tr style=\"text-align: right;\">\n",
              "      <th></th>\n",
              "      <th>JAN</th>\n",
              "      <th>FEB</th>\n",
              "      <th>MAR</th>\n",
              "      <th>APR</th>\n",
              "      <th>MAY</th>\n",
              "      <th>JUN</th>\n",
              "      <th>JUL</th>\n",
              "      <th>AUG</th>\n",
              "      <th>SEP</th>\n",
              "      <th>OCT</th>\n",
              "      <th>NOV</th>\n",
              "      <th>DEC</th>\n",
              "      <th>D-J-F</th>\n",
              "      <th>M-A-M</th>\n",
              "      <th>J-J-A</th>\n",
              "      <th>S-O-N</th>\n",
              "      <th>metANN</th>\n",
              "    </tr>\n",
              "    <tr>\n",
              "      <th>YEAR</th>\n",
              "      <th></th>\n",
              "      <th></th>\n",
              "      <th></th>\n",
              "      <th></th>\n",
              "      <th></th>\n",
              "      <th></th>\n",
              "      <th></th>\n",
              "      <th></th>\n",
              "      <th></th>\n",
              "      <th></th>\n",
              "      <th></th>\n",
              "      <th></th>\n",
              "      <th></th>\n",
              "      <th></th>\n",
              "      <th></th>\n",
              "      <th></th>\n",
              "      <th></th>\n",
              "    </tr>\n",
              "  </thead>\n",
              "  <tbody>\n",
              "    <tr>\n",
              "      <th>1961</th>\n",
              "      <td>26.09</td>\n",
              "      <td>27.29</td>\n",
              "      <td>27.08</td>\n",
              "      <td>26.35</td>\n",
              "      <td>NaN</td>\n",
              "      <td>22.58</td>\n",
              "      <td>21.90</td>\n",
              "      <td>23.14</td>\n",
              "      <td>25.10</td>\n",
              "      <td>24.92</td>\n",
              "      <td>25.41</td>\n",
              "      <td>25.54</td>\n",
              "      <td>26.25</td>\n",
              "      <td>25.92</td>\n",
              "      <td>22.54</td>\n",
              "      <td>25.14</td>\n",
              "      <td>24.96</td>\n",
              "    </tr>\n",
              "    <tr>\n",
              "      <th>1962</th>\n",
              "      <td>26.38</td>\n",
              "      <td>26.81</td>\n",
              "      <td>26.82</td>\n",
              "      <td>NaN</td>\n",
              "      <td>23.46</td>\n",
              "      <td>21.18</td>\n",
              "      <td>21.12</td>\n",
              "      <td>22.50</td>\n",
              "      <td>22.46</td>\n",
              "      <td>23.14</td>\n",
              "      <td>24.53</td>\n",
              "      <td>24.95</td>\n",
              "      <td>26.24</td>\n",
              "      <td>25.22</td>\n",
              "      <td>21.60</td>\n",
              "      <td>23.38</td>\n",
              "      <td>24.11</td>\n",
              "    </tr>\n",
              "    <tr>\n",
              "      <th>1963</th>\n",
              "      <td>27.59</td>\n",
              "      <td>26.73</td>\n",
              "      <td>NaN</td>\n",
              "      <td>25.56</td>\n",
              "      <td>23.31</td>\n",
              "      <td>21.98</td>\n",
              "      <td>21.75</td>\n",
              "      <td>21.87</td>\n",
              "      <td>23.78</td>\n",
              "      <td>24.82</td>\n",
              "      <td>25.69</td>\n",
              "      <td>24.78</td>\n",
              "      <td>26.42</td>\n",
              "      <td>25.15</td>\n",
              "      <td>21.87</td>\n",
              "      <td>24.76</td>\n",
              "      <td>24.55</td>\n",
              "    </tr>\n",
              "    <tr>\n",
              "      <th>1964</th>\n",
              "      <td>25.28</td>\n",
              "      <td>NaN</td>\n",
              "      <td>NaN</td>\n",
              "      <td>NaN</td>\n",
              "      <td>NaN</td>\n",
              "      <td>22.02</td>\n",
              "      <td>20.24</td>\n",
              "      <td>21.84</td>\n",
              "      <td>22.41</td>\n",
              "      <td>23.23</td>\n",
              "      <td>23.49</td>\n",
              "      <td>25.06</td>\n",
              "      <td>25.39</td>\n",
              "      <td>NaN</td>\n",
              "      <td>21.37</td>\n",
              "      <td>23.04</td>\n",
              "      <td>23.56</td>\n",
              "    </tr>\n",
              "    <tr>\n",
              "      <th>1965</th>\n",
              "      <td>25.65</td>\n",
              "      <td>27.18</td>\n",
              "      <td>26.40</td>\n",
              "      <td>25.48</td>\n",
              "      <td>24.09</td>\n",
              "      <td>23.07</td>\n",
              "      <td>22.46</td>\n",
              "      <td>23.64</td>\n",
              "      <td>24.19</td>\n",
              "      <td>23.77</td>\n",
              "      <td>NaN</td>\n",
              "      <td>27.54</td>\n",
              "      <td>25.96</td>\n",
              "      <td>25.32</td>\n",
              "      <td>23.06</td>\n",
              "      <td>24.39</td>\n",
              "      <td>24.68</td>\n",
              "    </tr>\n",
              "  </tbody>\n",
              "</table>\n",
              "</div>"
            ],
            "text/plain": [
              "        JAN    FEB    MAR    APR    MAY  ...  D-J-F  M-A-M  J-J-A  S-O-N  metANN\n",
              "YEAR                                     ...                                    \n",
              "1961  26.09  27.29  27.08  26.35    NaN  ...  26.25  25.92  22.54  25.14   24.96\n",
              "1962  26.38  26.81  26.82    NaN  23.46  ...  26.24  25.22  21.60  23.38   24.11\n",
              "1963  27.59  26.73    NaN  25.56  23.31  ...  26.42  25.15  21.87  24.76   24.55\n",
              "1964  25.28    NaN    NaN    NaN    NaN  ...  25.39    NaN  21.37  23.04   23.56\n",
              "1965  25.65  27.18  26.40  25.48  24.09  ...  25.96  25.32  23.06  24.39   24.68\n",
              "\n",
              "[5 rows x 17 columns]"
            ]
          },
          "metadata": {
            "tags": []
          },
          "execution_count": 31
        }
      ]
    },
    {
      "cell_type": "code",
      "metadata": {
        "id": "q35FFcwg0HyC",
        "colab_type": "code",
        "colab": {
          "base_uri": "https://localhost:8080/",
          "height": 68
        },
        "outputId": "a55e2429-2d9a-4b9e-b00d-652b0ad90547"
      },
      "source": [
        "print(df.shape)\n",
        "print('Total de dados:', df.shape[0]*df.shape[1])\n",
        "print('Total de valores faltantes:',df.isnull().sum().sum())"
      ],
      "execution_count": 38,
      "outputs": [
        {
          "output_type": "stream",
          "text": [
            "(59, 17)\n",
            "Total de dados: 1003\n",
            "Total de valores faltantes: 173\n"
          ],
          "name": "stdout"
        }
      ]
    },
    {
      "cell_type": "markdown",
      "metadata": {
        "id": "vUlSj60fN6D2",
        "colab_type": "text"
      },
      "source": [
        "### Tratando os [Missing Values](https://medium.com/@marcelofelippe.mfg/lidando-com-missing-values-no-python-8f71115dcce5)"
      ]
    },
    {
      "cell_type": "code",
      "metadata": {
        "id": "1CLF1UPh3GVN",
        "colab_type": "code",
        "colab": {
          "base_uri": "https://localhost:8080/",
          "height": 153
        },
        "outputId": "68b128d7-4504-48e8-95f0-f4b1b7a545c2"
      },
      "source": [
        "pip install impyute"
      ],
      "execution_count": 46,
      "outputs": [
        {
          "output_type": "stream",
          "text": [
            "Collecting impyute\n",
            "  Downloading https://files.pythonhosted.org/packages/37/28/86829f67c9affb847facaab94687761d3555539ec675f7577778c5b2680a/impyute-0.0.8-py2.py3-none-any.whl\n",
            "Requirement already satisfied: numpy in /usr/local/lib/python3.6/dist-packages (from impyute) (1.17.5)\n",
            "Requirement already satisfied: scikit-learn in /usr/local/lib/python3.6/dist-packages (from impyute) (0.22.1)\n",
            "Requirement already satisfied: scipy in /usr/local/lib/python3.6/dist-packages (from impyute) (1.4.1)\n",
            "Requirement already satisfied: joblib>=0.11 in /usr/local/lib/python3.6/dist-packages (from scikit-learn->impyute) (0.14.1)\n",
            "Installing collected packages: impyute\n",
            "Successfully installed impyute-0.0.8\n"
          ],
          "name": "stdout"
        }
      ]
    },
    {
      "cell_type": "code",
      "metadata": {
        "id": "BosJHuPV3Kzh",
        "colab_type": "code",
        "colab": {}
      },
      "source": [
        "import sys\n",
        "from impyute.imputation.cs import fast_knn\n",
        "sys.setrecursionlimit(100000) #Increase the recursion limit of the OS\n",
        "\n",
        "# start the KNN training\n",
        "imputed_df=fast_knn(df.values, k=5)"
      ],
      "execution_count": 0,
      "outputs": []
    },
    {
      "cell_type": "code",
      "metadata": {
        "id": "XmVZF8yk2fQv",
        "colab_type": "code",
        "colab": {}
      },
      "source": [
        "imputed_df = pd.DataFrame(imputed_df)\n",
        "imputed_df.columns = df.columns\n",
        "imputed_df.index = df.index"
      ],
      "execution_count": 0,
      "outputs": []
    },
    {
      "cell_type": "code",
      "metadata": {
        "id": "R7iVYh323fW0",
        "colab_type": "code",
        "colab": {
          "base_uri": "https://localhost:8080/",
          "height": 235
        },
        "outputId": "a35b3c49-5f39-4e6d-f316-de9f52200335"
      },
      "source": [
        "imputed_df.head()"
      ],
      "execution_count": 51,
      "outputs": [
        {
          "output_type": "execute_result",
          "data": {
            "text/html": [
              "<div>\n",
              "<style scoped>\n",
              "    .dataframe tbody tr th:only-of-type {\n",
              "        vertical-align: middle;\n",
              "    }\n",
              "\n",
              "    .dataframe tbody tr th {\n",
              "        vertical-align: top;\n",
              "    }\n",
              "\n",
              "    .dataframe thead th {\n",
              "        text-align: right;\n",
              "    }\n",
              "</style>\n",
              "<table border=\"1\" class=\"dataframe\">\n",
              "  <thead>\n",
              "    <tr style=\"text-align: right;\">\n",
              "      <th></th>\n",
              "      <th>JAN</th>\n",
              "      <th>FEB</th>\n",
              "      <th>MAR</th>\n",
              "      <th>APR</th>\n",
              "      <th>MAY</th>\n",
              "      <th>JUN</th>\n",
              "      <th>JUL</th>\n",
              "      <th>AUG</th>\n",
              "      <th>SEP</th>\n",
              "      <th>OCT</th>\n",
              "      <th>NOV</th>\n",
              "      <th>DEC</th>\n",
              "      <th>D-J-F</th>\n",
              "      <th>M-A-M</th>\n",
              "      <th>J-J-A</th>\n",
              "      <th>S-O-N</th>\n",
              "      <th>metANN</th>\n",
              "    </tr>\n",
              "    <tr>\n",
              "      <th>YEAR</th>\n",
              "      <th></th>\n",
              "      <th></th>\n",
              "      <th></th>\n",
              "      <th></th>\n",
              "      <th></th>\n",
              "      <th></th>\n",
              "      <th></th>\n",
              "      <th></th>\n",
              "      <th></th>\n",
              "      <th></th>\n",
              "      <th></th>\n",
              "      <th></th>\n",
              "      <th></th>\n",
              "      <th></th>\n",
              "      <th></th>\n",
              "      <th></th>\n",
              "      <th></th>\n",
              "    </tr>\n",
              "  </thead>\n",
              "  <tbody>\n",
              "    <tr>\n",
              "      <th>1961</th>\n",
              "      <td>26.09</td>\n",
              "      <td>27.290000</td>\n",
              "      <td>27.080000</td>\n",
              "      <td>26.350000</td>\n",
              "      <td>24.436574</td>\n",
              "      <td>22.58</td>\n",
              "      <td>21.90</td>\n",
              "      <td>23.14</td>\n",
              "      <td>25.10</td>\n",
              "      <td>24.92</td>\n",
              "      <td>25.410000</td>\n",
              "      <td>25.54</td>\n",
              "      <td>26.25</td>\n",
              "      <td>25.920000</td>\n",
              "      <td>22.54</td>\n",
              "      <td>25.14</td>\n",
              "      <td>24.96</td>\n",
              "    </tr>\n",
              "    <tr>\n",
              "      <th>1962</th>\n",
              "      <td>26.38</td>\n",
              "      <td>26.810000</td>\n",
              "      <td>26.820000</td>\n",
              "      <td>25.775881</td>\n",
              "      <td>23.460000</td>\n",
              "      <td>21.18</td>\n",
              "      <td>21.12</td>\n",
              "      <td>22.50</td>\n",
              "      <td>22.46</td>\n",
              "      <td>23.14</td>\n",
              "      <td>24.530000</td>\n",
              "      <td>24.95</td>\n",
              "      <td>26.24</td>\n",
              "      <td>25.220000</td>\n",
              "      <td>21.60</td>\n",
              "      <td>23.38</td>\n",
              "      <td>24.11</td>\n",
              "    </tr>\n",
              "    <tr>\n",
              "      <th>1963</th>\n",
              "      <td>27.59</td>\n",
              "      <td>26.730000</td>\n",
              "      <td>27.011329</td>\n",
              "      <td>25.560000</td>\n",
              "      <td>23.310000</td>\n",
              "      <td>21.98</td>\n",
              "      <td>21.75</td>\n",
              "      <td>21.87</td>\n",
              "      <td>23.78</td>\n",
              "      <td>24.82</td>\n",
              "      <td>25.690000</td>\n",
              "      <td>24.78</td>\n",
              "      <td>26.42</td>\n",
              "      <td>25.150000</td>\n",
              "      <td>21.87</td>\n",
              "      <td>24.76</td>\n",
              "      <td>24.55</td>\n",
              "    </tr>\n",
              "    <tr>\n",
              "      <th>1964</th>\n",
              "      <td>25.28</td>\n",
              "      <td>27.606785</td>\n",
              "      <td>27.315737</td>\n",
              "      <td>26.113436</td>\n",
              "      <td>24.239626</td>\n",
              "      <td>22.02</td>\n",
              "      <td>20.24</td>\n",
              "      <td>21.84</td>\n",
              "      <td>22.41</td>\n",
              "      <td>23.23</td>\n",
              "      <td>23.490000</td>\n",
              "      <td>25.06</td>\n",
              "      <td>25.39</td>\n",
              "      <td>25.843953</td>\n",
              "      <td>21.37</td>\n",
              "      <td>23.04</td>\n",
              "      <td>23.56</td>\n",
              "    </tr>\n",
              "    <tr>\n",
              "      <th>1965</th>\n",
              "      <td>25.65</td>\n",
              "      <td>27.180000</td>\n",
              "      <td>26.400000</td>\n",
              "      <td>25.480000</td>\n",
              "      <td>24.090000</td>\n",
              "      <td>23.07</td>\n",
              "      <td>22.46</td>\n",
              "      <td>23.64</td>\n",
              "      <td>24.19</td>\n",
              "      <td>23.77</td>\n",
              "      <td>25.237477</td>\n",
              "      <td>27.54</td>\n",
              "      <td>25.96</td>\n",
              "      <td>25.320000</td>\n",
              "      <td>23.06</td>\n",
              "      <td>24.39</td>\n",
              "      <td>24.68</td>\n",
              "    </tr>\n",
              "  </tbody>\n",
              "</table>\n",
              "</div>"
            ],
            "text/plain": [
              "        JAN        FEB        MAR        APR  ...      M-A-M  J-J-A  S-O-N  metANN\n",
              "YEAR                                          ...                                 \n",
              "1961  26.09  27.290000  27.080000  26.350000  ...  25.920000  22.54  25.14   24.96\n",
              "1962  26.38  26.810000  26.820000  25.775881  ...  25.220000  21.60  23.38   24.11\n",
              "1963  27.59  26.730000  27.011329  25.560000  ...  25.150000  21.87  24.76   24.55\n",
              "1964  25.28  27.606785  27.315737  26.113436  ...  25.843953  21.37  23.04   23.56\n",
              "1965  25.65  27.180000  26.400000  25.480000  ...  25.320000  23.06  24.39   24.68\n",
              "\n",
              "[5 rows x 17 columns]"
            ]
          },
          "metadata": {
            "tags": []
          },
          "execution_count": 51
        }
      ]
    },
    {
      "cell_type": "markdown",
      "metadata": {
        "id": "_Qtrxj-EOLR0",
        "colab_type": "text"
      },
      "source": [
        "### Separando o Dataset"
      ]
    },
    {
      "cell_type": "markdown",
      "metadata": {
        "id": "f1ISRfuCOTXc",
        "colab_type": "text"
      },
      "source": [
        "Como podemos notar, temos a temperatura de cada mês e depois a temperatura média de cada ano. Portanto, dividirei o dataset em dois:\n",
        "1. Um dataset com registro de temperatura por mês para cada ano \n",
        "2. Um dataset com a temperatura média de cada ano"
      ]
    },
    {
      "cell_type": "code",
      "metadata": {
        "id": "RFimvSZoH085",
        "colab_type": "code",
        "colab": {}
      },
      "source": [
        "avg_temp = imputed_df[[\"metANN\"]]\n",
        "df_years = imputed_df.loc[:, : \"DEC\"]"
      ],
      "execution_count": 0,
      "outputs": []
    },
    {
      "cell_type": "code",
      "metadata": {
        "id": "GXglNs9M5z3_",
        "colab_type": "code",
        "colab": {
          "base_uri": "https://localhost:8080/",
          "height": 235
        },
        "outputId": "3413f957-d576-4472-e393-df628f769e9d"
      },
      "source": [
        "df_years.tail()"
      ],
      "execution_count": 82,
      "outputs": [
        {
          "output_type": "execute_result",
          "data": {
            "text/html": [
              "<div>\n",
              "<style scoped>\n",
              "    .dataframe tbody tr th:only-of-type {\n",
              "        vertical-align: middle;\n",
              "    }\n",
              "\n",
              "    .dataframe tbody tr th {\n",
              "        vertical-align: top;\n",
              "    }\n",
              "\n",
              "    .dataframe thead th {\n",
              "        text-align: right;\n",
              "    }\n",
              "</style>\n",
              "<table border=\"1\" class=\"dataframe\">\n",
              "  <thead>\n",
              "    <tr style=\"text-align: right;\">\n",
              "      <th></th>\n",
              "      <th>JAN</th>\n",
              "      <th>FEB</th>\n",
              "      <th>MAR</th>\n",
              "      <th>APR</th>\n",
              "      <th>MAY</th>\n",
              "      <th>JUN</th>\n",
              "      <th>JUL</th>\n",
              "      <th>AUG</th>\n",
              "      <th>SEP</th>\n",
              "      <th>OCT</th>\n",
              "      <th>NOV</th>\n",
              "      <th>DEC</th>\n",
              "    </tr>\n",
              "    <tr>\n",
              "      <th>YEAR</th>\n",
              "      <th></th>\n",
              "      <th></th>\n",
              "      <th></th>\n",
              "      <th></th>\n",
              "      <th></th>\n",
              "      <th></th>\n",
              "      <th></th>\n",
              "      <th></th>\n",
              "      <th></th>\n",
              "      <th></th>\n",
              "      <th></th>\n",
              "      <th></th>\n",
              "    </tr>\n",
              "  </thead>\n",
              "  <tbody>\n",
              "    <tr>\n",
              "      <th>2015</th>\n",
              "      <td>28.95</td>\n",
              "      <td>29.05</td>\n",
              "      <td>28.55</td>\n",
              "      <td>26.90</td>\n",
              "      <td>24.30</td>\n",
              "      <td>24.15</td>\n",
              "      <td>23.455846</td>\n",
              "      <td>24.20</td>\n",
              "      <td>26.15</td>\n",
              "      <td>26.65</td>\n",
              "      <td>28.30000</td>\n",
              "      <td>29.050000</td>\n",
              "    </tr>\n",
              "    <tr>\n",
              "      <th>2016</th>\n",
              "      <td>27.85</td>\n",
              "      <td>30.00</td>\n",
              "      <td>28.95</td>\n",
              "      <td>28.50</td>\n",
              "      <td>25.70</td>\n",
              "      <td>23.15</td>\n",
              "      <td>23.800000</td>\n",
              "      <td>24.25</td>\n",
              "      <td>24.95</td>\n",
              "      <td>24.80</td>\n",
              "      <td>25.50000</td>\n",
              "      <td>27.600000</td>\n",
              "    </tr>\n",
              "    <tr>\n",
              "      <th>2017</th>\n",
              "      <td>29.10</td>\n",
              "      <td>28.40</td>\n",
              "      <td>28.10</td>\n",
              "      <td>26.35</td>\n",
              "      <td>24.30</td>\n",
              "      <td>24.65</td>\n",
              "      <td>21.950000</td>\n",
              "      <td>22.25</td>\n",
              "      <td>23.10</td>\n",
              "      <td>25.85</td>\n",
              "      <td>25.25000</td>\n",
              "      <td>26.700000</td>\n",
              "    </tr>\n",
              "    <tr>\n",
              "      <th>2018</th>\n",
              "      <td>28.60</td>\n",
              "      <td>27.50</td>\n",
              "      <td>28.35</td>\n",
              "      <td>25.95</td>\n",
              "      <td>24.45</td>\n",
              "      <td>24.25</td>\n",
              "      <td>24.250000</td>\n",
              "      <td>23.30</td>\n",
              "      <td>24.80</td>\n",
              "      <td>25.50</td>\n",
              "      <td>25.95000</td>\n",
              "      <td>27.250000</td>\n",
              "    </tr>\n",
              "    <tr>\n",
              "      <th>2019</th>\n",
              "      <td>29.35</td>\n",
              "      <td>29.65</td>\n",
              "      <td>28.90</td>\n",
              "      <td>28.05</td>\n",
              "      <td>26.60</td>\n",
              "      <td>25.10</td>\n",
              "      <td>23.250000</td>\n",
              "      <td>23.05</td>\n",
              "      <td>24.95</td>\n",
              "      <td>25.90</td>\n",
              "      <td>25.59675</td>\n",
              "      <td>26.963385</td>\n",
              "    </tr>\n",
              "  </tbody>\n",
              "</table>\n",
              "</div>"
            ],
            "text/plain": [
              "        JAN    FEB    MAR    APR  ...    SEP    OCT       NOV        DEC\n",
              "YEAR                              ...                                   \n",
              "2015  28.95  29.05  28.55  26.90  ...  26.15  26.65  28.30000  29.050000\n",
              "2016  27.85  30.00  28.95  28.50  ...  24.95  24.80  25.50000  27.600000\n",
              "2017  29.10  28.40  28.10  26.35  ...  23.10  25.85  25.25000  26.700000\n",
              "2018  28.60  27.50  28.35  25.95  ...  24.80  25.50  25.95000  27.250000\n",
              "2019  29.35  29.65  28.90  28.05  ...  24.95  25.90  25.59675  26.963385\n",
              "\n",
              "[5 rows x 12 columns]"
            ]
          },
          "metadata": {
            "tags": []
          },
          "execution_count": 82
        }
      ]
    },
    {
      "cell_type": "code",
      "metadata": {
        "id": "igHX6-pyIZMP",
        "colab_type": "code",
        "colab": {
          "base_uri": "https://localhost:8080/",
          "height": 235
        },
        "outputId": "307f9201-cde0-4a25-9764-eabc0ef8fc8c"
      },
      "source": [
        "avg_temp.head()"
      ],
      "execution_count": 81,
      "outputs": [
        {
          "output_type": "execute_result",
          "data": {
            "text/html": [
              "<div>\n",
              "<style scoped>\n",
              "    .dataframe tbody tr th:only-of-type {\n",
              "        vertical-align: middle;\n",
              "    }\n",
              "\n",
              "    .dataframe tbody tr th {\n",
              "        vertical-align: top;\n",
              "    }\n",
              "\n",
              "    .dataframe thead th {\n",
              "        text-align: right;\n",
              "    }\n",
              "</style>\n",
              "<table border=\"1\" class=\"dataframe\">\n",
              "  <thead>\n",
              "    <tr style=\"text-align: right;\">\n",
              "      <th></th>\n",
              "      <th>metANN</th>\n",
              "    </tr>\n",
              "    <tr>\n",
              "      <th>YEAR</th>\n",
              "      <th></th>\n",
              "    </tr>\n",
              "  </thead>\n",
              "  <tbody>\n",
              "    <tr>\n",
              "      <th>1961</th>\n",
              "      <td>24.96</td>\n",
              "    </tr>\n",
              "    <tr>\n",
              "      <th>1962</th>\n",
              "      <td>24.11</td>\n",
              "    </tr>\n",
              "    <tr>\n",
              "      <th>1963</th>\n",
              "      <td>24.55</td>\n",
              "    </tr>\n",
              "    <tr>\n",
              "      <th>1964</th>\n",
              "      <td>23.56</td>\n",
              "    </tr>\n",
              "    <tr>\n",
              "      <th>1965</th>\n",
              "      <td>24.68</td>\n",
              "    </tr>\n",
              "  </tbody>\n",
              "</table>\n",
              "</div>"
            ],
            "text/plain": [
              "      metANN\n",
              "YEAR        \n",
              "1961   24.96\n",
              "1962   24.11\n",
              "1963   24.55\n",
              "1964   23.56\n",
              "1965   24.68"
            ]
          },
          "metadata": {
            "tags": []
          },
          "execution_count": 81
        }
      ]
    },
    {
      "cell_type": "markdown",
      "metadata": {
        "id": "iPTinYj6QZZd",
        "colab_type": "text"
      },
      "source": [
        "### Visualizando os registros"
      ]
    },
    {
      "cell_type": "code",
      "metadata": {
        "id": "c2NPyKhePvBW",
        "colab_type": "code",
        "colab": {
          "base_uri": "https://localhost:8080/",
          "height": 391
        },
        "outputId": "4ce66cfc-3aad-4728-9f06-4c719b0e56d8"
      },
      "source": [
        "plt.figure(figsize=(10,6))\n",
        "plt.plot(avg_temp)"
      ],
      "execution_count": 87,
      "outputs": [
        {
          "output_type": "execute_result",
          "data": {
            "text/plain": [
              "[<matplotlib.lines.Line2D at 0x7fa3da5c8fd0>]"
            ]
          },
          "metadata": {
            "tags": []
          },
          "execution_count": 87
        },
        {
          "output_type": "display_data",
          "data": {
            "image/png": "[encoded data removed]",
            "text/plain": [
              "<Figure size 720x432 with 1 Axes>"
            ]
          },
          "metadata": {
            "tags": []
          }
        }
      ]
    },
    {
      "cell_type": "markdown",
      "metadata": {
        "id": "BTIY6QF0hzbo",
        "colab_type": "text"
      },
      "source": [
        "### Observando o primeiro e último ano de registros"
      ]
    },
    {
      "cell_type": "code",
      "metadata": {
        "id": "EJV8iRYBQksO",
        "colab_type": "code",
        "colab": {}
      },
      "source": [
        "last = pd.DataFrame(df_years.iloc[-1,:].T)\n",
        "first = pd.DataFrame(df_years.iloc[0,:].T)"
      ],
      "execution_count": 0,
      "outputs": []
    },
    {
      "cell_type": "code",
      "metadata": {
        "id": "SKcviO0lSntx",
        "colab_type": "code",
        "colab": {
          "base_uri": "https://localhost:8080/",
          "height": 421
        },
        "outputId": "6f3ac5ad-8fe1-4c11-8f8a-cf4d808b6565"
      },
      "source": [
        "last"
      ],
      "execution_count": 99,
      "outputs": [
        {
          "output_type": "execute_result",
          "data": {
            "text/html": [
              "<div>\n",
              "<style scoped>\n",
              "    .dataframe tbody tr th:only-of-type {\n",
              "        vertical-align: middle;\n",
              "    }\n",
              "\n",
              "    .dataframe tbody tr th {\n",
              "        vertical-align: top;\n",
              "    }\n",
              "\n",
              "    .dataframe thead th {\n",
              "        text-align: right;\n",
              "    }\n",
              "</style>\n",
              "<table border=\"1\" class=\"dataframe\">\n",
              "  <thead>\n",
              "    <tr style=\"text-align: right;\">\n",
              "      <th></th>\n",
              "      <th>2019</th>\n",
              "    </tr>\n",
              "  </thead>\n",
              "  <tbody>\n",
              "    <tr>\n",
              "      <th>JAN</th>\n",
              "      <td>29.350000</td>\n",
              "    </tr>\n",
              "    <tr>\n",
              "      <th>FEB</th>\n",
              "      <td>29.650000</td>\n",
              "    </tr>\n",
              "    <tr>\n",
              "      <th>MAR</th>\n",
              "      <td>28.900000</td>\n",
              "    </tr>\n",
              "    <tr>\n",
              "      <th>APR</th>\n",
              "      <td>28.050000</td>\n",
              "    </tr>\n",
              "    <tr>\n",
              "      <th>MAY</th>\n",
              "      <td>26.600000</td>\n",
              "    </tr>\n",
              "    <tr>\n",
              "      <th>JUN</th>\n",
              "      <td>25.100000</td>\n",
              "    </tr>\n",
              "    <tr>\n",
              "      <th>JUL</th>\n",
              "      <td>23.250000</td>\n",
              "    </tr>\n",
              "    <tr>\n",
              "      <th>AUG</th>\n",
              "      <td>23.050000</td>\n",
              "    </tr>\n",
              "    <tr>\n",
              "      <th>SEP</th>\n",
              "      <td>24.950000</td>\n",
              "    </tr>\n",
              "    <tr>\n",
              "      <th>OCT</th>\n",
              "      <td>25.900000</td>\n",
              "    </tr>\n",
              "    <tr>\n",
              "      <th>NOV</th>\n",
              "      <td>25.596750</td>\n",
              "    </tr>\n",
              "    <tr>\n",
              "      <th>DEC</th>\n",
              "      <td>26.963385</td>\n",
              "    </tr>\n",
              "  </tbody>\n",
              "</table>\n",
              "</div>"
            ],
            "text/plain": [
              "          2019\n",
              "JAN  29.350000\n",
              "FEB  29.650000\n",
              "MAR  28.900000\n",
              "APR  28.050000\n",
              "MAY  26.600000\n",
              "JUN  25.100000\n",
              "JUL  23.250000\n",
              "AUG  23.050000\n",
              "SEP  24.950000\n",
              "OCT  25.900000\n",
              "NOV  25.596750\n",
              "DEC  26.963385"
            ]
          },
          "metadata": {
            "tags": []
          },
          "execution_count": 99
        }
      ]
    },
    {
      "cell_type": "code",
      "metadata": {
        "id": "iXFCQM4ASvPK",
        "colab_type": "code",
        "colab": {
          "base_uri": "https://localhost:8080/",
          "height": 285
        },
        "outputId": "f9d71b41-8c90-4061-edc2-0a61876687ab"
      },
      "source": [
        "plt.plot(last, color = \"green\")\n",
        "plt.plot(first, color = \"blue\")\n",
        "plt.legend([\"2019\",\"1961\"])"
      ],
      "execution_count": 156,
      "outputs": [
        {
          "output_type": "execute_result",
          "data": {
            "text/plain": [
              "<matplotlib.legend.Legend at 0x7fa3d9d25320>"
            ]
          },
          "metadata": {
            "tags": []
          },
          "execution_count": 156
        },
        {
          "output_type": "display_data",
          "data": {
            "image/png": "[encoded data removed]",
            "text/plain": [
              "<Figure size 432x288 with 1 Axes>"
            ]
          },
          "metadata": {
            "tags": []
          }
        }
      ]
    },
    {
      "cell_type": "code",
      "metadata": {
        "id": "dIyXt4vlVcPz",
        "colab_type": "code",
        "colab": {
          "base_uri": "https://localhost:8080/",
          "height": 85
        },
        "outputId": "a7dec478-ffc8-4ecd-db0f-66dcc5bf441e"
      },
      "source": [
        "print(last.mean())\n",
        "print(first.mean())"
      ],
      "execution_count": 122,
      "outputs": [
        {
          "output_type": "stream",
          "text": [
            "2019    26.446678\n",
            "dtype: float64\n",
            "1961    24.986381\n",
            "dtype: float64\n"
          ],
          "name": "stdout"
        }
      ]
    },
    {
      "cell_type": "markdown",
      "metadata": {
        "id": "aC1LJj03U-R6",
        "colab_type": "text"
      },
      "source": [
        "Através desses dados, percebemos que comparados o primeiro e último registro, os anos de 2019 e de 1961, respectivamente, a temperatura média subiu cerca de 1.46 °C com o passar do tempo. Ou seja, aumentou o dobro que a temperatura média do planeta nesse mesmo período "
      ]
    },
    {
      "cell_type": "code",
      "metadata": {
        "id": "c3yBDx58Z-pO",
        "colab_type": "code",
        "colab": {
          "base_uri": "https://localhost:8080/",
          "height": 34
        },
        "outputId": "930cfe81-129a-4053-fea3-c65fe9b7c3c2"
      },
      "source": [
        "df_years.shape"
      ],
      "execution_count": 129,
      "outputs": [
        {
          "output_type": "execute_result",
          "data": {
            "text/plain": [
              "(59, 12)"
            ]
          },
          "metadata": {
            "tags": []
          },
          "execution_count": 129
        }
      ]
    },
    {
      "cell_type": "markdown",
      "metadata": {
        "id": "DTzk1hysa3ti",
        "colab_type": "text"
      },
      "source": [
        "### Visualizando os últimos 10 anos "
      ]
    },
    {
      "cell_type": "code",
      "metadata": {
        "id": "ZIl4QsuxWvFJ",
        "colab_type": "code",
        "colab": {
          "base_uri": "https://localhost:8080/",
          "height": 421
        },
        "outputId": "fc2ba2fb-d4ce-43ec-fcae-7d505fe94738"
      },
      "source": [
        "last_ten = df_years.iloc[48:59, :]\n",
        "last_ten"
      ],
      "execution_count": 131,
      "outputs": [
        {
          "output_type": "execute_result",
          "data": {
            "text/html": [
              "<div>\n",
              "<style scoped>\n",
              "    .dataframe tbody tr th:only-of-type {\n",
              "        vertical-align: middle;\n",
              "    }\n",
              "\n",
              "    .dataframe tbody tr th {\n",
              "        vertical-align: top;\n",
              "    }\n",
              "\n",
              "    .dataframe thead th {\n",
              "        text-align: right;\n",
              "    }\n",
              "</style>\n",
              "<table border=\"1\" class=\"dataframe\">\n",
              "  <thead>\n",
              "    <tr style=\"text-align: right;\">\n",
              "      <th></th>\n",
              "      <th>JAN</th>\n",
              "      <th>FEB</th>\n",
              "      <th>MAR</th>\n",
              "      <th>APR</th>\n",
              "      <th>MAY</th>\n",
              "      <th>JUN</th>\n",
              "      <th>JUL</th>\n",
              "      <th>AUG</th>\n",
              "      <th>SEP</th>\n",
              "      <th>OCT</th>\n",
              "      <th>NOV</th>\n",
              "      <th>DEC</th>\n",
              "    </tr>\n",
              "    <tr>\n",
              "      <th>YEAR</th>\n",
              "      <th></th>\n",
              "      <th></th>\n",
              "      <th></th>\n",
              "      <th></th>\n",
              "      <th></th>\n",
              "      <th></th>\n",
              "      <th></th>\n",
              "      <th></th>\n",
              "      <th></th>\n",
              "      <th></th>\n",
              "      <th></th>\n",
              "      <th></th>\n",
              "    </tr>\n",
              "  </thead>\n",
              "  <tbody>\n",
              "    <tr>\n",
              "      <th>2009</th>\n",
              "      <td>27.29</td>\n",
              "      <td>28.60</td>\n",
              "      <td>28.21</td>\n",
              "      <td>26.02</td>\n",
              "      <td>24.67</td>\n",
              "      <td>22.83</td>\n",
              "      <td>23.800000</td>\n",
              "      <td>23.30</td>\n",
              "      <td>25.60</td>\n",
              "      <td>25.43</td>\n",
              "      <td>27.74000</td>\n",
              "      <td>27.137514</td>\n",
              "    </tr>\n",
              "    <tr>\n",
              "      <th>2010</th>\n",
              "      <td>29.62</td>\n",
              "      <td>29.50</td>\n",
              "      <td>27.99</td>\n",
              "      <td>26.40</td>\n",
              "      <td>24.86</td>\n",
              "      <td>22.29</td>\n",
              "      <td>23.090000</td>\n",
              "      <td>22.52</td>\n",
              "      <td>23.95</td>\n",
              "      <td>24.44</td>\n",
              "      <td>25.19000</td>\n",
              "      <td>26.391223</td>\n",
              "    </tr>\n",
              "    <tr>\n",
              "      <th>2011</th>\n",
              "      <td>28.24</td>\n",
              "      <td>28.61</td>\n",
              "      <td>26.71</td>\n",
              "      <td>26.36</td>\n",
              "      <td>24.20</td>\n",
              "      <td>22.99</td>\n",
              "      <td>22.970000</td>\n",
              "      <td>24.05</td>\n",
              "      <td>23.23</td>\n",
              "      <td>24.16</td>\n",
              "      <td>23.80000</td>\n",
              "      <td>25.850000</td>\n",
              "    </tr>\n",
              "    <tr>\n",
              "      <th>2012</th>\n",
              "      <td>26.66</td>\n",
              "      <td>27.58</td>\n",
              "      <td>27.68</td>\n",
              "      <td>27.15</td>\n",
              "      <td>23.65</td>\n",
              "      <td>24.50</td>\n",
              "      <td>23.750000</td>\n",
              "      <td>22.99</td>\n",
              "      <td>23.95</td>\n",
              "      <td>25.40</td>\n",
              "      <td>25.20000</td>\n",
              "      <td>28.440000</td>\n",
              "    </tr>\n",
              "    <tr>\n",
              "      <th>2013</th>\n",
              "      <td>27.80</td>\n",
              "      <td>28.40</td>\n",
              "      <td>27.55</td>\n",
              "      <td>25.45</td>\n",
              "      <td>24.85</td>\n",
              "      <td>24.55</td>\n",
              "      <td>23.350000</td>\n",
              "      <td>23.70</td>\n",
              "      <td>24.10</td>\n",
              "      <td>24.65</td>\n",
              "      <td>25.40000</td>\n",
              "      <td>26.500000</td>\n",
              "    </tr>\n",
              "    <tr>\n",
              "      <th>2014</th>\n",
              "      <td>28.05</td>\n",
              "      <td>28.75</td>\n",
              "      <td>28.00</td>\n",
              "      <td>26.80</td>\n",
              "      <td>25.20</td>\n",
              "      <td>24.45</td>\n",
              "      <td>22.850000</td>\n",
              "      <td>23.34</td>\n",
              "      <td>24.70</td>\n",
              "      <td>24.55</td>\n",
              "      <td>25.85000</td>\n",
              "      <td>27.400000</td>\n",
              "    </tr>\n",
              "    <tr>\n",
              "      <th>2015</th>\n",
              "      <td>28.95</td>\n",
              "      <td>29.05</td>\n",
              "      <td>28.55</td>\n",
              "      <td>26.90</td>\n",
              "      <td>24.30</td>\n",
              "      <td>24.15</td>\n",
              "      <td>23.455846</td>\n",
              "      <td>24.20</td>\n",
              "      <td>26.15</td>\n",
              "      <td>26.65</td>\n",
              "      <td>28.30000</td>\n",
              "      <td>29.050000</td>\n",
              "    </tr>\n",
              "    <tr>\n",
              "      <th>2016</th>\n",
              "      <td>27.85</td>\n",
              "      <td>30.00</td>\n",
              "      <td>28.95</td>\n",
              "      <td>28.50</td>\n",
              "      <td>25.70</td>\n",
              "      <td>23.15</td>\n",
              "      <td>23.800000</td>\n",
              "      <td>24.25</td>\n",
              "      <td>24.95</td>\n",
              "      <td>24.80</td>\n",
              "      <td>25.50000</td>\n",
              "      <td>27.600000</td>\n",
              "    </tr>\n",
              "    <tr>\n",
              "      <th>2017</th>\n",
              "      <td>29.10</td>\n",
              "      <td>28.40</td>\n",
              "      <td>28.10</td>\n",
              "      <td>26.35</td>\n",
              "      <td>24.30</td>\n",
              "      <td>24.65</td>\n",
              "      <td>21.950000</td>\n",
              "      <td>22.25</td>\n",
              "      <td>23.10</td>\n",
              "      <td>25.85</td>\n",
              "      <td>25.25000</td>\n",
              "      <td>26.700000</td>\n",
              "    </tr>\n",
              "    <tr>\n",
              "      <th>2018</th>\n",
              "      <td>28.60</td>\n",
              "      <td>27.50</td>\n",
              "      <td>28.35</td>\n",
              "      <td>25.95</td>\n",
              "      <td>24.45</td>\n",
              "      <td>24.25</td>\n",
              "      <td>24.250000</td>\n",
              "      <td>23.30</td>\n",
              "      <td>24.80</td>\n",
              "      <td>25.50</td>\n",
              "      <td>25.95000</td>\n",
              "      <td>27.250000</td>\n",
              "    </tr>\n",
              "    <tr>\n",
              "      <th>2019</th>\n",
              "      <td>29.35</td>\n",
              "      <td>29.65</td>\n",
              "      <td>28.90</td>\n",
              "      <td>28.05</td>\n",
              "      <td>26.60</td>\n",
              "      <td>25.10</td>\n",
              "      <td>23.250000</td>\n",
              "      <td>23.05</td>\n",
              "      <td>24.95</td>\n",
              "      <td>25.90</td>\n",
              "      <td>25.59675</td>\n",
              "      <td>26.963385</td>\n",
              "    </tr>\n",
              "  </tbody>\n",
              "</table>\n",
              "</div>"
            ],
            "text/plain": [
              "        JAN    FEB    MAR    APR  ...    SEP    OCT       NOV        DEC\n",
              "YEAR                              ...                                   \n",
              "2009  27.29  28.60  28.21  26.02  ...  25.60  25.43  27.74000  27.137514\n",
              "2010  29.62  29.50  27.99  26.40  ...  23.95  24.44  25.19000  26.391223\n",
              "2011  28.24  28.61  26.71  26.36  ...  23.23  24.16  23.80000  25.850000\n",
              "2012  26.66  27.58  27.68  27.15  ...  23.95  25.40  25.20000  28.440000\n",
              "2013  27.80  28.40  27.55  25.45  ...  24.10  24.65  25.40000  26.500000\n",
              "2014  28.05  28.75  28.00  26.80  ...  24.70  24.55  25.85000  27.400000\n",
              "2015  28.95  29.05  28.55  26.90  ...  26.15  26.65  28.30000  29.050000\n",
              "2016  27.85  30.00  28.95  28.50  ...  24.95  24.80  25.50000  27.600000\n",
              "2017  29.10  28.40  28.10  26.35  ...  23.10  25.85  25.25000  26.700000\n",
              "2018  28.60  27.50  28.35  25.95  ...  24.80  25.50  25.95000  27.250000\n",
              "2019  29.35  29.65  28.90  28.05  ...  24.95  25.90  25.59675  26.963385\n",
              "\n",
              "[11 rows x 12 columns]"
            ]
          },
          "metadata": {
            "tags": []
          },
          "execution_count": 131
        }
      ]
    },
    {
      "cell_type": "code",
      "metadata": {
        "id": "9ARy21BcbqWY",
        "colab_type": "code",
        "colab": {
          "base_uri": "https://localhost:8080/",
          "height": 391
        },
        "outputId": "dca92dad-afd8-42b7-fc3e-72e8b8b6d3dd"
      },
      "source": [
        "plt.figure(figsize=(10,6))\n",
        "plt.plot(last_ten.T)\n",
        "plt.legend(last_ten.index)"
      ],
      "execution_count": 159,
      "outputs": [
        {
          "output_type": "execute_result",
          "data": {
            "text/plain": [
              "<matplotlib.legend.Legend at 0x7fa3d924bd68>"
            ]
          },
          "metadata": {
            "tags": []
          },
          "execution_count": 159
        },
        {
          "output_type": "display_data",
          "data": {
            "image/png": "[encoded data removed]",
            "text/plain": [
              "<Figure size 720x432 with 1 Axes>"
            ]
          },
          "metadata": {
            "tags": []
          }
        }
      ]
    },
    {
      "cell_type": "markdown",
      "metadata": {
        "id": "tJOQVSsAa9O4",
        "colab_type": "text"
      },
      "source": [
        "Como podemos observar, por mais que as temperaturas variem, ainda é mantido um padrão por conta das estações do ano"
      ]
    }
  ]
}