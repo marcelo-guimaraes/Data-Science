{
  "nbformat": 4,
  "nbformat_minor": 0,
  "metadata": {
    "kernelspec": {
      "display_name": "Python 3",
      "language": "python",
      "name": "python3"
    },
    "language_info": {
      "codemirror_mode": {
        "name": "ipython",
        "version": 3
      },
      "file_extension": ".py",
      "mimetype": "text/x-python",
      "name": "python",
      "nbconvert_exporter": "python",
      "pygments_lexer": "ipython3",
      "version": "3.5.2"
    },
    "colab": {
      "name": "market.ipynb",
      "provenance": [],
      "collapsed_sections": [],
      "include_colab_link": true
    }
  },
  "cells": [
    {
      "cell_type": "markdown",
      "metadata": {
        "id": "view-in-github",
        "colab_type": "text"
      },
      "source": [
        "<a href=\"https://colab.research.google.com/github/marcelo-guimaraes/Data-Science/blob/master/market.ipynb\" target=\"_parent\"><img src=\"https://colab.research.google.com/assets/colab-badge.svg\" alt=\"Open In Colab\"/></a>"
      ]
    },
    {
      "cell_type": "markdown",
      "metadata": {
        "id": "ZiDD1pgL3U86",
        "colab_type": "text"
      },
      "source": [
        "## Objetivo\n",
        "O objetivo deste produto é fornecer um serviço automatizado que recomenda leads para um usuário dado sua atual lista de clientes (Portfólio).\n",
        "\n",
        "## Contextualização\n",
        "Algumas empresas gostariam de saber quem são as demais empresas em um determinado mercado (população) que tem maior probabilidade se tornarem seus próximos clientes. Ou seja, a sua solução deve encontrar no mercado quem são os leads mais aderentes dado as características dos clientes presentes no portfólio do usuário.\n",
        "\n",
        "Além disso, sua solução deve ser agnóstica ao usuário. Qualquer usuário com uma lista de clientes que queira explorar esse mercado pode extrair valor do serviço.\n",
        "\n",
        "Para o desafio, deverão ser consideradas as seguintes bases:\n",
        "\n",
        "Mercado: Base com informações sobre as empresas do Mercado a ser considerado.\n",
        "Portfolio 1: Ids dos clientes da empresa 1\n",
        "Portfolio 2: Ids dos clientes da empresa 2\n",
        "Portfolio 3: Ids dos clientes da empresa 3\n"
      ]
    },
    {
      "cell_type": "markdown",
      "metadata": {
        "id": "nah8cYwRIqXD",
        "colab_type": "text"
      },
      "source": [
        "## Análise Exploratória"
      ]
    },
    {
      "cell_type": "code",
      "metadata": {
        "id": "Kk9rfdfK3U87",
        "colab_type": "code",
        "colab": {}
      },
      "source": [
        "!pip install category_encoders\n",
        "import pandas as pd\n",
        "import numpy as np\n",
        "import matplotlib.pyplot as plt\n",
        "import seaborn as sns\n",
        "from sklearn import metrics \n",
        "import math\n",
        "\n",
        "from sklearn.model_selection import train_test_split\n",
        "from sklearn.cluster import KMeans\n",
        "from sklearn.preprocessing import MinMaxScaler\n",
        "from sklearn.neighbors import NearestNeighbors\n",
        "\n",
        "from sklearn.pipeline import Pipeline\n",
        "from sklearn.compose import ColumnTransformer\n",
        "from sklearn.preprocessing import OneHotEncoder, OrdinalEncoder, MinMaxScaler, StandardScaler, FunctionTransformer\n",
        "from sklearn.decomposition import PCA\n",
        "\n",
        "\n",
        "import folium\n",
        "from folium import plugins\n",
        "\n",
        "import category_encoders as ce\n",
        "\n",
        "import warnings\n",
        "warnings.filterwarnings(\"ignore\")\n",
        "\n",
        "%matplotlib inline"
      ],
      "execution_count": 181,
      "outputs": []
    },
    {
      "cell_type": "code",
      "metadata": {
        "id": "W-ooB5Iu4jgI",
        "colab_type": "code",
        "colab": {
          "base_uri": "https://localhost:8080/",
          "height": 33
        },
        "outputId": "eeeb62d1-afbc-4e0f-8bc1-d5b941f80b53"
      },
      "source": [
        "from google.colab import drive\n",
        "drive.mount('/content/drive')"
      ],
      "execution_count": 127,
      "outputs": [
        {
          "output_type": "stream",
          "text": [
            "Drive already mounted at /content/drive; to attempt to forcibly remount, call drive.mount(\"/content/drive\", force_remount=True).\n"
          ],
          "name": "stdout"
        }
      ]
    },
    {
      "cell_type": "code",
      "metadata": {
        "id": "6W5mW7343U8_",
        "colab_type": "code",
        "colab": {}
      },
      "source": [
        "df_market = pd.read_csv('/content/drive/My Drive/estaticos_market.csv', index_col=0, parse_dates=['dt_situacao'])\n",
        "df1 = pd.read_csv('/content/drive/My Drive/portfolio1.csv', index_col=0)\n",
        "df2 = pd.read_csv('/content/drive/My Drive/portfolio2.csv', index_col=0)\n",
        "df3 = pd.read_csv('/content/drive/My Drive/portfolio3.csv', index_col=0)"
      ],
      "execution_count": 128,
      "outputs": []
    },
    {
      "cell_type": "code",
      "metadata": {
        "scrolled": false,
        "id": "qEWChJjs3U9C",
        "colab_type": "code",
        "colab": {
          "base_uri": "https://localhost:8080/",
          "height": 450
        },
        "outputId": "8c3dbecf-81a5-4281-fb17-af62cbf53c79"
      },
      "source": [
        "df_mark = df_market.copy()\n",
        "print(\"Shape: {} linhas e {} colunas\".format(df_mark.shape[0],df_mark.shape[1]))\n",
        "df_mark.head()"
      ],
      "execution_count": 129,
      "outputs": [
        {
          "output_type": "stream",
          "text": [
            "Shape: 462298 linhas e 181 colunas\n"
          ],
          "name": "stdout"
        },
        {
          "output_type": "execute_result",
          "data": {
            "text/html": [
              "<div>\n",
              "<style scoped>\n",
              "    .dataframe tbody tr th:only-of-type {\n",
              "        vertical-align: middle;\n",
              "    }\n",
              "\n",
              "    .dataframe tbody tr th {\n",
              "        vertical-align: top;\n",
              "    }\n",
              "\n",
              "    .dataframe thead th {\n",
              "        text-align: right;\n",
              "    }\n",
              "</style>\n",
              "<table border=\"1\" class=\"dataframe\">\n",
              "  <thead>\n",
              "    <tr style=\"text-align: right;\">\n",
              "      <th></th>\n",
              "      <th>id</th>\n",
              "      <th>fl_matriz</th>\n",
              "      <th>de_natureza_juridica</th>\n",
              "      <th>sg_uf</th>\n",
              "      <th>natureza_juridica_macro</th>\n",
              "      <th>de_ramo</th>\n",
              "      <th>setor</th>\n",
              "      <th>idade_empresa_anos</th>\n",
              "      <th>idade_emp_cat</th>\n",
              "      <th>fl_me</th>\n",
              "      <th>fl_sa</th>\n",
              "      <th>fl_epp</th>\n",
              "      <th>fl_mei</th>\n",
              "      <th>fl_ltda</th>\n",
              "      <th>dt_situacao</th>\n",
              "      <th>fl_st_especial</th>\n",
              "      <th>fl_email</th>\n",
              "      <th>fl_telefone</th>\n",
              "      <th>fl_rm</th>\n",
              "      <th>nm_divisao</th>\n",
              "      <th>nm_segmento</th>\n",
              "      <th>fl_spa</th>\n",
              "      <th>fl_antt</th>\n",
              "      <th>fl_veiculo</th>\n",
              "      <th>vl_total_tancagem</th>\n",
              "      <th>vl_total_veiculos_antt</th>\n",
              "      <th>vl_total_veiculos_leves</th>\n",
              "      <th>vl_total_veiculos_pesados</th>\n",
              "      <th>fl_optante_simples</th>\n",
              "      <th>qt_art</th>\n",
              "      <th>vl_total_veiculos_pesados_grupo</th>\n",
              "      <th>vl_total_veiculos_leves_grupo</th>\n",
              "      <th>vl_total_tancagem_grupo</th>\n",
              "      <th>vl_total_veiculos_antt_grupo</th>\n",
              "      <th>vl_potenc_cons_oleo_gas</th>\n",
              "      <th>fl_optante_simei</th>\n",
              "      <th>sg_uf_matriz</th>\n",
              "      <th>de_saude_tributaria</th>\n",
              "      <th>de_saude_rescencia</th>\n",
              "      <th>nu_meses_rescencia</th>\n",
              "      <th>...</th>\n",
              "      <th>vl_faturamento_estimado_aux</th>\n",
              "      <th>vl_faturamento_estimado_grupo_aux</th>\n",
              "      <th>qt_ex_funcionarios</th>\n",
              "      <th>qt_funcionarios_grupo</th>\n",
              "      <th>percent_func_genero_masc</th>\n",
              "      <th>percent_func_genero_fem</th>\n",
              "      <th>idade_ate_18</th>\n",
              "      <th>idade_de_19_a_23</th>\n",
              "      <th>idade_de_24_a_28</th>\n",
              "      <th>idade_de_29_a_33</th>\n",
              "      <th>idade_de_34_a_38</th>\n",
              "      <th>idade_de_39_a_43</th>\n",
              "      <th>idade_de_44_a_48</th>\n",
              "      <th>idade_de_49_a_53</th>\n",
              "      <th>idade_de_54_a_58</th>\n",
              "      <th>idade_acima_de_58</th>\n",
              "      <th>grau_instrucao_macro_analfabeto</th>\n",
              "      <th>grau_instrucao_macro_escolaridade_fundamental</th>\n",
              "      <th>grau_instrucao_macro_escolaridade_media</th>\n",
              "      <th>grau_instrucao_macro_escolaridade_superior</th>\n",
              "      <th>grau_instrucao_macro_desconhecido</th>\n",
              "      <th>total</th>\n",
              "      <th>meses_ultima_contratacaco</th>\n",
              "      <th>qt_admitidos_12meses</th>\n",
              "      <th>qt_desligados_12meses</th>\n",
              "      <th>qt_desligados</th>\n",
              "      <th>qt_admitidos</th>\n",
              "      <th>media_meses_servicos_all</th>\n",
              "      <th>max_meses_servicos_all</th>\n",
              "      <th>min_meses_servicos_all</th>\n",
              "      <th>media_meses_servicos</th>\n",
              "      <th>max_meses_servicos</th>\n",
              "      <th>min_meses_servicos</th>\n",
              "      <th>qt_funcionarios</th>\n",
              "      <th>qt_funcionarios_12meses</th>\n",
              "      <th>qt_funcionarios_24meses</th>\n",
              "      <th>tx_crescimento_12meses</th>\n",
              "      <th>tx_crescimento_24meses</th>\n",
              "      <th>tx_rotatividade</th>\n",
              "      <th>qt_filiais</th>\n",
              "    </tr>\n",
              "  </thead>\n",
              "  <tbody>\n",
              "    <tr>\n",
              "      <th>0</th>\n",
              "      <td>a6984c3ae395090e3bee8ad63c3758b110de096d5d8195...</td>\n",
              "      <td>True</td>\n",
              "      <td>SOCIEDADE EMPRESARIA LIMITADA</td>\n",
              "      <td>RN</td>\n",
              "      <td>ENTIDADES EMPRESARIAIS</td>\n",
              "      <td>INDUSTRIA DA CONSTRUCAO</td>\n",
              "      <td>CONSTRUÇÃO CIVIL</td>\n",
              "      <td>14.457534</td>\n",
              "      <td>10 a 15</td>\n",
              "      <td>False</td>\n",
              "      <td>False</td>\n",
              "      <td>False</td>\n",
              "      <td>False</td>\n",
              "      <td>False</td>\n",
              "      <td>2005-03-25</td>\n",
              "      <td>False</td>\n",
              "      <td>True</td>\n",
              "      <td>True</td>\n",
              "      <td>SIM</td>\n",
              "      <td>CONSTRUCAO DE EDIFICIOS</td>\n",
              "      <td>CONSTRUCAO</td>\n",
              "      <td>False</td>\n",
              "      <td>False</td>\n",
              "      <td>False</td>\n",
              "      <td>NaN</td>\n",
              "      <td>NaN</td>\n",
              "      <td>NaN</td>\n",
              "      <td>NaN</td>\n",
              "      <td>True</td>\n",
              "      <td>8.0</td>\n",
              "      <td>0.0</td>\n",
              "      <td>0.0</td>\n",
              "      <td>NaN</td>\n",
              "      <td>NaN</td>\n",
              "      <td>NaN</td>\n",
              "      <td>False</td>\n",
              "      <td>RN</td>\n",
              "      <td>VERDE</td>\n",
              "      <td>ACIMA DE 1 ANO</td>\n",
              "      <td>23.0</td>\n",
              "      <td>...</td>\n",
              "      <td>3132172.8</td>\n",
              "      <td>3132172.8</td>\n",
              "      <td>119.0</td>\n",
              "      <td>26.0</td>\n",
              "      <td>100.0</td>\n",
              "      <td>0.0</td>\n",
              "      <td>NaN</td>\n",
              "      <td>1.0</td>\n",
              "      <td>4.0</td>\n",
              "      <td>6.0</td>\n",
              "      <td>5.0</td>\n",
              "      <td>3.0</td>\n",
              "      <td>4.0</td>\n",
              "      <td>2.0</td>\n",
              "      <td>NaN</td>\n",
              "      <td>1.0</td>\n",
              "      <td>NaN</td>\n",
              "      <td>1.0</td>\n",
              "      <td>25.0</td>\n",
              "      <td>NaN</td>\n",
              "      <td>NaN</td>\n",
              "      <td>26.0</td>\n",
              "      <td>19.166667</td>\n",
              "      <td>0.0</td>\n",
              "      <td>0.0</td>\n",
              "      <td>119.0</td>\n",
              "      <td>145.0</td>\n",
              "      <td>13.309195</td>\n",
              "      <td>93.266667</td>\n",
              "      <td>-0.933333</td>\n",
              "      <td>43.738462</td>\n",
              "      <td>93.266667</td>\n",
              "      <td>19.166667</td>\n",
              "      <td>26.0</td>\n",
              "      <td>26.0</td>\n",
              "      <td>27.0</td>\n",
              "      <td>0.0</td>\n",
              "      <td>-3.703704</td>\n",
              "      <td>0.0</td>\n",
              "      <td>0</td>\n",
              "    </tr>\n",
              "    <tr>\n",
              "      <th>1</th>\n",
              "      <td>6178f41ade1365e44bc2c46654c2c8c0eaae27dcb476c4...</td>\n",
              "      <td>True</td>\n",
              "      <td>EMPRESARIO INDIVIDUAL</td>\n",
              "      <td>PI</td>\n",
              "      <td>OUTROS</td>\n",
              "      <td>SERVICOS DE ALOJAMENTO/ALIMENTACAO</td>\n",
              "      <td>SERVIÇO</td>\n",
              "      <td>1.463014</td>\n",
              "      <td>1 a 5</td>\n",
              "      <td>False</td>\n",
              "      <td>False</td>\n",
              "      <td>False</td>\n",
              "      <td>True</td>\n",
              "      <td>False</td>\n",
              "      <td>2017-05-12</td>\n",
              "      <td>False</td>\n",
              "      <td>True</td>\n",
              "      <td>True</td>\n",
              "      <td>SIM</td>\n",
              "      <td>ALIMENTACAO</td>\n",
              "      <td>ALOJAMENTO E ALIMENTACAO</td>\n",
              "      <td>False</td>\n",
              "      <td>False</td>\n",
              "      <td>False</td>\n",
              "      <td>NaN</td>\n",
              "      <td>NaN</td>\n",
              "      <td>NaN</td>\n",
              "      <td>NaN</td>\n",
              "      <td>NaN</td>\n",
              "      <td>NaN</td>\n",
              "      <td>0.0</td>\n",
              "      <td>0.0</td>\n",
              "      <td>NaN</td>\n",
              "      <td>NaN</td>\n",
              "      <td>NaN</td>\n",
              "      <td>NaN</td>\n",
              "      <td>PI</td>\n",
              "      <td>CINZA</td>\n",
              "      <td>ATE 1 ANO</td>\n",
              "      <td>9.0</td>\n",
              "      <td>...</td>\n",
              "      <td>210000.0</td>\n",
              "      <td>210000.0</td>\n",
              "      <td>NaN</td>\n",
              "      <td>NaN</td>\n",
              "      <td>NaN</td>\n",
              "      <td>NaN</td>\n",
              "      <td>NaN</td>\n",
              "      <td>NaN</td>\n",
              "      <td>NaN</td>\n",
              "      <td>NaN</td>\n",
              "      <td>NaN</td>\n",
              "      <td>NaN</td>\n",
              "      <td>NaN</td>\n",
              "      <td>NaN</td>\n",
              "      <td>NaN</td>\n",
              "      <td>NaN</td>\n",
              "      <td>NaN</td>\n",
              "      <td>NaN</td>\n",
              "      <td>NaN</td>\n",
              "      <td>NaN</td>\n",
              "      <td>NaN</td>\n",
              "      <td>NaN</td>\n",
              "      <td>NaN</td>\n",
              "      <td>NaN</td>\n",
              "      <td>NaN</td>\n",
              "      <td>NaN</td>\n",
              "      <td>NaN</td>\n",
              "      <td>NaN</td>\n",
              "      <td>NaN</td>\n",
              "      <td>NaN</td>\n",
              "      <td>NaN</td>\n",
              "      <td>NaN</td>\n",
              "      <td>NaN</td>\n",
              "      <td>NaN</td>\n",
              "      <td>NaN</td>\n",
              "      <td>NaN</td>\n",
              "      <td>NaN</td>\n",
              "      <td>NaN</td>\n",
              "      <td>NaN</td>\n",
              "      <td>0</td>\n",
              "    </tr>\n",
              "    <tr>\n",
              "      <th>2</th>\n",
              "      <td>4a7e5069a397f12fdd7fd57111d6dc5d3ba558958efc02...</td>\n",
              "      <td>True</td>\n",
              "      <td>EMPRESARIO INDIVIDUAL</td>\n",
              "      <td>AM</td>\n",
              "      <td>OUTROS</td>\n",
              "      <td>TRANSPORTE, ARMAZENAGEM E CORREIO</td>\n",
              "      <td>SERVIÇO</td>\n",
              "      <td>7.093151</td>\n",
              "      <td>5 a 10</td>\n",
              "      <td>False</td>\n",
              "      <td>False</td>\n",
              "      <td>False</td>\n",
              "      <td>True</td>\n",
              "      <td>False</td>\n",
              "      <td>2011-09-26</td>\n",
              "      <td>False</td>\n",
              "      <td>False</td>\n",
              "      <td>True</td>\n",
              "      <td>SIM</td>\n",
              "      <td>TRANSPORTE TERRESTRE</td>\n",
              "      <td>TRANSPORTE ARMAZENAGEM E CORREIO</td>\n",
              "      <td>False</td>\n",
              "      <td>False</td>\n",
              "      <td>False</td>\n",
              "      <td>NaN</td>\n",
              "      <td>NaN</td>\n",
              "      <td>NaN</td>\n",
              "      <td>NaN</td>\n",
              "      <td>True</td>\n",
              "      <td>NaN</td>\n",
              "      <td>0.0</td>\n",
              "      <td>0.0</td>\n",
              "      <td>NaN</td>\n",
              "      <td>NaN</td>\n",
              "      <td>NaN</td>\n",
              "      <td>True</td>\n",
              "      <td>AM</td>\n",
              "      <td>AMARELO</td>\n",
              "      <td>ACIMA DE 1 ANO</td>\n",
              "      <td>26.0</td>\n",
              "      <td>...</td>\n",
              "      <td>50000.0</td>\n",
              "      <td>50000.0</td>\n",
              "      <td>NaN</td>\n",
              "      <td>NaN</td>\n",
              "      <td>NaN</td>\n",
              "      <td>NaN</td>\n",
              "      <td>NaN</td>\n",
              "      <td>NaN</td>\n",
              "      <td>NaN</td>\n",
              "      <td>NaN</td>\n",
              "      <td>NaN</td>\n",
              "      <td>NaN</td>\n",
              "      <td>NaN</td>\n",
              "      <td>NaN</td>\n",
              "      <td>NaN</td>\n",
              "      <td>NaN</td>\n",
              "      <td>NaN</td>\n",
              "      <td>NaN</td>\n",
              "      <td>NaN</td>\n",
              "      <td>NaN</td>\n",
              "      <td>NaN</td>\n",
              "      <td>NaN</td>\n",
              "      <td>NaN</td>\n",
              "      <td>NaN</td>\n",
              "      <td>NaN</td>\n",
              "      <td>NaN</td>\n",
              "      <td>NaN</td>\n",
              "      <td>NaN</td>\n",
              "      <td>NaN</td>\n",
              "      <td>NaN</td>\n",
              "      <td>NaN</td>\n",
              "      <td>NaN</td>\n",
              "      <td>NaN</td>\n",
              "      <td>NaN</td>\n",
              "      <td>NaN</td>\n",
              "      <td>NaN</td>\n",
              "      <td>NaN</td>\n",
              "      <td>NaN</td>\n",
              "      <td>NaN</td>\n",
              "      <td>0</td>\n",
              "    </tr>\n",
              "    <tr>\n",
              "      <th>3</th>\n",
              "      <td>3348900fe63216a439d2e5238c79ddd46ede454df7b9d8...</td>\n",
              "      <td>True</td>\n",
              "      <td>EMPRESARIO INDIVIDUAL</td>\n",
              "      <td>AM</td>\n",
              "      <td>OUTROS</td>\n",
              "      <td>SERVICOS DIVERSOS</td>\n",
              "      <td>SERVIÇO</td>\n",
              "      <td>6.512329</td>\n",
              "      <td>5 a 10</td>\n",
              "      <td>False</td>\n",
              "      <td>False</td>\n",
              "      <td>False</td>\n",
              "      <td>False</td>\n",
              "      <td>False</td>\n",
              "      <td>2012-04-25</td>\n",
              "      <td>False</td>\n",
              "      <td>True</td>\n",
              "      <td>True</td>\n",
              "      <td>SIM</td>\n",
              "      <td>REPARACAO E MANUTENCAO DE EQUIPAMENTOS DE INFO...</td>\n",
              "      <td>OUTRAS ATIVIDADES DE SERVICOS</td>\n",
              "      <td>False</td>\n",
              "      <td>False</td>\n",
              "      <td>False</td>\n",
              "      <td>NaN</td>\n",
              "      <td>NaN</td>\n",
              "      <td>NaN</td>\n",
              "      <td>NaN</td>\n",
              "      <td>True</td>\n",
              "      <td>NaN</td>\n",
              "      <td>0.0</td>\n",
              "      <td>0.0</td>\n",
              "      <td>NaN</td>\n",
              "      <td>NaN</td>\n",
              "      <td>NaN</td>\n",
              "      <td>False</td>\n",
              "      <td>AM</td>\n",
              "      <td>AMARELO</td>\n",
              "      <td>ACIMA DE 1 ANO</td>\n",
              "      <td>26.0</td>\n",
              "      <td>...</td>\n",
              "      <td>210000.0</td>\n",
              "      <td>210000.0</td>\n",
              "      <td>NaN</td>\n",
              "      <td>NaN</td>\n",
              "      <td>NaN</td>\n",
              "      <td>NaN</td>\n",
              "      <td>NaN</td>\n",
              "      <td>NaN</td>\n",
              "      <td>NaN</td>\n",
              "      <td>NaN</td>\n",
              "      <td>NaN</td>\n",
              "      <td>NaN</td>\n",
              "      <td>NaN</td>\n",
              "      <td>NaN</td>\n",
              "      <td>NaN</td>\n",
              "      <td>NaN</td>\n",
              "      <td>NaN</td>\n",
              "      <td>NaN</td>\n",
              "      <td>NaN</td>\n",
              "      <td>NaN</td>\n",
              "      <td>NaN</td>\n",
              "      <td>NaN</td>\n",
              "      <td>NaN</td>\n",
              "      <td>NaN</td>\n",
              "      <td>NaN</td>\n",
              "      <td>NaN</td>\n",
              "      <td>NaN</td>\n",
              "      <td>NaN</td>\n",
              "      <td>NaN</td>\n",
              "      <td>NaN</td>\n",
              "      <td>NaN</td>\n",
              "      <td>NaN</td>\n",
              "      <td>NaN</td>\n",
              "      <td>NaN</td>\n",
              "      <td>NaN</td>\n",
              "      <td>NaN</td>\n",
              "      <td>NaN</td>\n",
              "      <td>NaN</td>\n",
              "      <td>NaN</td>\n",
              "      <td>0</td>\n",
              "    </tr>\n",
              "    <tr>\n",
              "      <th>4</th>\n",
              "      <td>1f9bcabc9d3173c1fe769899e4fac14b053037b953a1e4...</td>\n",
              "      <td>True</td>\n",
              "      <td>EMPRESARIO INDIVIDUAL</td>\n",
              "      <td>RN</td>\n",
              "      <td>OUTROS</td>\n",
              "      <td>SERVICOS PROFISSIONAIS, TECNICOS E CIENTIFICOS</td>\n",
              "      <td>SERVIÇO</td>\n",
              "      <td>3.200000</td>\n",
              "      <td>1 a 5</td>\n",
              "      <td>False</td>\n",
              "      <td>False</td>\n",
              "      <td>False</td>\n",
              "      <td>False</td>\n",
              "      <td>False</td>\n",
              "      <td>2015-08-17</td>\n",
              "      <td>False</td>\n",
              "      <td>True</td>\n",
              "      <td>True</td>\n",
              "      <td>SIM</td>\n",
              "      <td>SERVICOS DE ARQUITETURA E ENGENHARIA TESTES E ...</td>\n",
              "      <td>ATIVIDADES PROFISSIONAIS CIENTIFICAS E TECNICAS</td>\n",
              "      <td>False</td>\n",
              "      <td>False</td>\n",
              "      <td>False</td>\n",
              "      <td>NaN</td>\n",
              "      <td>NaN</td>\n",
              "      <td>NaN</td>\n",
              "      <td>NaN</td>\n",
              "      <td>True</td>\n",
              "      <td>NaN</td>\n",
              "      <td>0.0</td>\n",
              "      <td>0.0</td>\n",
              "      <td>NaN</td>\n",
              "      <td>NaN</td>\n",
              "      <td>NaN</td>\n",
              "      <td>False</td>\n",
              "      <td>RN</td>\n",
              "      <td>VERDE</td>\n",
              "      <td>ACIMA DE 1 ANO</td>\n",
              "      <td>27.0</td>\n",
              "      <td>...</td>\n",
              "      <td>210000.0</td>\n",
              "      <td>210000.0</td>\n",
              "      <td>NaN</td>\n",
              "      <td>NaN</td>\n",
              "      <td>NaN</td>\n",
              "      <td>NaN</td>\n",
              "      <td>NaN</td>\n",
              "      <td>NaN</td>\n",
              "      <td>NaN</td>\n",
              "      <td>NaN</td>\n",
              "      <td>NaN</td>\n",
              "      <td>NaN</td>\n",
              "      <td>NaN</td>\n",
              "      <td>NaN</td>\n",
              "      <td>NaN</td>\n",
              "      <td>NaN</td>\n",
              "      <td>NaN</td>\n",
              "      <td>NaN</td>\n",
              "      <td>NaN</td>\n",
              "      <td>NaN</td>\n",
              "      <td>NaN</td>\n",
              "      <td>NaN</td>\n",
              "      <td>NaN</td>\n",
              "      <td>NaN</td>\n",
              "      <td>NaN</td>\n",
              "      <td>NaN</td>\n",
              "      <td>NaN</td>\n",
              "      <td>NaN</td>\n",
              "      <td>NaN</td>\n",
              "      <td>NaN</td>\n",
              "      <td>NaN</td>\n",
              "      <td>NaN</td>\n",
              "      <td>NaN</td>\n",
              "      <td>NaN</td>\n",
              "      <td>NaN</td>\n",
              "      <td>NaN</td>\n",
              "      <td>NaN</td>\n",
              "      <td>NaN</td>\n",
              "      <td>NaN</td>\n",
              "      <td>0</td>\n",
              "    </tr>\n",
              "  </tbody>\n",
              "</table>\n",
              "<p>5 rows × 181 columns</p>\n",
              "</div>"
            ],
            "text/plain": [
              "                                                  id  ...  qt_filiais\n",
              "0  a6984c3ae395090e3bee8ad63c3758b110de096d5d8195...  ...           0\n",
              "1  6178f41ade1365e44bc2c46654c2c8c0eaae27dcb476c4...  ...           0\n",
              "2  4a7e5069a397f12fdd7fd57111d6dc5d3ba558958efc02...  ...           0\n",
              "3  3348900fe63216a439d2e5238c79ddd46ede454df7b9d8...  ...           0\n",
              "4  1f9bcabc9d3173c1fe769899e4fac14b053037b953a1e4...  ...           0\n",
              "\n",
              "[5 rows x 181 columns]"
            ]
          },
          "metadata": {
            "tags": []
          },
          "execution_count": 129
        }
      ]
    },
    {
      "cell_type": "markdown",
      "metadata": {
        "id": "UvTResIIoS84",
        "colab_type": "text"
      },
      "source": [
        "#### Tamanho dos arquivos:\n"
      ]
    },
    {
      "cell_type": "code",
      "metadata": {
        "id": "jlIeipMlTxYP",
        "colab_type": "code",
        "colab": {}
      },
      "source": [
        "df1 = df1[['id']]\n",
        "\n",
        "port1 = df1.merge(df_mark, how = 'inner', on = 'id')\n",
        "port2 = df2.merge(df_mark, how = 'inner', on = 'id')\n",
        "port3 = df3.merge(df_mark, how = 'inner', on = 'id')"
      ],
      "execution_count": 130,
      "outputs": []
    },
    {
      "cell_type": "code",
      "metadata": {
        "id": "dCSU5yW5nhZX",
        "colab_type": "code",
        "colab": {
          "base_uri": "https://localhost:8080/",
          "height": 82
        },
        "outputId": "31847617-ba7d-40d1-b0d9-984fdee0e4ac"
      },
      "source": [
        "print('Dados do Mercado: {}'.format(df_mark.shape),\n",
        "      '\\nPortfolio 1: {}'.format(port1.shape),\n",
        "      '\\nPortfolio 2: {}'.format(port2.shape),\n",
        "      '\\nPortfolio 3: {}'.format(port3.shape))"
      ],
      "execution_count": 131,
      "outputs": [
        {
          "output_type": "stream",
          "text": [
            "Dados do Mercado: (462298, 181) \n",
            "Portfolio 1: (555, 181) \n",
            "Portfolio 2: (566, 181) \n",
            "Portfolio 3: (265, 181)\n"
          ],
          "name": "stdout"
        }
      ]
    },
    {
      "cell_type": "markdown",
      "metadata": {
        "id": "67L4A9ZuexvH",
        "colab_type": "text"
      },
      "source": [
        "## Processamento e limpeza dos Dados\n",
        "\n",
        "\n",
        "Excluir colunas que apresentam grande quantidade de Missing Values, Multicolinearidade e que apresentam alta cardinalidade ..."
      ]
    },
    {
      "cell_type": "markdown",
      "metadata": {
        "id": "mP-UB-qe3U9N",
        "colab_type": "text"
      },
      "source": [
        "#### Primeiro excluo colunas que apresentam mais de 20% dos dados como faltantes\n"
      ]
    },
    {
      "cell_type": "code",
      "metadata": {
        "id": "8TQ5M-ok3U9N",
        "colab_type": "code",
        "colab": {}
      },
      "source": [
        "df_mark = df_mark[df_mark.columns[df_mark.isnull().mean() < 0.2]]\n",
        "#df_mark.set_index('id', inplace = True)"
      ],
      "execution_count": 132,
      "outputs": []
    },
    {
      "cell_type": "code",
      "metadata": {
        "id": "VdQFT7e33U9Q",
        "colab_type": "code",
        "colab": {
          "base_uri": "https://localhost:8080/",
          "height": 438
        },
        "outputId": "a7ff2ba3-1ea1-403e-a93e-1c3360d16ed8"
      },
      "source": [
        "print(\"Shape: {} linhas e {} colunas\".format(df_mark.shape[0],df_mark.shape[1]))\n",
        "df_mark.head()"
      ],
      "execution_count": 133,
      "outputs": [
        {
          "output_type": "stream",
          "text": [
            "Shape: 462298 linhas e 42 colunas\n"
          ],
          "name": "stdout"
        },
        {
          "output_type": "execute_result",
          "data": {
            "text/html": [
              "<div>\n",
              "<style scoped>\n",
              "    .dataframe tbody tr th:only-of-type {\n",
              "        vertical-align: middle;\n",
              "    }\n",
              "\n",
              "    .dataframe tbody tr th {\n",
              "        vertical-align: top;\n",
              "    }\n",
              "\n",
              "    .dataframe thead th {\n",
              "        text-align: right;\n",
              "    }\n",
              "</style>\n",
              "<table border=\"1\" class=\"dataframe\">\n",
              "  <thead>\n",
              "    <tr style=\"text-align: right;\">\n",
              "      <th></th>\n",
              "      <th>id</th>\n",
              "      <th>fl_matriz</th>\n",
              "      <th>de_natureza_juridica</th>\n",
              "      <th>sg_uf</th>\n",
              "      <th>natureza_juridica_macro</th>\n",
              "      <th>de_ramo</th>\n",
              "      <th>setor</th>\n",
              "      <th>idade_empresa_anos</th>\n",
              "      <th>idade_emp_cat</th>\n",
              "      <th>fl_me</th>\n",
              "      <th>fl_sa</th>\n",
              "      <th>fl_epp</th>\n",
              "      <th>fl_mei</th>\n",
              "      <th>fl_ltda</th>\n",
              "      <th>dt_situacao</th>\n",
              "      <th>fl_st_especial</th>\n",
              "      <th>fl_email</th>\n",
              "      <th>fl_telefone</th>\n",
              "      <th>fl_rm</th>\n",
              "      <th>nm_divisao</th>\n",
              "      <th>nm_segmento</th>\n",
              "      <th>fl_spa</th>\n",
              "      <th>fl_antt</th>\n",
              "      <th>fl_veiculo</th>\n",
              "      <th>fl_optante_simples</th>\n",
              "      <th>vl_total_veiculos_pesados_grupo</th>\n",
              "      <th>vl_total_veiculos_leves_grupo</th>\n",
              "      <th>fl_optante_simei</th>\n",
              "      <th>sg_uf_matriz</th>\n",
              "      <th>de_saude_tributaria</th>\n",
              "      <th>de_saude_rescencia</th>\n",
              "      <th>nu_meses_rescencia</th>\n",
              "      <th>de_nivel_atividade</th>\n",
              "      <th>fl_simples_irregular</th>\n",
              "      <th>nm_meso_regiao</th>\n",
              "      <th>nm_micro_regiao</th>\n",
              "      <th>fl_passivel_iss</th>\n",
              "      <th>de_faixa_faturamento_estimado</th>\n",
              "      <th>de_faixa_faturamento_estimado_grupo</th>\n",
              "      <th>vl_faturamento_estimado_aux</th>\n",
              "      <th>vl_faturamento_estimado_grupo_aux</th>\n",
              "      <th>qt_filiais</th>\n",
              "    </tr>\n",
              "  </thead>\n",
              "  <tbody>\n",
              "    <tr>\n",
              "      <th>0</th>\n",
              "      <td>a6984c3ae395090e3bee8ad63c3758b110de096d5d8195...</td>\n",
              "      <td>True</td>\n",
              "      <td>SOCIEDADE EMPRESARIA LIMITADA</td>\n",
              "      <td>RN</td>\n",
              "      <td>ENTIDADES EMPRESARIAIS</td>\n",
              "      <td>INDUSTRIA DA CONSTRUCAO</td>\n",
              "      <td>CONSTRUÇÃO CIVIL</td>\n",
              "      <td>14.457534</td>\n",
              "      <td>10 a 15</td>\n",
              "      <td>False</td>\n",
              "      <td>False</td>\n",
              "      <td>False</td>\n",
              "      <td>False</td>\n",
              "      <td>False</td>\n",
              "      <td>2005-03-25</td>\n",
              "      <td>False</td>\n",
              "      <td>True</td>\n",
              "      <td>True</td>\n",
              "      <td>SIM</td>\n",
              "      <td>CONSTRUCAO DE EDIFICIOS</td>\n",
              "      <td>CONSTRUCAO</td>\n",
              "      <td>False</td>\n",
              "      <td>False</td>\n",
              "      <td>False</td>\n",
              "      <td>True</td>\n",
              "      <td>0.0</td>\n",
              "      <td>0.0</td>\n",
              "      <td>False</td>\n",
              "      <td>RN</td>\n",
              "      <td>VERDE</td>\n",
              "      <td>ACIMA DE 1 ANO</td>\n",
              "      <td>23.0</td>\n",
              "      <td>ALTA</td>\n",
              "      <td>False</td>\n",
              "      <td>LESTE POTIGUAR</td>\n",
              "      <td>NATAL</td>\n",
              "      <td>True</td>\n",
              "      <td>DE R$ 1.500.000,01 A R$ 4.800.000,00</td>\n",
              "      <td>DE R$ 1.500.000,01 A R$ 4.800.000,00</td>\n",
              "      <td>3132172.8</td>\n",
              "      <td>3132172.8</td>\n",
              "      <td>0</td>\n",
              "    </tr>\n",
              "    <tr>\n",
              "      <th>1</th>\n",
              "      <td>6178f41ade1365e44bc2c46654c2c8c0eaae27dcb476c4...</td>\n",
              "      <td>True</td>\n",
              "      <td>EMPRESARIO INDIVIDUAL</td>\n",
              "      <td>PI</td>\n",
              "      <td>OUTROS</td>\n",
              "      <td>SERVICOS DE ALOJAMENTO/ALIMENTACAO</td>\n",
              "      <td>SERVIÇO</td>\n",
              "      <td>1.463014</td>\n",
              "      <td>1 a 5</td>\n",
              "      <td>False</td>\n",
              "      <td>False</td>\n",
              "      <td>False</td>\n",
              "      <td>True</td>\n",
              "      <td>False</td>\n",
              "      <td>2017-05-12</td>\n",
              "      <td>False</td>\n",
              "      <td>True</td>\n",
              "      <td>True</td>\n",
              "      <td>SIM</td>\n",
              "      <td>ALIMENTACAO</td>\n",
              "      <td>ALOJAMENTO E ALIMENTACAO</td>\n",
              "      <td>False</td>\n",
              "      <td>False</td>\n",
              "      <td>False</td>\n",
              "      <td>NaN</td>\n",
              "      <td>0.0</td>\n",
              "      <td>0.0</td>\n",
              "      <td>NaN</td>\n",
              "      <td>PI</td>\n",
              "      <td>CINZA</td>\n",
              "      <td>ATE 1 ANO</td>\n",
              "      <td>9.0</td>\n",
              "      <td>BAIXA</td>\n",
              "      <td>False</td>\n",
              "      <td>CENTRO NORTE PIAUIENSE</td>\n",
              "      <td>TERESINA</td>\n",
              "      <td>True</td>\n",
              "      <td>DE R$ 81.000,01 A R$ 360.000,00</td>\n",
              "      <td>DE R$ 81.000,01 A R$ 360.000,00</td>\n",
              "      <td>210000.0</td>\n",
              "      <td>210000.0</td>\n",
              "      <td>0</td>\n",
              "    </tr>\n",
              "    <tr>\n",
              "      <th>2</th>\n",
              "      <td>4a7e5069a397f12fdd7fd57111d6dc5d3ba558958efc02...</td>\n",
              "      <td>True</td>\n",
              "      <td>EMPRESARIO INDIVIDUAL</td>\n",
              "      <td>AM</td>\n",
              "      <td>OUTROS</td>\n",
              "      <td>TRANSPORTE, ARMAZENAGEM E CORREIO</td>\n",
              "      <td>SERVIÇO</td>\n",
              "      <td>7.093151</td>\n",
              "      <td>5 a 10</td>\n",
              "      <td>False</td>\n",
              "      <td>False</td>\n",
              "      <td>False</td>\n",
              "      <td>True</td>\n",
              "      <td>False</td>\n",
              "      <td>2011-09-26</td>\n",
              "      <td>False</td>\n",
              "      <td>False</td>\n",
              "      <td>True</td>\n",
              "      <td>SIM</td>\n",
              "      <td>TRANSPORTE TERRESTRE</td>\n",
              "      <td>TRANSPORTE ARMAZENAGEM E CORREIO</td>\n",
              "      <td>False</td>\n",
              "      <td>False</td>\n",
              "      <td>False</td>\n",
              "      <td>True</td>\n",
              "      <td>0.0</td>\n",
              "      <td>0.0</td>\n",
              "      <td>True</td>\n",
              "      <td>AM</td>\n",
              "      <td>AMARELO</td>\n",
              "      <td>ACIMA DE 1 ANO</td>\n",
              "      <td>26.0</td>\n",
              "      <td>MEDIA</td>\n",
              "      <td>False</td>\n",
              "      <td>CENTRO AMAZONENSE</td>\n",
              "      <td>MANAUS</td>\n",
              "      <td>True</td>\n",
              "      <td>ATE R$ 81.000,00</td>\n",
              "      <td>ATE R$ 81.000,00</td>\n",
              "      <td>50000.0</td>\n",
              "      <td>50000.0</td>\n",
              "      <td>0</td>\n",
              "    </tr>\n",
              "    <tr>\n",
              "      <th>3</th>\n",
              "      <td>3348900fe63216a439d2e5238c79ddd46ede454df7b9d8...</td>\n",
              "      <td>True</td>\n",
              "      <td>EMPRESARIO INDIVIDUAL</td>\n",
              "      <td>AM</td>\n",
              "      <td>OUTROS</td>\n",
              "      <td>SERVICOS DIVERSOS</td>\n",
              "      <td>SERVIÇO</td>\n",
              "      <td>6.512329</td>\n",
              "      <td>5 a 10</td>\n",
              "      <td>False</td>\n",
              "      <td>False</td>\n",
              "      <td>False</td>\n",
              "      <td>False</td>\n",
              "      <td>False</td>\n",
              "      <td>2012-04-25</td>\n",
              "      <td>False</td>\n",
              "      <td>True</td>\n",
              "      <td>True</td>\n",
              "      <td>SIM</td>\n",
              "      <td>REPARACAO E MANUTENCAO DE EQUIPAMENTOS DE INFO...</td>\n",
              "      <td>OUTRAS ATIVIDADES DE SERVICOS</td>\n",
              "      <td>False</td>\n",
              "      <td>False</td>\n",
              "      <td>False</td>\n",
              "      <td>True</td>\n",
              "      <td>0.0</td>\n",
              "      <td>0.0</td>\n",
              "      <td>False</td>\n",
              "      <td>AM</td>\n",
              "      <td>AMARELO</td>\n",
              "      <td>ACIMA DE 1 ANO</td>\n",
              "      <td>26.0</td>\n",
              "      <td>MEDIA</td>\n",
              "      <td>False</td>\n",
              "      <td>CENTRO AMAZONENSE</td>\n",
              "      <td>MANAUS</td>\n",
              "      <td>True</td>\n",
              "      <td>DE R$ 81.000,01 A R$ 360.000,00</td>\n",
              "      <td>DE R$ 81.000,01 A R$ 360.000,00</td>\n",
              "      <td>210000.0</td>\n",
              "      <td>210000.0</td>\n",
              "      <td>0</td>\n",
              "    </tr>\n",
              "    <tr>\n",
              "      <th>4</th>\n",
              "      <td>1f9bcabc9d3173c1fe769899e4fac14b053037b953a1e4...</td>\n",
              "      <td>True</td>\n",
              "      <td>EMPRESARIO INDIVIDUAL</td>\n",
              "      <td>RN</td>\n",
              "      <td>OUTROS</td>\n",
              "      <td>SERVICOS PROFISSIONAIS, TECNICOS E CIENTIFICOS</td>\n",
              "      <td>SERVIÇO</td>\n",
              "      <td>3.200000</td>\n",
              "      <td>1 a 5</td>\n",
              "      <td>False</td>\n",
              "      <td>False</td>\n",
              "      <td>False</td>\n",
              "      <td>False</td>\n",
              "      <td>False</td>\n",
              "      <td>2015-08-17</td>\n",
              "      <td>False</td>\n",
              "      <td>True</td>\n",
              "      <td>True</td>\n",
              "      <td>SIM</td>\n",
              "      <td>SERVICOS DE ARQUITETURA E ENGENHARIA TESTES E ...</td>\n",
              "      <td>ATIVIDADES PROFISSIONAIS CIENTIFICAS E TECNICAS</td>\n",
              "      <td>False</td>\n",
              "      <td>False</td>\n",
              "      <td>False</td>\n",
              "      <td>True</td>\n",
              "      <td>0.0</td>\n",
              "      <td>0.0</td>\n",
              "      <td>False</td>\n",
              "      <td>RN</td>\n",
              "      <td>VERDE</td>\n",
              "      <td>ACIMA DE 1 ANO</td>\n",
              "      <td>27.0</td>\n",
              "      <td>ALTA</td>\n",
              "      <td>False</td>\n",
              "      <td>LESTE POTIGUAR</td>\n",
              "      <td>NATAL</td>\n",
              "      <td>True</td>\n",
              "      <td>DE R$ 81.000,01 A R$ 360.000,00</td>\n",
              "      <td>DE R$ 81.000,01 A R$ 360.000,00</td>\n",
              "      <td>210000.0</td>\n",
              "      <td>210000.0</td>\n",
              "      <td>0</td>\n",
              "    </tr>\n",
              "  </tbody>\n",
              "</table>\n",
              "</div>"
            ],
            "text/plain": [
              "                                                  id  ...  qt_filiais\n",
              "0  a6984c3ae395090e3bee8ad63c3758b110de096d5d8195...  ...           0\n",
              "1  6178f41ade1365e44bc2c46654c2c8c0eaae27dcb476c4...  ...           0\n",
              "2  4a7e5069a397f12fdd7fd57111d6dc5d3ba558958efc02...  ...           0\n",
              "3  3348900fe63216a439d2e5238c79ddd46ede454df7b9d8...  ...           0\n",
              "4  1f9bcabc9d3173c1fe769899e4fac14b053037b953a1e4...  ...           0\n",
              "\n",
              "[5 rows x 42 columns]"
            ]
          },
          "metadata": {
            "tags": []
          },
          "execution_count": 133
        }
      ]
    },
    {
      "cell_type": "code",
      "metadata": {
        "scrolled": true,
        "id": "Ta4a7vdJ3U9T",
        "colab_type": "code",
        "colab": {
          "base_uri": "https://localhost:8080/",
          "height": 1000
        },
        "outputId": "b9679d76-bfdc-4ec8-9ddf-c45a110bb8b9"
      },
      "source": [
        "print(\"Quantidade de colunas restante: {}\".format(len(df_mark.columns)))\n",
        "\n",
        "pd.DataFrame({'missing':df_mark.isna().sum(),\n",
        "              'cardinalidade': df_mark.nunique(),\n",
        "              'type': df_mark.dtypes,\n",
        "              'preenchidos' : df_mark.shape[0] - df_mark.isna().sum()}).sort_values('missing', ascending = False)"
      ],
      "execution_count": 134,
      "outputs": [
        {
          "output_type": "stream",
          "text": [
            "Quantidade de colunas restante: 42\n"
          ],
          "name": "stdout"
        },
        {
          "output_type": "execute_result",
          "data": {
            "text/html": [
              "<div>\n",
              "<style scoped>\n",
              "    .dataframe tbody tr th:only-of-type {\n",
              "        vertical-align: middle;\n",
              "    }\n",
              "\n",
              "    .dataframe tbody tr th {\n",
              "        vertical-align: top;\n",
              "    }\n",
              "\n",
              "    .dataframe thead th {\n",
              "        text-align: right;\n",
              "    }\n",
              "</style>\n",
              "<table border=\"1\" class=\"dataframe\">\n",
              "  <thead>\n",
              "    <tr style=\"text-align: right;\">\n",
              "      <th></th>\n",
              "      <th>missing</th>\n",
              "      <th>cardinalidade</th>\n",
              "      <th>type</th>\n",
              "      <th>preenchidos</th>\n",
              "    </tr>\n",
              "  </thead>\n",
              "  <tbody>\n",
              "    <tr>\n",
              "      <th>fl_optante_simei</th>\n",
              "      <td>82713</td>\n",
              "      <td>2</td>\n",
              "      <td>object</td>\n",
              "      <td>379585</td>\n",
              "    </tr>\n",
              "    <tr>\n",
              "      <th>fl_optante_simples</th>\n",
              "      <td>82713</td>\n",
              "      <td>2</td>\n",
              "      <td>object</td>\n",
              "      <td>379585</td>\n",
              "    </tr>\n",
              "    <tr>\n",
              "      <th>nm_micro_regiao</th>\n",
              "      <td>58698</td>\n",
              "      <td>73</td>\n",
              "      <td>object</td>\n",
              "      <td>403600</td>\n",
              "    </tr>\n",
              "    <tr>\n",
              "      <th>nm_meso_regiao</th>\n",
              "      <td>58698</td>\n",
              "      <td>19</td>\n",
              "      <td>object</td>\n",
              "      <td>403600</td>\n",
              "    </tr>\n",
              "    <tr>\n",
              "      <th>nu_meses_rescencia</th>\n",
              "      <td>45276</td>\n",
              "      <td>51</td>\n",
              "      <td>float64</td>\n",
              "      <td>417022</td>\n",
              "    </tr>\n",
              "    <tr>\n",
              "      <th>de_faixa_faturamento_estimado_grupo</th>\n",
              "      <td>27513</td>\n",
              "      <td>11</td>\n",
              "      <td>object</td>\n",
              "      <td>434785</td>\n",
              "    </tr>\n",
              "    <tr>\n",
              "      <th>de_faixa_faturamento_estimado</th>\n",
              "      <td>27513</td>\n",
              "      <td>12</td>\n",
              "      <td>object</td>\n",
              "      <td>434785</td>\n",
              "    </tr>\n",
              "    <tr>\n",
              "      <th>vl_faturamento_estimado_aux</th>\n",
              "      <td>27513</td>\n",
              "      <td>1920</td>\n",
              "      <td>float64</td>\n",
              "      <td>434785</td>\n",
              "    </tr>\n",
              "    <tr>\n",
              "      <th>vl_faturamento_estimado_grupo_aux</th>\n",
              "      <td>27513</td>\n",
              "      <td>6794</td>\n",
              "      <td>float64</td>\n",
              "      <td>434785</td>\n",
              "    </tr>\n",
              "    <tr>\n",
              "      <th>de_saude_rescencia</th>\n",
              "      <td>14851</td>\n",
              "      <td>5</td>\n",
              "      <td>object</td>\n",
              "      <td>447447</td>\n",
              "    </tr>\n",
              "    <tr>\n",
              "      <th>de_saude_tributaria</th>\n",
              "      <td>14851</td>\n",
              "      <td>6</td>\n",
              "      <td>object</td>\n",
              "      <td>447447</td>\n",
              "    </tr>\n",
              "    <tr>\n",
              "      <th>de_nivel_atividade</th>\n",
              "      <td>11168</td>\n",
              "      <td>4</td>\n",
              "      <td>object</td>\n",
              "      <td>451130</td>\n",
              "    </tr>\n",
              "    <tr>\n",
              "      <th>sg_uf_matriz</th>\n",
              "      <td>1939</td>\n",
              "      <td>27</td>\n",
              "      <td>object</td>\n",
              "      <td>460359</td>\n",
              "    </tr>\n",
              "    <tr>\n",
              "      <th>fl_antt</th>\n",
              "      <td>1927</td>\n",
              "      <td>2</td>\n",
              "      <td>object</td>\n",
              "      <td>460371</td>\n",
              "    </tr>\n",
              "    <tr>\n",
              "      <th>vl_total_veiculos_pesados_grupo</th>\n",
              "      <td>1927</td>\n",
              "      <td>296</td>\n",
              "      <td>float64</td>\n",
              "      <td>460371</td>\n",
              "    </tr>\n",
              "    <tr>\n",
              "      <th>vl_total_veiculos_leves_grupo</th>\n",
              "      <td>1927</td>\n",
              "      <td>310</td>\n",
              "      <td>float64</td>\n",
              "      <td>460371</td>\n",
              "    </tr>\n",
              "    <tr>\n",
              "      <th>nm_segmento</th>\n",
              "      <td>1927</td>\n",
              "      <td>21</td>\n",
              "      <td>object</td>\n",
              "      <td>460371</td>\n",
              "    </tr>\n",
              "    <tr>\n",
              "      <th>nm_divisao</th>\n",
              "      <td>1927</td>\n",
              "      <td>87</td>\n",
              "      <td>object</td>\n",
              "      <td>460371</td>\n",
              "    </tr>\n",
              "    <tr>\n",
              "      <th>fl_spa</th>\n",
              "      <td>1927</td>\n",
              "      <td>2</td>\n",
              "      <td>object</td>\n",
              "      <td>460371</td>\n",
              "    </tr>\n",
              "    <tr>\n",
              "      <th>fl_simples_irregular</th>\n",
              "      <td>1927</td>\n",
              "      <td>2</td>\n",
              "      <td>object</td>\n",
              "      <td>460371</td>\n",
              "    </tr>\n",
              "    <tr>\n",
              "      <th>fl_passivel_iss</th>\n",
              "      <td>1927</td>\n",
              "      <td>2</td>\n",
              "      <td>object</td>\n",
              "      <td>460371</td>\n",
              "    </tr>\n",
              "    <tr>\n",
              "      <th>setor</th>\n",
              "      <td>1927</td>\n",
              "      <td>5</td>\n",
              "      <td>object</td>\n",
              "      <td>460371</td>\n",
              "    </tr>\n",
              "    <tr>\n",
              "      <th>fl_veiculo</th>\n",
              "      <td>1927</td>\n",
              "      <td>2</td>\n",
              "      <td>object</td>\n",
              "      <td>460371</td>\n",
              "    </tr>\n",
              "    <tr>\n",
              "      <th>dt_situacao</th>\n",
              "      <td>6</td>\n",
              "      <td>7334</td>\n",
              "      <td>datetime64[ns]</td>\n",
              "      <td>462292</td>\n",
              "    </tr>\n",
              "    <tr>\n",
              "      <th>id</th>\n",
              "      <td>0</td>\n",
              "      <td>462298</td>\n",
              "      <td>object</td>\n",
              "      <td>462298</td>\n",
              "    </tr>\n",
              "    <tr>\n",
              "      <th>fl_matriz</th>\n",
              "      <td>0</td>\n",
              "      <td>2</td>\n",
              "      <td>bool</td>\n",
              "      <td>462298</td>\n",
              "    </tr>\n",
              "    <tr>\n",
              "      <th>fl_me</th>\n",
              "      <td>0</td>\n",
              "      <td>2</td>\n",
              "      <td>bool</td>\n",
              "      <td>462298</td>\n",
              "    </tr>\n",
              "    <tr>\n",
              "      <th>de_natureza_juridica</th>\n",
              "      <td>0</td>\n",
              "      <td>67</td>\n",
              "      <td>object</td>\n",
              "      <td>462298</td>\n",
              "    </tr>\n",
              "    <tr>\n",
              "      <th>sg_uf</th>\n",
              "      <td>0</td>\n",
              "      <td>6</td>\n",
              "      <td>object</td>\n",
              "      <td>462298</td>\n",
              "    </tr>\n",
              "    <tr>\n",
              "      <th>natureza_juridica_macro</th>\n",
              "      <td>0</td>\n",
              "      <td>7</td>\n",
              "      <td>object</td>\n",
              "      <td>462298</td>\n",
              "    </tr>\n",
              "    <tr>\n",
              "      <th>de_ramo</th>\n",
              "      <td>0</td>\n",
              "      <td>33</td>\n",
              "      <td>object</td>\n",
              "      <td>462298</td>\n",
              "    </tr>\n",
              "    <tr>\n",
              "      <th>idade_empresa_anos</th>\n",
              "      <td>0</td>\n",
              "      <td>14198</td>\n",
              "      <td>float64</td>\n",
              "      <td>462298</td>\n",
              "    </tr>\n",
              "    <tr>\n",
              "      <th>idade_emp_cat</th>\n",
              "      <td>0</td>\n",
              "      <td>6</td>\n",
              "      <td>object</td>\n",
              "      <td>462298</td>\n",
              "    </tr>\n",
              "    <tr>\n",
              "      <th>fl_sa</th>\n",
              "      <td>0</td>\n",
              "      <td>2</td>\n",
              "      <td>bool</td>\n",
              "      <td>462298</td>\n",
              "    </tr>\n",
              "    <tr>\n",
              "      <th>fl_rm</th>\n",
              "      <td>0</td>\n",
              "      <td>2</td>\n",
              "      <td>object</td>\n",
              "      <td>462298</td>\n",
              "    </tr>\n",
              "    <tr>\n",
              "      <th>fl_epp</th>\n",
              "      <td>0</td>\n",
              "      <td>1</td>\n",
              "      <td>bool</td>\n",
              "      <td>462298</td>\n",
              "    </tr>\n",
              "    <tr>\n",
              "      <th>fl_mei</th>\n",
              "      <td>0</td>\n",
              "      <td>2</td>\n",
              "      <td>bool</td>\n",
              "      <td>462298</td>\n",
              "    </tr>\n",
              "    <tr>\n",
              "      <th>fl_ltda</th>\n",
              "      <td>0</td>\n",
              "      <td>2</td>\n",
              "      <td>bool</td>\n",
              "      <td>462298</td>\n",
              "    </tr>\n",
              "    <tr>\n",
              "      <th>fl_st_especial</th>\n",
              "      <td>0</td>\n",
              "      <td>2</td>\n",
              "      <td>bool</td>\n",
              "      <td>462298</td>\n",
              "    </tr>\n",
              "    <tr>\n",
              "      <th>fl_email</th>\n",
              "      <td>0</td>\n",
              "      <td>2</td>\n",
              "      <td>bool</td>\n",
              "      <td>462298</td>\n",
              "    </tr>\n",
              "    <tr>\n",
              "      <th>fl_telefone</th>\n",
              "      <td>0</td>\n",
              "      <td>2</td>\n",
              "      <td>bool</td>\n",
              "      <td>462298</td>\n",
              "    </tr>\n",
              "    <tr>\n",
              "      <th>qt_filiais</th>\n",
              "      <td>0</td>\n",
              "      <td>304</td>\n",
              "      <td>int64</td>\n",
              "      <td>462298</td>\n",
              "    </tr>\n",
              "  </tbody>\n",
              "</table>\n",
              "</div>"
            ],
            "text/plain": [
              "                                     missing  ...  preenchidos\n",
              "fl_optante_simei                       82713  ...       379585\n",
              "fl_optante_simples                     82713  ...       379585\n",
              "nm_micro_regiao                        58698  ...       403600\n",
              "nm_meso_regiao                         58698  ...       403600\n",
              "nu_meses_rescencia                     45276  ...       417022\n",
              "de_faixa_faturamento_estimado_grupo    27513  ...       434785\n",
              "de_faixa_faturamento_estimado          27513  ...       434785\n",
              "vl_faturamento_estimado_aux            27513  ...       434785\n",
              "vl_faturamento_estimado_grupo_aux      27513  ...       434785\n",
              "de_saude_rescencia                     14851  ...       447447\n",
              "de_saude_tributaria                    14851  ...       447447\n",
              "de_nivel_atividade                     11168  ...       451130\n",
              "sg_uf_matriz                            1939  ...       460359\n",
              "fl_antt                                 1927  ...       460371\n",
              "vl_total_veiculos_pesados_grupo         1927  ...       460371\n",
              "vl_total_veiculos_leves_grupo           1927  ...       460371\n",
              "nm_segmento                             1927  ...       460371\n",
              "nm_divisao                              1927  ...       460371\n",
              "fl_spa                                  1927  ...       460371\n",
              "fl_simples_irregular                    1927  ...       460371\n",
              "fl_passivel_iss                         1927  ...       460371\n",
              "setor                                   1927  ...       460371\n",
              "fl_veiculo                              1927  ...       460371\n",
              "dt_situacao                                6  ...       462292\n",
              "id                                         0  ...       462298\n",
              "fl_matriz                                  0  ...       462298\n",
              "fl_me                                      0  ...       462298\n",
              "de_natureza_juridica                       0  ...       462298\n",
              "sg_uf                                      0  ...       462298\n",
              "natureza_juridica_macro                    0  ...       462298\n",
              "de_ramo                                    0  ...       462298\n",
              "idade_empresa_anos                         0  ...       462298\n",
              "idade_emp_cat                              0  ...       462298\n",
              "fl_sa                                      0  ...       462298\n",
              "fl_rm                                      0  ...       462298\n",
              "fl_epp                                     0  ...       462298\n",
              "fl_mei                                     0  ...       462298\n",
              "fl_ltda                                    0  ...       462298\n",
              "fl_st_especial                             0  ...       462298\n",
              "fl_email                                   0  ...       462298\n",
              "fl_telefone                                0  ...       462298\n",
              "qt_filiais                                 0  ...       462298\n",
              "\n",
              "[42 rows x 4 columns]"
            ]
          },
          "metadata": {
            "tags": []
          },
          "execution_count": 134
        }
      ]
    },
    {
      "cell_type": "code",
      "metadata": {
        "id": "u9KKg3KJ0v0I",
        "colab_type": "code",
        "colab": {}
      },
      "source": [
        "## Primeiro irei excluir a coluna dt_situação, pois ela é do tipo datetime e acredito que não\n",
        "## pode levar à um certo leakage nos dados\n",
        "\n",
        "df_mark.drop('dt_situacao', axis = 1, inplace = True)"
      ],
      "execution_count": 135,
      "outputs": []
    },
    {
      "cell_type": "markdown",
      "metadata": {
        "id": "TUHgdb2M3U9j",
        "colab_type": "text"
      },
      "source": [
        "### Prosseguirei analisando as colunas do tipo object"
      ]
    },
    {
      "cell_type": "code",
      "metadata": {
        "scrolled": true,
        "id": "ZVjdatof3U9k",
        "colab_type": "code",
        "colab": {}
      },
      "source": [
        "object_cols = df_mark.select_dtypes(include = 'object').columns"
      ],
      "execution_count": 136,
      "outputs": []
    },
    {
      "cell_type": "code",
      "metadata": {
        "id": "KBrdTCotgmFA",
        "colab_type": "code",
        "colab": {
          "base_uri": "https://localhost:8080/",
          "height": 766
        },
        "outputId": "e3683069-8a69-46ae-bce4-2d632cac80f3"
      },
      "source": [
        "pd.DataFrame({'missing':df_mark[object_cols].isna().sum(),\n",
        "              'cardinalidade': df_mark[object_cols].nunique(),\n",
        "              'type': df_mark[object_cols].dtypes}).sort_values('missing', ascending = False)"
      ],
      "execution_count": 137,
      "outputs": [
        {
          "output_type": "execute_result",
          "data": {
            "text/html": [
              "<div>\n",
              "<style scoped>\n",
              "    .dataframe tbody tr th:only-of-type {\n",
              "        vertical-align: middle;\n",
              "    }\n",
              "\n",
              "    .dataframe tbody tr th {\n",
              "        vertical-align: top;\n",
              "    }\n",
              "\n",
              "    .dataframe thead th {\n",
              "        text-align: right;\n",
              "    }\n",
              "</style>\n",
              "<table border=\"1\" class=\"dataframe\">\n",
              "  <thead>\n",
              "    <tr style=\"text-align: right;\">\n",
              "      <th></th>\n",
              "      <th>missing</th>\n",
              "      <th>cardinalidade</th>\n",
              "      <th>type</th>\n",
              "    </tr>\n",
              "  </thead>\n",
              "  <tbody>\n",
              "    <tr>\n",
              "      <th>fl_optante_simples</th>\n",
              "      <td>82713</td>\n",
              "      <td>2</td>\n",
              "      <td>object</td>\n",
              "    </tr>\n",
              "    <tr>\n",
              "      <th>fl_optante_simei</th>\n",
              "      <td>82713</td>\n",
              "      <td>2</td>\n",
              "      <td>object</td>\n",
              "    </tr>\n",
              "    <tr>\n",
              "      <th>nm_micro_regiao</th>\n",
              "      <td>58698</td>\n",
              "      <td>73</td>\n",
              "      <td>object</td>\n",
              "    </tr>\n",
              "    <tr>\n",
              "      <th>nm_meso_regiao</th>\n",
              "      <td>58698</td>\n",
              "      <td>19</td>\n",
              "      <td>object</td>\n",
              "    </tr>\n",
              "    <tr>\n",
              "      <th>de_faixa_faturamento_estimado_grupo</th>\n",
              "      <td>27513</td>\n",
              "      <td>11</td>\n",
              "      <td>object</td>\n",
              "    </tr>\n",
              "    <tr>\n",
              "      <th>de_faixa_faturamento_estimado</th>\n",
              "      <td>27513</td>\n",
              "      <td>12</td>\n",
              "      <td>object</td>\n",
              "    </tr>\n",
              "    <tr>\n",
              "      <th>de_saude_rescencia</th>\n",
              "      <td>14851</td>\n",
              "      <td>5</td>\n",
              "      <td>object</td>\n",
              "    </tr>\n",
              "    <tr>\n",
              "      <th>de_saude_tributaria</th>\n",
              "      <td>14851</td>\n",
              "      <td>6</td>\n",
              "      <td>object</td>\n",
              "    </tr>\n",
              "    <tr>\n",
              "      <th>de_nivel_atividade</th>\n",
              "      <td>11168</td>\n",
              "      <td>4</td>\n",
              "      <td>object</td>\n",
              "    </tr>\n",
              "    <tr>\n",
              "      <th>sg_uf_matriz</th>\n",
              "      <td>1939</td>\n",
              "      <td>27</td>\n",
              "      <td>object</td>\n",
              "    </tr>\n",
              "    <tr>\n",
              "      <th>fl_passivel_iss</th>\n",
              "      <td>1927</td>\n",
              "      <td>2</td>\n",
              "      <td>object</td>\n",
              "    </tr>\n",
              "    <tr>\n",
              "      <th>fl_simples_irregular</th>\n",
              "      <td>1927</td>\n",
              "      <td>2</td>\n",
              "      <td>object</td>\n",
              "    </tr>\n",
              "    <tr>\n",
              "      <th>fl_veiculo</th>\n",
              "      <td>1927</td>\n",
              "      <td>2</td>\n",
              "      <td>object</td>\n",
              "    </tr>\n",
              "    <tr>\n",
              "      <th>fl_antt</th>\n",
              "      <td>1927</td>\n",
              "      <td>2</td>\n",
              "      <td>object</td>\n",
              "    </tr>\n",
              "    <tr>\n",
              "      <th>fl_spa</th>\n",
              "      <td>1927</td>\n",
              "      <td>2</td>\n",
              "      <td>object</td>\n",
              "    </tr>\n",
              "    <tr>\n",
              "      <th>nm_segmento</th>\n",
              "      <td>1927</td>\n",
              "      <td>21</td>\n",
              "      <td>object</td>\n",
              "    </tr>\n",
              "    <tr>\n",
              "      <th>nm_divisao</th>\n",
              "      <td>1927</td>\n",
              "      <td>87</td>\n",
              "      <td>object</td>\n",
              "    </tr>\n",
              "    <tr>\n",
              "      <th>setor</th>\n",
              "      <td>1927</td>\n",
              "      <td>5</td>\n",
              "      <td>object</td>\n",
              "    </tr>\n",
              "    <tr>\n",
              "      <th>de_natureza_juridica</th>\n",
              "      <td>0</td>\n",
              "      <td>67</td>\n",
              "      <td>object</td>\n",
              "    </tr>\n",
              "    <tr>\n",
              "      <th>fl_rm</th>\n",
              "      <td>0</td>\n",
              "      <td>2</td>\n",
              "      <td>object</td>\n",
              "    </tr>\n",
              "    <tr>\n",
              "      <th>idade_emp_cat</th>\n",
              "      <td>0</td>\n",
              "      <td>6</td>\n",
              "      <td>object</td>\n",
              "    </tr>\n",
              "    <tr>\n",
              "      <th>de_ramo</th>\n",
              "      <td>0</td>\n",
              "      <td>33</td>\n",
              "      <td>object</td>\n",
              "    </tr>\n",
              "    <tr>\n",
              "      <th>natureza_juridica_macro</th>\n",
              "      <td>0</td>\n",
              "      <td>7</td>\n",
              "      <td>object</td>\n",
              "    </tr>\n",
              "    <tr>\n",
              "      <th>sg_uf</th>\n",
              "      <td>0</td>\n",
              "      <td>6</td>\n",
              "      <td>object</td>\n",
              "    </tr>\n",
              "    <tr>\n",
              "      <th>id</th>\n",
              "      <td>0</td>\n",
              "      <td>462298</td>\n",
              "      <td>object</td>\n",
              "    </tr>\n",
              "  </tbody>\n",
              "</table>\n",
              "</div>"
            ],
            "text/plain": [
              "                                     missing  cardinalidade    type\n",
              "fl_optante_simples                     82713              2  object\n",
              "fl_optante_simei                       82713              2  object\n",
              "nm_micro_regiao                        58698             73  object\n",
              "nm_meso_regiao                         58698             19  object\n",
              "de_faixa_faturamento_estimado_grupo    27513             11  object\n",
              "de_faixa_faturamento_estimado          27513             12  object\n",
              "de_saude_rescencia                     14851              5  object\n",
              "de_saude_tributaria                    14851              6  object\n",
              "de_nivel_atividade                     11168              4  object\n",
              "sg_uf_matriz                            1939             27  object\n",
              "fl_passivel_iss                         1927              2  object\n",
              "fl_simples_irregular                    1927              2  object\n",
              "fl_veiculo                              1927              2  object\n",
              "fl_antt                                 1927              2  object\n",
              "fl_spa                                  1927              2  object\n",
              "nm_segmento                             1927             21  object\n",
              "nm_divisao                              1927             87  object\n",
              "setor                                   1927              5  object\n",
              "de_natureza_juridica                       0             67  object\n",
              "fl_rm                                      0              2  object\n",
              "idade_emp_cat                              0              6  object\n",
              "de_ramo                                    0             33  object\n",
              "natureza_juridica_macro                    0              7  object\n",
              "sg_uf                                      0              6  object\n",
              "id                                         0         462298  object"
            ]
          },
          "metadata": {
            "tags": []
          },
          "execution_count": 137
        }
      ]
    },
    {
      "cell_type": "code",
      "metadata": {
        "id": "go8XOXZV3U9n",
        "colab_type": "code",
        "colab": {
          "base_uri": "https://localhost:8080/",
          "height": 66
        },
        "outputId": "537ed6f7-79fe-4b31-dbbc-f98e27024029"
      },
      "source": [
        "##  As colunas 'fl_spa' e fl_simples_irregular estão altamente desbalanceadas, portanto irei\n",
        "## ecluí-las\n",
        "drop = ['fl_simples_irregular', 'fl_spa']\n",
        "print(df_mark['fl_simples_irregular'].value_counts())\n",
        "df_mark.drop(drop, axis = 1, inplace = True)"
      ],
      "execution_count": 138,
      "outputs": [
        {
          "output_type": "stream",
          "text": [
            "False    460030\n",
            "True        341\n",
            "Name: fl_simples_irregular, dtype: int64\n"
          ],
          "name": "stdout"
        }
      ]
    },
    {
      "cell_type": "code",
      "metadata": {
        "id": "uoejpjt2zNCR",
        "colab_type": "code",
        "colab": {}
      },
      "source": [
        "# Irei excluir colunas que possuem alta cardinalidade, com excessão da coluna 'nm_micro_regiao'.\n",
        "# A coluna sg_uf_matriz além de ter alta cardinalidade também pode ser redundante, comparada a coluna sg_uf\n",
        "\n",
        "drop = ['sg_uf_matriz','nm_meso_regiao','nm_divisao','de_natureza_juridica', 'nm_segmento']\n",
        "\n",
        "df_mark.drop(drop, axis = 1, inplace = True)"
      ],
      "execution_count": 139,
      "outputs": []
    },
    {
      "cell_type": "code",
      "metadata": {
        "id": "BLbem-rXzNTA",
        "colab_type": "code",
        "colab": {}
      },
      "source": [
        "## Removerei a coluna de faturamento por grupo pois ela é reduntante à coluna 'de_faixa_faturamento_estimado'\n",
        "\n",
        "df_mark.drop('de_faixa_faturamento_estimado_grupo', axis = 1, inplace = True)"
      ],
      "execution_count": 140,
      "outputs": []
    },
    {
      "cell_type": "code",
      "metadata": {
        "id": "AnHoSbSv3U9q",
        "colab_type": "code",
        "colab": {}
      },
      "source": [
        "## Irei aplicar um LabelEncoder manual na coluna 'de_nivel_atividade'\n",
        "\n",
        "encoder = {\n",
        "    np.nan : 0,\n",
        "    'SEM INFORMACAO': 0,\n",
        "    'MUITO BAIXA': 1,\n",
        "    'BAIXA': 2,\n",
        "    'MEDIA': 3,\n",
        "    'ALTA': 4}\n",
        "\n",
        "df_mark['de_nivel_atividade_enc'] = df_mark['de_nivel_atividade'].map(encoder, na_action='ignore').astype('int')\n",
        "df_mark.drop(columns=['de_nivel_atividade'], inplace=True)"
      ],
      "execution_count": 141,
      "outputs": []
    },
    {
      "cell_type": "code",
      "metadata": {
        "id": "BkP1ucwPRAgu",
        "colab_type": "code",
        "colab": {}
      },
      "source": [
        "#Excluo as colunsa pois são do tipo categórica e são reduntantes à \n",
        "#outras colunsa numéricas já existentes\n",
        "\n",
        "drop = ['de_faixa_faturamento_estimado', 'idade_emp_cat', 'de_saude_rescencia']\n",
        "\n",
        "df_mark.drop(drop, axis = 1, inplace = True)"
      ],
      "execution_count": 142,
      "outputs": []
    },
    {
      "cell_type": "code",
      "metadata": {
        "id": "qJy0YyXe8JkT",
        "colab_type": "code",
        "colab": {}
      },
      "source": [
        "# Excluo a coluna vl_faturamento_estimado_grupo_aux pois ela é igual a coluna vl_faturamento_estimado_aux\n",
        "\n",
        "df_mark.drop('vl_faturamento_estimado_grupo_aux', axis = 1, inplace = True)"
      ],
      "execution_count": 143,
      "outputs": []
    },
    {
      "cell_type": "markdown",
      "metadata": {
        "id": "vjwZb_KOIdsg",
        "colab_type": "text"
      },
      "source": [
        "Bem, aqui eu aproveitei uma base gerada neste [link](https://github.com/codenation-dev/squad-1-ad-data-science-1/blob/master/analysis/Save_IBGE_data_for_Map_Visualization_in_Recommendation_System.ipynb) para ter a latitude e longitude de cada microrregião. A ideia é, ao invés de criar uma feature para cada microrregião com OneHotEncoder, vou usar as posições GPS."
      ]
    },
    {
      "cell_type": "code",
      "metadata": {
        "id": "p-MfQdPKIWs2",
        "colab_type": "code",
        "colab": {
          "base_uri": "https://localhost:8080/",
          "height": 191
        },
        "outputId": "9f626308-e1e9-43a5-82bb-13fd05b4b5a3"
      },
      "source": [
        "microregioes = pd.read_csv('/content/drive/My Drive/coord_geograficas_microrregioes_brasil.csv')\n",
        "microregioes.head()"
      ],
      "execution_count": 144,
      "outputs": [
        {
          "output_type": "execute_result",
          "data": {
            "text/html": [
              "<div>\n",
              "<style scoped>\n",
              "    .dataframe tbody tr th:only-of-type {\n",
              "        vertical-align: middle;\n",
              "    }\n",
              "\n",
              "    .dataframe tbody tr th {\n",
              "        vertical-align: top;\n",
              "    }\n",
              "\n",
              "    .dataframe thead th {\n",
              "        text-align: right;\n",
              "    }\n",
              "</style>\n",
              "<table border=\"1\" class=\"dataframe\">\n",
              "  <thead>\n",
              "    <tr style=\"text-align: right;\">\n",
              "      <th></th>\n",
              "      <th>nm_uf</th>\n",
              "      <th>nm_micro</th>\n",
              "      <th>lng</th>\n",
              "      <th>lat</th>\n",
              "    </tr>\n",
              "  </thead>\n",
              "  <tbody>\n",
              "    <tr>\n",
              "      <th>0</th>\n",
              "      <td>SAO PAULO</td>\n",
              "      <td>ADAMANTINA</td>\n",
              "      <td>-50.997688</td>\n",
              "      <td>-21.706115</td>\n",
              "    </tr>\n",
              "    <tr>\n",
              "      <th>1</th>\n",
              "      <td>ESPÍRITO SANTO</td>\n",
              "      <td>AFONSO CLAUDIO</td>\n",
              "      <td>-41.018390</td>\n",
              "      <td>-20.191878</td>\n",
              "    </tr>\n",
              "    <tr>\n",
              "      <th>2</th>\n",
              "      <td>MARANHÃO</td>\n",
              "      <td>AGLOMERACAO URBANA DE SAO LUIS</td>\n",
              "      <td>-44.142982</td>\n",
              "      <td>-2.562962</td>\n",
              "    </tr>\n",
              "    <tr>\n",
              "      <th>3</th>\n",
              "      <td>SERGIPE</td>\n",
              "      <td>AGRESTE DE ITABAIANA</td>\n",
              "      <td>-37.411976</td>\n",
              "      <td>-10.729138</td>\n",
              "    </tr>\n",
              "    <tr>\n",
              "      <th>4</th>\n",
              "      <td>SERGIPE</td>\n",
              "      <td>AGRESTE DE LAGARTO</td>\n",
              "      <td>-37.680786</td>\n",
              "      <td>-10.921736</td>\n",
              "    </tr>\n",
              "  </tbody>\n",
              "</table>\n",
              "</div>"
            ],
            "text/plain": [
              "            nm_uf                        nm_micro        lng        lat\n",
              "0       SAO PAULO                      ADAMANTINA -50.997688 -21.706115\n",
              "1  ESPÍRITO SANTO                  AFONSO CLAUDIO -41.018390 -20.191878\n",
              "2        MARANHÃO  AGLOMERACAO URBANA DE SAO LUIS -44.142982  -2.562962\n",
              "3         SERGIPE            AGRESTE DE ITABAIANA -37.411976 -10.729138\n",
              "4         SERGIPE              AGRESTE DE LAGARTO -37.680786 -10.921736"
            ]
          },
          "metadata": {
            "tags": []
          },
          "execution_count": 144
        }
      ]
    },
    {
      "cell_type": "code",
      "metadata": {
        "id": "aRTXwVceOH-Y",
        "colab_type": "code",
        "colab": {}
      },
      "source": [
        "microregioes = microregioes.rename(columns={'nm_micro': 'nm_micro_regiao'})[['nm_micro_regiao', 'lng', 'lat']]"
      ],
      "execution_count": 145,
      "outputs": []
    },
    {
      "cell_type": "markdown",
      "metadata": {
        "id": "gOmwTlekOozd",
        "colab_type": "text"
      },
      "source": [
        "Junto as coordenadas com os dados das empresas"
      ]
    },
    {
      "cell_type": "code",
      "metadata": {
        "id": "S92FKTN2OTRF",
        "colab_type": "code",
        "colab": {}
      },
      "source": [
        "df_mark = pd.merge(df_mark, microregioes, on='nm_micro_regiao', how='left')\n",
        "df_mark.drop(columns=['nm_micro_regiao'], inplace=True)"
      ],
      "execution_count": 146,
      "outputs": []
    },
    {
      "cell_type": "code",
      "metadata": {
        "id": "iKbuAUyJOiSC",
        "colab_type": "code",
        "colab": {}
      },
      "source": [
        "df_mark['lat'].fillna(df_mark['lat'].mean(), inplace=True)\n",
        "df_mark['lng'].fillna(df_mark['lng'].mean(), inplace=True)"
      ],
      "execution_count": 147,
      "outputs": []
    },
    {
      "cell_type": "markdown",
      "metadata": {
        "id": "xnIjvd9X3U91",
        "colab_type": "text"
      },
      "source": [
        "### Criando Pipeline\n"
      ]
    },
    {
      "cell_type": "markdown",
      "metadata": {
        "id": "smtemJIaB2nZ",
        "colab_type": "text"
      },
      "source": [
        "Pegando colunas booleanas"
      ]
    },
    {
      "cell_type": "code",
      "metadata": {
        "id": "BN0JBLfB3U91",
        "colab_type": "code",
        "colab": {
          "base_uri": "https://localhost:8080/",
          "height": 261
        },
        "outputId": "53062193-89a1-46a1-c597-925c98910c02"
      },
      "source": [
        "bool_columns = [col for col in df_mark.columns if col.startswith('fl_')]\n",
        "bool_columns"
      ],
      "execution_count": 148,
      "outputs": [
        {
          "output_type": "execute_result",
          "data": {
            "text/plain": [
              "['fl_matriz',\n",
              " 'fl_me',\n",
              " 'fl_sa',\n",
              " 'fl_epp',\n",
              " 'fl_mei',\n",
              " 'fl_ltda',\n",
              " 'fl_st_especial',\n",
              " 'fl_email',\n",
              " 'fl_telefone',\n",
              " 'fl_rm',\n",
              " 'fl_antt',\n",
              " 'fl_veiculo',\n",
              " 'fl_optante_simples',\n",
              " 'fl_optante_simei',\n",
              " 'fl_passivel_iss']"
            ]
          },
          "metadata": {
            "tags": []
          },
          "execution_count": 148
        }
      ]
    },
    {
      "cell_type": "code",
      "metadata": {
        "id": "COzvxLpFCT1k",
        "colab_type": "code",
        "colab": {}
      },
      "source": [
        "# Transformando booleanos em números inteiros (0 ou 1)\n",
        "df_mark[bool_columns] = df_mark[bool_columns].astype(bool).astype('int8')"
      ],
      "execution_count": 149,
      "outputs": []
    },
    {
      "cell_type": "code",
      "metadata": {
        "id": "8Y-cQSydBCZN",
        "colab_type": "code",
        "colab": {
          "base_uri": "https://localhost:8080/",
          "height": 115
        },
        "outputId": "cdd2e3a6-2314-43d8-c3ac-be766fc32a9a"
      },
      "source": [
        "obj_columns = list(df_mark.select_dtypes('object'))\n",
        "obj_columns"
      ],
      "execution_count": 150,
      "outputs": [
        {
          "output_type": "execute_result",
          "data": {
            "text/plain": [
              "['id',\n",
              " 'sg_uf',\n",
              " 'natureza_juridica_macro',\n",
              " 'de_ramo',\n",
              " 'setor',\n",
              " 'de_saude_tributaria']"
            ]
          },
          "metadata": {
            "tags": []
          },
          "execution_count": 150
        }
      ]
    },
    {
      "cell_type": "code",
      "metadata": {
        "id": "s7BUOLsDBEJo",
        "colab_type": "code",
        "colab": {
          "base_uri": "https://localhost:8080/",
          "height": 115
        },
        "outputId": "54234be7-c063-4730-8615-3b5d4abfac8f"
      },
      "source": [
        "num_columns = list(df_mark.columns[~df_mark.columns.isin(['id'] + obj_columns + bool_columns)])\n",
        "num_columns.remove('de_nivel_atividade_enc')\n",
        "num_columns.remove('lng')\n",
        "num_columns.remove('lat')\n",
        "num_columns"
      ],
      "execution_count": 151,
      "outputs": [
        {
          "output_type": "execute_result",
          "data": {
            "text/plain": [
              "['idade_empresa_anos',\n",
              " 'vl_total_veiculos_pesados_grupo',\n",
              " 'vl_total_veiculos_leves_grupo',\n",
              " 'nu_meses_rescencia',\n",
              " 'vl_faturamento_estimado_aux',\n",
              " 'qt_filiais']"
            ]
          },
          "metadata": {
            "tags": []
          },
          "execution_count": 151
        }
      ]
    },
    {
      "cell_type": "code",
      "metadata": {
        "id": "snV3Et9ZFuab",
        "colab_type": "code",
        "colab": {}
      },
      "source": [
        "ord_columns = ['de_nivel_atividade_enc']"
      ],
      "execution_count": 152,
      "outputs": []
    },
    {
      "cell_type": "markdown",
      "metadata": {
        "id": "ji4UAdH9J8im",
        "colab_type": "text"
      },
      "source": [
        "### Correlação"
      ]
    },
    {
      "cell_type": "markdown",
      "metadata": {
        "id": "GT3yUjmOJ8yN",
        "colab_type": "text"
      },
      "source": [
        "Primeiro checarei a correlação do dataframe a fim de identificar features sem relevância ou que apresentam multicolinearidade"
      ]
    },
    {
      "cell_type": "code",
      "metadata": {
        "id": "i5ik2f3cLmzv",
        "colab_type": "code",
        "colab": {
          "base_uri": "https://localhost:8080/",
          "height": 857
        },
        "outputId": "fe999d8b-49b5-4aa1-dcaa-8be96e6d1998"
      },
      "source": [
        "plt.figure(figsize = (20,12))\n",
        "\n",
        "sns.heatmap(df_mark[bool_columns + num_columns + ord_columns].corr(), cmap = 'RdBu', annot = True, vmin=-1, vmax=1, fmt='.1f');"
      ],
      "execution_count": 153,
      "outputs": [
        {
          "output_type": "display_data",
          "data": {
            "image/png": "[encoded data removed]",
            "text/plain": [
              "<Figure size 1440x864 with 2 Axes>"
            ]
          },
          "metadata": {
            "tags": [],
            "needs_background": "light"
          }
        }
      ]
    },
    {
      "cell_type": "code",
      "metadata": {
        "id": "-N8yJ4vBr9c3",
        "colab_type": "code",
        "colab": {
          "base_uri": "https://localhost:8080/",
          "height": 960
        },
        "outputId": "17031599-5bc5-45e3-a086-05e675785f21"
      },
      "source": [
        "for i in range(0,len(bool_columns)):\n",
        "  print(\"{}\\n\".format(df_mark[bool_columns].iloc[:,i].value_counts()))"
      ],
      "execution_count": 154,
      "outputs": [
        {
          "output_type": "stream",
          "text": [
            "1    440118\n",
            "0     29417\n",
            "Name: fl_matriz, dtype: int64\n",
            "\n",
            "0    468284\n",
            "1      1251\n",
            "Name: fl_me, dtype: int64\n",
            "\n",
            "0    461006\n",
            "1      8529\n",
            "Name: fl_sa, dtype: int64\n",
            "\n",
            "0    469535\n",
            "Name: fl_epp, dtype: int64\n",
            "\n",
            "0    315823\n",
            "1    153712\n",
            "Name: fl_mei, dtype: int64\n",
            "\n",
            "0    468285\n",
            "1      1250\n",
            "Name: fl_ltda, dtype: int64\n",
            "\n",
            "0    469466\n",
            "1        69\n",
            "Name: fl_st_especial, dtype: int64\n",
            "\n",
            "0    260224\n",
            "1    209311\n",
            "Name: fl_email, dtype: int64\n",
            "\n",
            "1    341073\n",
            "0    128462\n",
            "Name: fl_telefone, dtype: int64\n",
            "\n",
            "1    469535\n",
            "Name: fl_rm, dtype: int64\n",
            "\n",
            "0    464309\n",
            "1      5226\n",
            "Name: fl_antt, dtype: int64\n",
            "\n",
            "0    436640\n",
            "1     32895\n",
            "Name: fl_veiculo, dtype: int64\n",
            "\n",
            "1    287062\n",
            "0    182473\n",
            "Name: fl_optante_simples, dtype: int64\n",
            "\n",
            "0    289693\n",
            "1    179842\n",
            "Name: fl_optante_simei, dtype: int64\n",
            "\n",
            "1    270707\n",
            "0    198828\n",
            "Name: fl_passivel_iss, dtype: int64\n",
            "\n"
          ],
          "name": "stdout"
        }
      ]
    },
    {
      "cell_type": "markdown",
      "metadata": {
        "id": "T7v0YEwNtkX1",
        "colab_type": "text"
      },
      "source": [
        "Percebe-se que as colunas com pouca relevância são as booleanas que estão extramamente desbalanceadas. Portanto irei excluí-las também"
      ]
    },
    {
      "cell_type": "code",
      "metadata": {
        "id": "jB-bbl1bKrOj",
        "colab_type": "code",
        "colab": {}
      },
      "source": [
        "drop = ['fl_epp', 'fl_rm', 'fl_st_especial', 'fl_me', 'fl_antt', 'fl_ltda']\n",
        "\n",
        "df_mark.drop(drop, axis = 1, inplace = True)"
      ],
      "execution_count": 155,
      "outputs": []
    },
    {
      "cell_type": "markdown",
      "metadata": {
        "id": "skSmj4p43U-C",
        "colab_type": "text"
      },
      "source": [
        "### Preenchendo os Missing Values"
      ]
    },
    {
      "cell_type": "code",
      "metadata": {
        "scrolled": false,
        "id": "y6IEAqh_3U-C",
        "colab_type": "code",
        "colab": {
          "base_uri": "https://localhost:8080/",
          "height": 220
        },
        "outputId": "9b2ba596-2a11-441b-da62-afc479e29835"
      },
      "source": [
        "pd.DataFrame({'nulls':df_mark.isnull().sum(),\n",
        "              'types':df_mark.dtypes}).sort_values(by = 'nulls', ascending = False).iloc[0:6,:]"
      ],
      "execution_count": 156,
      "outputs": [
        {
          "output_type": "execute_result",
          "data": {
            "text/html": [
              "<div>\n",
              "<style scoped>\n",
              "    .dataframe tbody tr th:only-of-type {\n",
              "        vertical-align: middle;\n",
              "    }\n",
              "\n",
              "    .dataframe tbody tr th {\n",
              "        vertical-align: top;\n",
              "    }\n",
              "\n",
              "    .dataframe thead th {\n",
              "        text-align: right;\n",
              "    }\n",
              "</style>\n",
              "<table border=\"1\" class=\"dataframe\">\n",
              "  <thead>\n",
              "    <tr style=\"text-align: right;\">\n",
              "      <th></th>\n",
              "      <th>nulls</th>\n",
              "      <th>types</th>\n",
              "    </tr>\n",
              "  </thead>\n",
              "  <tbody>\n",
              "    <tr>\n",
              "      <th>nu_meses_rescencia</th>\n",
              "      <td>45915</td>\n",
              "      <td>float64</td>\n",
              "    </tr>\n",
              "    <tr>\n",
              "      <th>vl_faturamento_estimado_aux</th>\n",
              "      <td>27950</td>\n",
              "      <td>float64</td>\n",
              "    </tr>\n",
              "    <tr>\n",
              "      <th>de_saude_tributaria</th>\n",
              "      <td>15017</td>\n",
              "      <td>object</td>\n",
              "    </tr>\n",
              "    <tr>\n",
              "      <th>vl_total_veiculos_pesados_grupo</th>\n",
              "      <td>1927</td>\n",
              "      <td>float64</td>\n",
              "    </tr>\n",
              "    <tr>\n",
              "      <th>setor</th>\n",
              "      <td>1927</td>\n",
              "      <td>object</td>\n",
              "    </tr>\n",
              "    <tr>\n",
              "      <th>vl_total_veiculos_leves_grupo</th>\n",
              "      <td>1927</td>\n",
              "      <td>float64</td>\n",
              "    </tr>\n",
              "  </tbody>\n",
              "</table>\n",
              "</div>"
            ],
            "text/plain": [
              "                                 nulls    types\n",
              "nu_meses_rescencia               45915  float64\n",
              "vl_faturamento_estimado_aux      27950  float64\n",
              "de_saude_tributaria              15017   object\n",
              "vl_total_veiculos_pesados_grupo   1927  float64\n",
              "setor                             1927   object\n",
              "vl_total_veiculos_leves_grupo     1927  float64"
            ]
          },
          "metadata": {
            "tags": []
          },
          "execution_count": 156
        }
      ]
    },
    {
      "cell_type": "markdown",
      "metadata": {
        "id": "XQx0mEF07P_J",
        "colab_type": "text"
      },
      "source": [
        "Ao observar os dados das colunas, decidi preencher as colunas numéricas com a mediana e as colunas categóricas com o termo mais frequente \n",
        "\n",
        "- nu_meses_rescencia - média\n",
        "- vl_faturamento_estimado_grupo_aux - mediana\n",
        "- de_saude_tributaria - mediana\n",
        "- vl_total_veiculos_pesados_grupo - 0, que é igual a moda\n",
        "- setor - moda\n",
        "- vl_total_veiculos_leves_grupo - 0, que é igual a moda"
      ]
    },
    {
      "cell_type": "code",
      "metadata": {
        "scrolled": true,
        "id": "qp_wkjSK3U-I",
        "colab_type": "code",
        "colab": {}
      },
      "source": [
        "df_mark[obj_columns] = df_mark[obj_columns].fillna(df_mark[obj_columns].mode().iloc[0]) \n",
        "df_mark[num_columns] = df_mark[num_columns].fillna(df_mark[num_columns].median().iloc[0])"
      ],
      "execution_count": 157,
      "outputs": []
    },
    {
      "cell_type": "code",
      "metadata": {
        "id": "w1brmcT93U-K",
        "colab_type": "code",
        "colab": {
          "base_uri": "https://localhost:8080/",
          "height": 33
        },
        "outputId": "017c6cdb-16bd-47a5-fc55-ea520bd7aa3a"
      },
      "source": [
        "df_mark.isnull().sum().sum()"
      ],
      "execution_count": 158,
      "outputs": [
        {
          "output_type": "execute_result",
          "data": {
            "text/plain": [
              "0"
            ]
          },
          "metadata": {
            "tags": []
          },
          "execution_count": 158
        }
      ]
    },
    {
      "cell_type": "markdown",
      "metadata": {
        "id": "RGBCHlTt3U-M",
        "colab_type": "text"
      },
      "source": [
        "### Feature Engineering"
      ]
    },
    {
      "cell_type": "code",
      "metadata": {
        "id": "bLDCsxxcRoMy",
        "colab_type": "code",
        "colab": {}
      },
      "source": [
        "def mul(x, y):\n",
        "    \"\"\"\n",
        "    Função de multiplicação. É importante definir se quisermos deixar nosso pipeline pickeable.\n",
        "    \"\"\"\n",
        "    return x*y"
      ],
      "execution_count": 159,
      "outputs": []
    },
    {
      "cell_type": "code",
      "metadata": {
        "id": "L7OfSfaUETSE",
        "colab_type": "code",
        "colab": {}
      },
      "source": [
        "# irei dar maiores pesos à algumas colunas categóricas, portanto irei \n",
        "# criar uma lista com essas colunas\n",
        "\n",
        "categorical_features = ['sg_uf', 'natureza_juridica_macro', 'setor','de_saude_tributaria']\n",
        "\n",
        "# Essas são as features que quero dar maior peso\n",
        "weight_categorical_features = ['de_ramo', 'fl_matriz', 'fl_sa']\n",
        "\n",
        "\n",
        "numeric_transformer = Pipeline(steps=[\n",
        "    ('log', FunctionTransformer(np.log1p))])\n",
        "\n",
        "categorical_transformer = Pipeline(steps=[\n",
        "    ('onehot', OneHotEncoder(sparse=False, handle_unknown='ignore'))])\n",
        "\n",
        "weight_categorical_transformer = Pipeline(steps=[\n",
        "    ('onehot', OneHotEncoder(sparse=False, handle_unknown='ignore')),\n",
        "    ('mul', FunctionTransformer(mul, kw_args={'y': 2}))])\n",
        "\n",
        "ordinal_transformer = Pipeline(steps=[\n",
        "    ('he', ce.HelmertEncoder())])\n",
        "\n",
        "gps_transformer = Pipeline(steps=[\n",
        "    ('scaler', StandardScaler())])\n",
        "\n",
        "\n",
        "column_transformer = ColumnTransformer(\n",
        "    transformers=[\n",
        "        ('num', numeric_transformer, num_columns),\n",
        "        ('cat', categorical_transformer, categorical_features),\n",
        "        ('wcat', weight_categorical_transformer, weight_categorical_features),\n",
        "        ('ord', ordinal_transformer, ord_columns),\n",
        "        ('gps', gps_transformer, ['lat', 'lng'])\n",
        "    ],\n",
        "    remainder='passthrough'\n",
        ")\n",
        "\n",
        "\n",
        "preprocessor = Pipeline(steps=[\n",
        "    ('col', column_transformer),\n",
        "    ('pca', PCA(n_components=0.95))])\n",
        "\n",
        "X = preprocessor.fit_transform(df_mark.drop(columns=['id']))"
      ],
      "execution_count": 160,
      "outputs": []
    },
    {
      "cell_type": "markdown",
      "metadata": {
        "id": "nERfL12dS8AH",
        "colab_type": "text"
      },
      "source": [
        "### Gerando Leads"
      ]
    },
    {
      "cell_type": "code",
      "metadata": {
        "id": "mT3RDurnYAfD",
        "colab_type": "code",
        "colab": {}
      },
      "source": [
        "nn_model = NearestNeighbors(n_neighbors=5, metric='cosine').fit(X)"
      ],
      "execution_count": 161,
      "outputs": []
    },
    {
      "cell_type": "code",
      "metadata": {
        "id": "JTm134PD-TUB",
        "colab_type": "code",
        "colab": {}
      },
      "source": [
        "def generate_lead(portfolio, n_leads = 5000):\n",
        "  \n",
        "  \"\"\"\n",
        "  Gera Leades para o Portfólio Indicado.\n",
        "\n",
        "  parametro portfólio é o dataframe contendo os ID's do portfólio\n",
        "  parametro n_leads é a quantidade de recomendações desejadas\n",
        "  return ID's das empresas recomendadas\n",
        "\n",
        "  \"\"\"\n",
        "  # buscamos as features do portfólio na base de mercado\n",
        "  df = pd.merge(portfolio[['id']], df_mark, how = 'inner', on = 'id')\n",
        "  # aplicamos o processamento das colunas\n",
        "  X_pf = preprocessor.transform(df.drop(columns=['id']))\n",
        "\n",
        "  # pega a distancia e os indices dos vizinhos mais próximos de cada portfolio\n",
        "  distances, indices = nn_model.kneighbors(X_pf)\n",
        "  distances = distances.flatten()\n",
        "  indices = indices.flatten()\n",
        "\n",
        "  # vamos remover os itens que existem dentro do portfolio\n",
        "  mask = ~np.isin(indices, set(portfolio['id']))\n",
        "  distances = distances[mask]\n",
        "  indices = indices[mask]\n",
        "\n",
        "  # agora vamos contar os duplicados e ordenaremos pela contagem e pela média das distâncias\n",
        "  data = set(zip(distances, indices))\n",
        "  recomendados = pd.DataFrame(data, columns=['distances', 'indices']) \n",
        "  top_indices = recomendados.groupby('indices').agg(count = ('indices', 'count'),\n",
        "                               distances = ('distances', 'mean'))\\\n",
        "                               .sort_values(['count','distances'],\n",
        "                                            ascending = [False, True]).index.values\n",
        "\n",
        "  if n_leads is not None:\n",
        "        top_indices = top_indices[:n_leads]    \n",
        "\n",
        "  return  df_mark.loc[top_indices, 'id']                                           "
      ],
      "execution_count": 162,
      "outputs": []
    },
    {
      "cell_type": "markdown",
      "metadata": {
        "id": "p7xOVaV-s47o",
        "colab_type": "text"
      },
      "source": [
        "### Testando os Leads"
      ]
    },
    {
      "cell_type": "markdown",
      "metadata": {
        "id": "F6ILzVyFs8dM",
        "colab_type": "text"
      },
      "source": [
        "Vamos agora fazer o seguinte. Vamos dividir nossos portfólios em duas partes. Treinar em uma parte e testar na outra. Teoricamente, devemos ver semelhança entre os leads e o que já faz parte do portfólio."
      ]
    },
    {
      "cell_type": "code",
      "metadata": {
        "id": "0k1fLg2Es64j",
        "colab_type": "code",
        "colab": {}
      },
      "source": [
        "def calculate_accuracy(ids_true, ids_pred):\n",
        "    \"\"\"\n",
        "    Função para calcular o percentual de leads que já fazem parte do nosso portfólio\n",
        "    \"\"\"\n",
        "    return len(set(ids_true) & set(ids_pred)) / len(set(ids_true))"
      ],
      "execution_count": 163,
      "outputs": []
    },
    {
      "cell_type": "code",
      "metadata": {
        "id": "IUJy9Ncqs-ui",
        "colab_type": "code",
        "colab": {}
      },
      "source": [
        "def calculate_mc_accuracy(market, portfolio, sample_size, n_trials, random_state=None):\n",
        "    \"\"\"\n",
        "    Função para calcular a média de acertos no aleatório usando simulação de monte-carlo.\n",
        "    \n",
        "    :param market: DataFrame contendo os dados do mercado\n",
        "    :param portfolio: DataFrame contendo os dados do portfolio\n",
        "    :param sample_size: número de sugestões que iremos avaliar por vez\n",
        "    :param n_trials: número de execuções\n",
        "    :param random_state: quando diferente de None, indica a semente randômica\n",
        "    :returns: acurácia média\n",
        "    \"\"\"\n",
        "    if random_state is not None:\n",
        "        np.random.seed(random_state)\n",
        "        \n",
        "    market_ids = market['id']\n",
        "    ids_true = set(portfolio['id'])\n",
        "    accuracies = np.zeros(n_trials)\n",
        "    for k in range(n_trials):\n",
        "        random_suggestion = market_ids.sample(n=sample_size)\n",
        "        accuracies[k] = calculate_accuracy(ids_true, random_suggestion)\n",
        "    return np.mean(accuracies)"
      ],
      "execution_count": 164,
      "outputs": []
    },
    {
      "cell_type": "markdown",
      "metadata": {
        "id": "CovS86KQtCFd",
        "colab_type": "text"
      },
      "source": [
        "#### Portfólio 1"
      ]
    },
    {
      "cell_type": "code",
      "metadata": {
        "id": "6Wun8ymktD7K",
        "colab_type": "code",
        "colab": {
          "base_uri": "https://localhost:8080/",
          "height": 50
        },
        "outputId": "d0b82ce4-5276-4d33-b040-fb8e1c7213bb"
      },
      "source": [
        "pf1_train, pf1_valid = train_test_split(port1[['id']], test_size=0.3, random_state=0, shuffle=True)\n",
        "print(pf1_train.shape)\n",
        "print(pf1_valid.shape)"
      ],
      "execution_count": 165,
      "outputs": [
        {
          "output_type": "stream",
          "text": [
            "(388, 1)\n",
            "(167, 1)\n"
          ],
          "name": "stdout"
        }
      ]
    },
    {
      "cell_type": "code",
      "metadata": {
        "id": "91oJKOjUdD7m",
        "colab_type": "code",
        "colab": {}
      },
      "source": [
        "leads1 = generate_lead(pf1_train, n_leads=None)"
      ],
      "execution_count": 166,
      "outputs": []
    },
    {
      "cell_type": "code",
      "metadata": {
        "id": "vxTB0wDftURT",
        "colab_type": "code",
        "colab": {
          "base_uri": "https://localhost:8080/",
          "height": 50
        },
        "outputId": "246ff163-57e5-4e06-c26d-9a91de7ca42a"
      },
      "source": [
        "acc = calculate_accuracy(pf1_valid['id'], leads1)\n",
        "mc_acc = calculate_mc_accuracy(df_mark, pf1_valid, len(leads1), 1000, random_state=0)\n",
        "\n",
        "print(f'O modelo indicou um total de {len(leads1)} sugestões. Destes, {acc*100:.2f}% estavam presentes na base de teste.')\n",
        "print(f'Usando modelo aleatório de sugestões, a média de acertos na base de teste foi de {mc_acc*100:.2f}%.')"
      ],
      "execution_count": 167,
      "outputs": [
        {
          "output_type": "stream",
          "text": [
            "O modelo indicou um total de 2002 sugestões. Destes, 1.20% estavam presentes na base de teste.\n",
            "Usando modelo aleatório de sugestões, a média de acertos na base de teste foi de 0.43%.\n"
          ],
          "name": "stdout"
        }
      ]
    },
    {
      "cell_type": "markdown",
      "metadata": {
        "id": "1sxMPfAR7JAS",
        "colab_type": "text"
      },
      "source": [
        "#### Portfólio 2"
      ]
    },
    {
      "cell_type": "code",
      "metadata": {
        "id": "JW3UB9l2tUPs",
        "colab_type": "code",
        "colab": {
          "base_uri": "https://localhost:8080/",
          "height": 50
        },
        "outputId": "425a287e-b114-46e4-9ff0-bdf3e652f071"
      },
      "source": [
        "pf2_train, pf2_valid = train_test_split(port2[['id']], test_size=0.3, random_state=0, shuffle=True)\n",
        "print(pf2_train.shape)\n",
        "print(pf2_valid.shape)"
      ],
      "execution_count": 168,
      "outputs": [
        {
          "output_type": "stream",
          "text": [
            "(396, 1)\n",
            "(170, 1)\n"
          ],
          "name": "stdout"
        }
      ]
    },
    {
      "cell_type": "code",
      "metadata": {
        "id": "yTv3TgitdNiU",
        "colab_type": "code",
        "colab": {}
      },
      "source": [
        "leads2 = generate_lead(pf2_train, n_leads=None)"
      ],
      "execution_count": 169,
      "outputs": []
    },
    {
      "cell_type": "code",
      "metadata": {
        "id": "2T5S1MOa7YqM",
        "colab_type": "code",
        "colab": {
          "base_uri": "https://localhost:8080/",
          "height": 50
        },
        "outputId": "67594037-237a-4959-bdcd-935db638ba96"
      },
      "source": [
        "acc = calculate_accuracy(pf2_valid['id'], leads2)\n",
        "mc_acc = calculate_mc_accuracy(df_mark, pf2_valid, len(leads2), 1000, random_state=0)\n",
        "\n",
        "print(f'O modelo indicou um total de {len(leads2)} sugestões. Destes, {acc*100:.2f}% estavam presentes na base de teste.')\n",
        "print(f'Usando modelo aleatório de sugestões, a média de acertos na base de teste foi de {mc_acc*100:.2f}%.')"
      ],
      "execution_count": 170,
      "outputs": [
        {
          "output_type": "stream",
          "text": [
            "O modelo indicou um total de 1374 sugestões. Destes, 64.71% estavam presentes na base de teste.\n",
            "Usando modelo aleatório de sugestões, a média de acertos na base de teste foi de 0.30%.\n"
          ],
          "name": "stdout"
        }
      ]
    },
    {
      "cell_type": "markdown",
      "metadata": {
        "id": "mqYNG7Q1TFYD",
        "colab_type": "text"
      },
      "source": [
        "#### Portfólio 3"
      ]
    },
    {
      "cell_type": "code",
      "metadata": {
        "id": "MQbxOm9FTH-8",
        "colab_type": "code",
        "colab": {
          "base_uri": "https://localhost:8080/",
          "height": 50
        },
        "outputId": "0737b81d-d954-4836-c08f-d2221902bf74"
      },
      "source": [
        "pf3_train, pf3_valid = train_test_split(port3[['id']], test_size=0.3, random_state=0, shuffle=True)\n",
        "print(pf3_train.shape)\n",
        "print(pf3_valid.shape)"
      ],
      "execution_count": 171,
      "outputs": [
        {
          "output_type": "stream",
          "text": [
            "(185, 1)\n",
            "(80, 1)\n"
          ],
          "name": "stdout"
        }
      ]
    },
    {
      "cell_type": "code",
      "metadata": {
        "id": "ZuG-uOLrdTLT",
        "colab_type": "code",
        "colab": {}
      },
      "source": [
        "leads3 = generate_lead(pf3_train, n_leads=None)"
      ],
      "execution_count": 172,
      "outputs": []
    },
    {
      "cell_type": "code",
      "metadata": {
        "id": "3eM4DDt4TTBS",
        "colab_type": "code",
        "colab": {
          "base_uri": "https://localhost:8080/",
          "height": 50
        },
        "outputId": "e181c75f-4e7e-4b54-d73c-9764799783eb"
      },
      "source": [
        "acc = calculate_accuracy(pf3_valid['id'], leads3)\n",
        "mc_acc = calculate_mc_accuracy(df_mark, pf3_valid, len(leads3), 1000, random_state=0)\n",
        "\n",
        "print(f'O modelo indicou um total de {len(leads3)} sugestões. Destes, {acc*100:.2f}% estavam presentes na base de teste.')\n",
        "print(f'Usando modelo aleatório de sugestões, a média de acertos na base de teste foi de {mc_acc*100:.2f}%.')"
      ],
      "execution_count": 173,
      "outputs": [
        {
          "output_type": "stream",
          "text": [
            "O modelo indicou um total de 605 sugestões. Destes, 53.75% estavam presentes na base de teste.\n",
            "Usando modelo aleatório de sugestões, a média de acertos na base de teste foi de 0.14%.\n"
          ],
          "name": "stdout"
        }
      ]
    },
    {
      "cell_type": "markdown",
      "metadata": {
        "id": "etqz9cwc3U-e",
        "colab_type": "text"
      },
      "source": [
        "## Avaliando Similaridade"
      ]
    },
    {
      "cell_type": "markdown",
      "metadata": {
        "id": "VW9Zh6WHFSKU",
        "colab_type": "text"
      },
      "source": [
        "Agora avaliaremos a similiaridade entre as recomendações geradas e os portfólios"
      ]
    },
    {
      "cell_type": "code",
      "metadata": {
        "id": "lUuxKdMjhW-L",
        "colab_type": "code",
        "colab": {}
      },
      "source": [
        "comparative_cols = ['id', 'sg_uf', 'de_ramo', 'setor', 'idade_emp_cat', 'de_faixa_faturamento_estimado', \n",
        "                    'nm_meso_regiao', 'nm_micro_regiao']\n",
        "\n",
        "market = pd.read_csv('/content/drive/My Drive/estaticos_market.csv', usecols=comparative_cols)\\\n",
        "                    .merge(microregioes, on='nm_micro_regiao', how='left')"
      ],
      "execution_count": 174,
      "outputs": []
    },
    {
      "cell_type": "code",
      "metadata": {
        "id": "Aq4oButIhrp7",
        "colab_type": "code",
        "colab": {}
      },
      "source": [
        "def get_market_info(ids, df_mark):\n",
        "    \"\"\"\n",
        "    Une ID's com a base de mercado\n",
        "    \n",
        "    :param ids: ids que queremos juntar com a base de mercado\n",
        "    :param market: base de mercado\n",
        "    :returns: DataFrame com os dados unidos\n",
        "    \"\"\"\n",
        "    result = pd.DataFrame(ids, columns=['id']).merge(df_mark, on='id', how='inner')\n",
        "    return result"
      ],
      "execution_count": 175,
      "outputs": []
    },
    {
      "cell_type": "code",
      "metadata": {
        "id": "AJComeZyh3CO",
        "colab_type": "code",
        "colab": {}
      },
      "source": [
        "def comparative_barplot(df1, df2, cols, df_names=None, ax=None):\n",
        "    \"\"\"\n",
        "    Plota gráfico de barras comparando uma mesma coluna entre 2 dataframes.\n",
        "    \n",
        "    :param df1: DataFrame de comparação 1\n",
        "    :param df2: DataFrame de comparação 2\n",
        "    :param df_names: nomes das bases, se quisermos configurar algo\n",
        "    :param ax: eixo do matplotlib que iremos vincular\n",
        "    \"\"\"\n",
        "    data1 = df1[cols].dropna().copy()\n",
        "    data2 = df2[cols].dropna().copy()\n",
        "    \n",
        "    keys = []\n",
        "    keys.append('base 1' if df_names is None else df_names[0])\n",
        "    keys.append('base 2' if df_names is None else df_names[1])\n",
        "    \n",
        "    data1['base'] = keys[0]\n",
        "    data2['base'] = keys[1]\n",
        "    \n",
        "    df = pd.concat([data1, data2], keys=keys)\n",
        "    df_group = df.groupby(cols + ['base'])\n",
        "\n",
        "    plot = df_group.size().unstack('base').plot(kind='bar', ax=ax)\n",
        "    return plot"
      ],
      "execution_count": 176,
      "outputs": []
    },
    {
      "cell_type": "code",
      "metadata": {
        "id": "p9oAUwrsh7bj",
        "colab_type": "code",
        "colab": {}
      },
      "source": [
        "def gen_comparative(portfolio, leads, features, cols=3, title=''):\n",
        "    \"\"\"\n",
        "    Apresenta gráficos comparando a base de portfólio com os leads indicados\n",
        "    \n",
        "    :param portfolio: dataframe com o portfolio\n",
        "    :param leads: dataframe com os leads\n",
        "    :param features: features que queremos comparar\n",
        "    :param cols: número máximo de colunas da grade\n",
        "    :param title: título da figura\n",
        "    \"\"\"\n",
        "    rows = math.ceil(len(features) / cols)\n",
        "    figwidth  = 5 * cols\n",
        "    figheight = 8 * rows\n",
        "    \n",
        "    fig, ax = plt.subplots(nrows=rows, ncols=cols, figsize=(figwidth, figheight))\n",
        "    \n",
        "    plt.subplots_adjust(wspace=0.3, hspace=0.5)\n",
        "    ax = ax.ravel()\n",
        "    \n",
        "    for i, feature in enumerate(features):\n",
        "        comparative_barplot(portfolio, leads, [feature], ['portfólio', 'leads'], ax=ax[i])\n",
        "        \n",
        "    fig.suptitle(title, size=24)\n",
        "    fig.tight_layout()\n",
        "    fig.subplots_adjust(bottom=0, top=0.92)\n",
        "    plt.show()"
      ],
      "execution_count": 177,
      "outputs": []
    },
    {
      "cell_type": "markdown",
      "metadata": {
        "id": "9TG3DBMkEy6b",
        "colab_type": "text"
      },
      "source": [
        "#### Portfólio 1"
      ]
    },
    {
      "cell_type": "markdown",
      "metadata": {
        "id": "hW8Oo31wFL70",
        "colab_type": "text"
      },
      "source": [
        "Agora vamos testar com o portfólio 1 inteiro. Vamos gerar uma lista de leads do mesmo tamanho que a do porfólio para facilitar a comparação."
      ]
    },
    {
      "cell_type": "code",
      "metadata": {
        "id": "rwD23RPKiCS5",
        "colab_type": "code",
        "colab": {
          "base_uri": "https://localhost:8080/",
          "height": 1000
        },
        "outputId": "eaf5f448-8d81-4c48-ed8d-fb1c7a8a5be4"
      },
      "source": [
        "pf1 = pd.merge(port1[['id']], market, on='id', how='inner')\n",
        "leads = generate_lead(pf1, n_leads=pf1.shape[0])\n",
        "leads_df = get_market_info(leads, market)\n",
        "gen_comparative(pf1, leads_df, comparative_cols[1:7], cols=3, title='Análise de leads para o portfólio 1')"
      ],
      "execution_count": 178,
      "outputs": [
        {
          "output_type": "display_data",
          "data": {
            "image/png": "[encoded data removed]",
            "text/plain": [
              "<Figure size 1080x1152 with 6 Axes>"
            ]
          },
          "metadata": {
            "tags": [],
            "needs_background": "light"
          }
        }
      ]
    },
    {
      "cell_type": "markdown",
      "metadata": {
        "id": "2o52lwgaFuM8",
        "colab_type": "text"
      },
      "source": [
        "Podemos observar que os leads estão muito próximos do que consta no portfólio. Inclusive na meso região, feature que nem usamos no nosso modelo. Parece que as features de latitude e longitude fizeram efeito aqui."
      ]
    },
    {
      "cell_type": "markdown",
      "metadata": {
        "id": "cJwSRCW0x1gS",
        "colab_type": "text"
      },
      "source": [
        "#### Portfólio 2"
      ]
    },
    {
      "cell_type": "code",
      "metadata": {
        "id": "Q4kOvt2Cx1DT",
        "colab_type": "code",
        "colab": {
          "base_uri": "https://localhost:8080/",
          "height": 1000
        },
        "outputId": "cbdefb10-bca3-4ff3-a5f3-9bd0052faa4d"
      },
      "source": [
        "pf2 = pd.merge(port2[['id']], market, on='id', how='inner')\n",
        "leads = generate_lead(pf2, n_leads=pf2.shape[0])\n",
        "leads_df = get_market_info(leads, market)\n",
        "gen_comparative(pf2, leads_df, comparative_cols[1:7], cols=3, title='Análise de leads para o portfólio 2')"
      ],
      "execution_count": 179,
      "outputs": [
        {
          "output_type": "display_data",
          "data": {
            "image/png": "[encoded data removed]",
            "text/plain": [
              "<Figure size 1080x1152 with 6 Axes>"
            ]
          },
          "metadata": {
            "tags": [],
            "needs_background": "light"
          }
        }
      ]
    },
    {
      "cell_type": "markdown",
      "metadata": {
        "id": "73RvYbaxF1mD",
        "colab_type": "text"
      },
      "source": [
        "Percebemos que as sugestões também são bem similares ao portfólio 2 "
      ]
    },
    {
      "cell_type": "markdown",
      "metadata": {
        "id": "xaPEHB2AyFtF",
        "colab_type": "text"
      },
      "source": [
        "#### Portfólio 3"
      ]
    },
    {
      "cell_type": "code",
      "metadata": {
        "id": "HGaI2pDmyHQ7",
        "colab_type": "code",
        "colab": {
          "base_uri": "https://localhost:8080/",
          "height": 1000
        },
        "outputId": "e8b4411b-0695-4e9c-ca6b-e23fa6ce5c3b"
      },
      "source": [
        "pf3 = pd.merge(port3[['id']], market, on='id', how='inner')\n",
        "leads = generate_lead(pf3, n_leads=pf3.shape[0])\n",
        "leads_df = get_market_info(leads, market)\n",
        "gen_comparative(pf3, leads_df, comparative_cols[1:7], cols=3, title='Análise de leads para o portfólio 3')"
      ],
      "execution_count": 180,
      "outputs": [
        {
          "output_type": "display_data",
          "data": {
            "image/png": "[encoded data removed]",
            "text/plain": [
              "<Figure size 1080x1152 with 6 Axes>"
            ]
          },
          "metadata": {
            "tags": [],
            "needs_background": "light"
          }
        }
      ]
    },
    {
      "cell_type": "markdown",
      "metadata": {
        "id": "1Y0Pz4vzGD0D",
        "colab_type": "text"
      },
      "source": [
        "### Conclusões:"
      ]
    },
    {
      "cell_type": "markdown",
      "metadata": {
        "id": "9MMAnRbUGFgz",
        "colab_type": "text"
      },
      "source": [
        "A aceleração da Codenation foi sensacional e fechou com chave de ouro com esse projeto! Foi muto desafiador e pude aprender muito sobre como tratar grandes bases de dados, sobre clustering, data Engineering e diversas outras habilidades. Agradeço muito a [Codenation](https://www.codenation.dev/) pela oportunidade e pelo trabalho fantástico!!"
      ]
    }
  ]
}