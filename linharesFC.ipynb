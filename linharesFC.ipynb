{
 "cells": [
  {
   "cell_type": "markdown",
   "metadata": {},
   "source": [
    "## Este Assignment pertence ao curso [Applied Plotting, Charting & Data Representation in Python](https://www.coursera.org/learn/python-plotting?specialization=data-science-python) da especialização da Universidade de Michigan"
   ]
  },
  {
   "cell_type": "markdown",
   "metadata": {},
   "source": [
    "# My assignment is about the soccer team of the Linhares city\n",
    "\n",
    "Based on the data I found, I tried to answer the question: **How was the team's performance in the last 10 years?**"
   ]
  },
  {
   "cell_type": "markdown",
   "metadata": {},
   "source": [
    "#### Links:\n",
    "\n",
    "       There aren't any csv file, I had to scrape  :(\n",
    "\n",
    "https://www.ogol.com.br/team_matches.php?grp=0&ond=&compet_id_jogos=0&ved=&ano=2020&comfim=0&id=9783&equipa_1=9783&menu=allmatches&type=year&op=ver_confronto\n",
    "\n",
    "https://www.flashscore.com.br/equipe/linhares/ppPIY1sk/"
   ]
  },
  {
   "cell_type": "code",
   "execution_count": 2,
   "metadata": {
    "collapsed": false
   },
   "outputs": [],
   "source": [
    "from bs4 import BeautifulSoup\n",
    "import requests\n",
    "import warnings\n",
    "warnings.filterwarnings('ignore')\n",
    "import pandas as pd\n",
    "import numpy as np\n",
    "import matplotlib.pyplot as plt\n",
    "import seaborn as sns\n",
    "\n",
    "%matplotlib inline"
   ]
  },
  {
   "cell_type": "code",
   "execution_count": 109,
   "metadata": {
    "collapsed": false
   },
   "outputs": [],
   "source": [
    "df2019 = pd.read_csv('linhares (1).csv')\n",
    "df2018 = pd.read_csv('linhares (2).csv')\n",
    "df2017 = pd.read_csv('linhares (3).csv')\n",
    "df2016 = pd.read_csv('linhares (4).csv')\n",
    "df2015 = pd.read_csv('linhares (5).csv')\n",
    "df2014 = pd.read_csv('linhares (6).csv')\n",
    "df2013 = pd.read_csv('linhares (7).csv')\n",
    "df2012 = pd.read_csv('linhares (8).csv')\n",
    "df2011 = pd.read_csv('linhares (9).csv')\n",
    "df2010 = pd.read_csv('linhares (10).csv')\n",
    "\n",
    "df2019 = df2019.iloc[:,2:]\n",
    "df2018 = df2018.iloc[:,2:]\n",
    "df2017 = df2017.iloc[:,2:]\n",
    "df2016 = df2016.iloc[:,2:]\n",
    "df2015 = df2015.iloc[:,2:]\n",
    "df2014 = df2014.iloc[:,2:]\n",
    "df2013 = df2013.iloc[:,2:]\n",
    "df2012 = df2012.iloc[:,2:]\n",
    "df2011 = df2011.iloc[:,2:]\n",
    "df2010 = df2010.iloc[:,2:]"
   ]
  },
  {
   "cell_type": "code",
   "execution_count": 110,
   "metadata": {
    "collapsed": false
   },
   "outputs": [],
   "source": [
    "df_1 = df2019.iloc[:,0]\n",
    "df_1.dropna(inplace = True)\n",
    "df_1 = df_1.reset_index()\n",
    "df_1 = df_1.iloc[:,1]\n",
    "\n",
    "df_2 = df2019.iloc[:,1]\n",
    "df_2.dropna(inplace = True)\n",
    "df_2 = df_2.reset_index()\n",
    "df_2 = df_2.iloc[:,1]\n",
    "\n",
    "df_3 = df2019.iloc[:,2]\n",
    "df_3.dropna(inplace = True)\n",
    "df_3 = df_3.reset_index()\n",
    "df_3 = df_3.iloc[:,1]\n",
    "df_2019 = pd.DataFrame([df_1,df_2,df_3]).T"
   ]
  },
  {
   "cell_type": "code",
   "execution_count": 111,
   "metadata": {
    "collapsed": false,
    "scrolled": true
   },
   "outputs": [],
   "source": [
    "#Iterei manualmente aumentando o valor de i e modificando a última linha. Fiz isso pois o for estava com um problem que \n",
    "#desconheço e dessa forma seria mais rápido do que tentar resolver o problema.\n",
    "\n",
    "dfs = [df2019,df2018,df2017,df2016,df2015,df2014,df2013,df2012,df2011,df2010]\n",
    "i = 9\n",
    "\n",
    "df_1[i] = dfs[i].iloc[:,0]\n",
    "df_1[i].dropna(inplace=True)\n",
    "df_1[i] = df_1[i].reset_index()\n",
    "df_1[i] = df_1[i].iloc[:,1]\n",
    "    \n",
    "df_2[i] = dfs[i].iloc[:,1]\n",
    "df_2[i].dropna(inplace=True)\n",
    "df_2[i] = df_2[i].reset_index()\n",
    "df_2[i] = df_2[i].iloc[:,1]\n",
    "    \n",
    "df_3[i] = dfs[i].iloc[:,2]\n",
    "df_3[i].dropna(inplace=True)\n",
    "df_3[i] = df_3[i].reset_index()\n",
    "df_3[i] = df_3[i].iloc[:,1]\n",
    "\n",
    "dfs[i] = pd.DataFrame([df_1[i],df_2[i],df_3[i]]).T\n",
    "df_2010 = dfs[i]"
   ]
  },
  {
   "cell_type": "markdown",
   "metadata": {},
   "source": [
    "**These are my new datasets: df_2019, df_2018, df_2017, df_2016, df_2015, df_2014, df_2013, df_2012, df_2011, df_2010**"
   ]
  },
  {
   "cell_type": "code",
   "execution_count": 67,
   "metadata": {
    "collapsed": false,
    "scrolled": true
   },
   "outputs": [
    {
     "data": {
      "text/html": [
       "<div>\n",
       "<table border=\"1\" class=\"dataframe\">\n",
       "  <thead>\n",
       "    <tr style=\"text-align: right;\">\n",
       "      <th></th>\n",
       "      <th>adversario</th>\n",
       "      <th>placar</th>\n",
       "      <th>onde</th>\n",
       "    </tr>\n",
       "  </thead>\n",
       "  <tbody>\n",
       "    <tr>\n",
       "      <th>0</th>\n",
       "      <td>Vilavelhense</td>\n",
       "      <td>5-0</td>\n",
       "      <td>(F)</td>\n",
       "    </tr>\n",
       "    <tr>\n",
       "      <th>1</th>\n",
       "      <td>Sport Clube Capixaba</td>\n",
       "      <td>4-4</td>\n",
       "      <td>(C)</td>\n",
       "    </tr>\n",
       "    <tr>\n",
       "      <th>2</th>\n",
       "      <td>Sport Clube Capixaba</td>\n",
       "      <td>0-1</td>\n",
       "      <td>(F)</td>\n",
       "    </tr>\n",
       "    <tr>\n",
       "      <th>3</th>\n",
       "      <td>São Mateus</td>\n",
       "      <td>1-1</td>\n",
       "      <td>(C)</td>\n",
       "    </tr>\n",
       "    <tr>\n",
       "      <th>4</th>\n",
       "      <td>Vilavelhense</td>\n",
       "      <td>0-3</td>\n",
       "      <td>(F)</td>\n",
       "    </tr>\n",
       "  </tbody>\n",
       "</table>\n",
       "</div>"
      ],
      "text/plain": [
       "             adversario placar onde\n",
       "0          Vilavelhense    5-0  (F)\n",
       "1  Sport Clube Capixaba    4-4  (C)\n",
       "2  Sport Clube Capixaba    0-1  (F)\n",
       "3            São Mateus    1-1  (C)\n",
       "4          Vilavelhense    0-3  (F)"
      ]
     },
     "execution_count": 67,
     "metadata": {},
     "output_type": "execute_result"
    }
   ],
   "source": [
    "df = pd.concat([df_2019, df_2018, df_2017, df_2016, df_2015, df_2014, df_2013, df_2012, df_2011, df_2010]).reset_index().iloc[:,1:]\n",
    "df.head()"
   ]
  },
  {
   "cell_type": "markdown",
   "metadata": {},
   "source": [
    "#### Exporting the data frame in case the notebook crash"
   ]
  },
  {
   "cell_type": "code",
   "execution_count": 6,
   "metadata": {
    "collapsed": false
   },
   "outputs": [],
   "source": [
    "df.to_csv('jogos_linhares.csv',index = False)"
   ]
  },
  {
   "cell_type": "markdown",
   "metadata": {},
   "source": [
    "Done! Now, I'm creating a new column to separate the amount of goals of each team"
   ]
  },
  {
   "cell_type": "code",
   "execution_count": 3,
   "metadata": {
    "collapsed": false,
    "scrolled": true
   },
   "outputs": [
    {
     "data": {
      "text/html": [
       "<div>\n",
       "<table border=\"1\" class=\"dataframe\">\n",
       "  <thead>\n",
       "    <tr style=\"text-align: right;\">\n",
       "      <th></th>\n",
       "      <th>adversario</th>\n",
       "      <th>placar</th>\n",
       "      <th>onde</th>\n",
       "    </tr>\n",
       "  </thead>\n",
       "  <tbody>\n",
       "    <tr>\n",
       "      <th>0</th>\n",
       "      <td>Vilavelhense</td>\n",
       "      <td>5-0</td>\n",
       "      <td>(F)</td>\n",
       "    </tr>\n",
       "    <tr>\n",
       "      <th>1</th>\n",
       "      <td>Sport Clube Capixaba</td>\n",
       "      <td>4-4</td>\n",
       "      <td>(C)</td>\n",
       "    </tr>\n",
       "    <tr>\n",
       "      <th>2</th>\n",
       "      <td>Sport Clube Capixaba</td>\n",
       "      <td>0-1</td>\n",
       "      <td>(F)</td>\n",
       "    </tr>\n",
       "    <tr>\n",
       "      <th>3</th>\n",
       "      <td>São Mateus</td>\n",
       "      <td>1-1</td>\n",
       "      <td>(C)</td>\n",
       "    </tr>\n",
       "    <tr>\n",
       "      <th>4</th>\n",
       "      <td>Vilavelhense</td>\n",
       "      <td>0-3</td>\n",
       "      <td>(F)</td>\n",
       "    </tr>\n",
       "  </tbody>\n",
       "</table>\n",
       "</div>"
      ],
      "text/plain": [
       "             adversario placar onde\n",
       "0          Vilavelhense    5-0  (F)\n",
       "1  Sport Clube Capixaba    4-4  (C)\n",
       "2  Sport Clube Capixaba    0-1  (F)\n",
       "3            São Mateus    1-1  (C)\n",
       "4          Vilavelhense    0-3  (F)"
      ]
     },
     "execution_count": 3,
     "metadata": {},
     "output_type": "execute_result"
    }
   ],
   "source": [
    "df = pd.read_csv('jogos_linhares.csv')\n",
    "df.dropna(inplace = True)\n",
    "df = df.reset_index()\n",
    "df = df.iloc[:,1:]\n",
    "df.head()"
   ]
  },
  {
   "cell_type": "code",
   "execution_count": 9,
   "metadata": {
    "collapsed": false
   },
   "outputs": [],
   "source": [
    "goals_other = []\n",
    "goals_lin = []\n",
    "i=0\n",
    "\n",
    "for i in range(0,len(df)):\n",
    "    if df['onde'][i] == '(F)':\n",
    "        goals_other.append(df['placar'][i][0])\n",
    "        goals_lin.append(df['placar'][i][2])\n",
    "        \n",
    "    if df['onde'][i] == '(C)':        \n",
    "        goals_other.append(df['placar'][i][2])\n",
    "        goals_lin.append(df['placar'][i][0])        \n"
   ]
  },
  {
   "cell_type": "code",
   "execution_count": 10,
   "metadata": {
    "collapsed": false,
    "scrolled": false
   },
   "outputs": [
    {
     "data": {
      "text/html": [
       "<div>\n",
       "<table border=\"1\" class=\"dataframe\">\n",
       "  <thead>\n",
       "    <tr style=\"text-align: right;\">\n",
       "      <th></th>\n",
       "      <th>adversario</th>\n",
       "      <th>Other teams Goals</th>\n",
       "      <th>Linhares Goals</th>\n",
       "      <th>Team of my City</th>\n",
       "    </tr>\n",
       "  </thead>\n",
       "  <tbody>\n",
       "    <tr>\n",
       "      <th>0</th>\n",
       "      <td>Vilavelhense</td>\n",
       "      <td>5</td>\n",
       "      <td>0</td>\n",
       "      <td>Linhares</td>\n",
       "    </tr>\n",
       "    <tr>\n",
       "      <th>1</th>\n",
       "      <td>Sport Clube Capixaba</td>\n",
       "      <td>4</td>\n",
       "      <td>4</td>\n",
       "      <td>Linhares</td>\n",
       "    </tr>\n",
       "    <tr>\n",
       "      <th>2</th>\n",
       "      <td>Sport Clube Capixaba</td>\n",
       "      <td>0</td>\n",
       "      <td>1</td>\n",
       "      <td>Linhares</td>\n",
       "    </tr>\n",
       "    <tr>\n",
       "      <th>3</th>\n",
       "      <td>São Mateus</td>\n",
       "      <td>1</td>\n",
       "      <td>1</td>\n",
       "      <td>Linhares</td>\n",
       "    </tr>\n",
       "    <tr>\n",
       "      <th>4</th>\n",
       "      <td>Vilavelhense</td>\n",
       "      <td>0</td>\n",
       "      <td>3</td>\n",
       "      <td>Linhares</td>\n",
       "    </tr>\n",
       "  </tbody>\n",
       "</table>\n",
       "</div>"
      ],
      "text/plain": [
       "             adversario Other teams Goals Linhares Goals Team of my City\n",
       "0          Vilavelhense                 5              0        Linhares\n",
       "1  Sport Clube Capixaba                 4              4        Linhares\n",
       "2  Sport Clube Capixaba                 0              1        Linhares\n",
       "3            São Mateus                 1              1        Linhares\n",
       "4          Vilavelhense                 0              3        Linhares"
      ]
     },
     "execution_count": 10,
     "metadata": {},
     "output_type": "execute_result"
    }
   ],
   "source": [
    "df['Other teams Goals'] = goals_other\n",
    "df['Linhares Goals'] = goals_lin\n",
    "df['Team of my City'] = ['Linhares'] * len(df)\n",
    "df = df.drop(['placar','onde'],axis = 1)\n",
    "df.head()"
   ]
  },
  {
   "cell_type": "code",
   "execution_count": 11,
   "metadata": {
    "collapsed": false,
    "scrolled": true
   },
   "outputs": [
    {
     "data": {
      "text/plain": [
       "adversario           object\n",
       "Other teams Goals    object\n",
       "Linhares Goals       object\n",
       "Team of my City      object\n",
       "dtype: object"
      ]
     },
     "execution_count": 11,
     "metadata": {},
     "output_type": "execute_result"
    }
   ],
   "source": [
    "df.dtypes"
   ]
  },
  {
   "cell_type": "code",
   "execution_count": 12,
   "metadata": {
    "collapsed": false
   },
   "outputs": [],
   "source": [
    "df['Linhares Goals'] = df['Linhares Goals'].astype(int)\n",
    "df['Other teams Goals'] = df['Other teams Goals'].astype(int)"
   ]
  },
  {
   "cell_type": "markdown",
   "metadata": {},
   "source": [
    "### Now my DataFrame is ready for analysis"
   ]
  },
  {
   "cell_type": "markdown",
   "metadata": {},
   "source": [
    "just saving one more time..."
   ]
  },
  {
   "cell_type": "code",
   "execution_count": 13,
   "metadata": {
    "collapsed": true
   },
   "outputs": [],
   "source": [
    "df.to_csv('linharesFinal.csv', index = False)"
   ]
  },
  {
   "cell_type": "code",
   "execution_count": 15,
   "metadata": {
    "collapsed": false
   },
   "outputs": [],
   "source": [
    "df = pd.read_csv('linharesFinal.csv')"
   ]
  },
  {
   "cell_type": "code",
   "execution_count": 16,
   "metadata": {
    "collapsed": false
   },
   "outputs": [],
   "source": [
    "vic = []\n",
    "los = []\n",
    "draw = []\n",
    "\n",
    "for j in range(0,len(df)):\n",
    "    if df['Linhares Goals'][j] > df['Other teams Goals'][j]:\n",
    "        vic.append(+1)\n",
    "    elif df['Linhares Goals'][j] < df['Other teams Goals'][j]:\n",
    "        los.append(+1)\n",
    "    else:\n",
    "        draw.append(+1)"
   ]
  },
  {
   "cell_type": "code",
   "execution_count": 17,
   "metadata": {
    "collapsed": false
   },
   "outputs": [
    {
     "data": {
      "text/plain": [
       "True"
      ]
     },
     "execution_count": 17,
     "metadata": {},
     "output_type": "execute_result"
    }
   ],
   "source": [
    "len(vic) + len(los) + len(draw) == len(df)"
   ]
  },
  {
   "cell_type": "code",
   "execution_count": 18,
   "metadata": {
    "collapsed": false
   },
   "outputs": [],
   "source": [
    "victory_percentage = round((len(vic) / len(df))*100,2)\n",
    "loses_percentage = round((len(los) / len(df))*100,2)\n",
    "draw_percentage = round((len(draw) / len(df))*100,2)"
   ]
  },
  {
   "cell_type": "code",
   "execution_count": 115,
   "metadata": {
    "collapsed": false,
    "scrolled": true
   },
   "outputs": [
    {
     "data": {
      "image/png": "[encoded data removed]",
      "text/plain": [
       "<matplotlib.figure.Figure at 0x7fb4178ba390>"
      ]
     },
     "metadata": {},
     "output_type": "display_data"
    }
   ],
   "source": [
    "# Pie chart\n",
    "labels = ['Victories', 'Losses', 'Draws']\n",
    "sizes = [victory_percentage, loses_percentage, draw_percentage]\n",
    "\n",
    "objects = ('Gols Pro','Goals Con')\n",
    "pos = np.arange(len(objects))\n",
    "\n",
    "\n",
    "#colors\n",
    "colors = ['crimson','#66b3ff','lightslategrey']\n",
    "\n",
    "fig, (ax1,ax2) = plt.subplots(1,2,figsize=(12,5),sharex = True)\n",
    "\n",
    "goals = list(df[['Linhares Goals','Other teams Goals']].sum())\n",
    "\n",
    "bars = ax1.bar(pos, goals,color='lightslategrey', bottom = 0.0)\n",
    "bars[0].set_color('crimson')\n",
    "\n",
    "ax1.set_xticks(pos, ('Gols Pro','Goals Con'))\n",
    "\n",
    "ax1.tick_params(top='off', bottom='on', left='off', right='off', labelleft='off', labelbottom='on')\n",
    "\n",
    "for spine in plt.gca().spines.values():\n",
    "    spine.set_visible(False)\n",
    "\n",
    "# Make some labels.\n",
    "'''labels = goals'''\n",
    "\n",
    "\n",
    "height0 = bars[0].get_height()\n",
    "height1 = bars[1].get_height()\n",
    "\n",
    "ax1.text(bars[1].get_x() + rect.get_width() / 2, height1 - 20, '308'+' '+'goals suffered',\n",
    "            ha='center', va='bottom', color='w', fontsize=12)\n",
    "\n",
    "ax1.text(bars[0].get_x() + rect.get_width() / 2, height0 -20 , '279'+' '+'goals scored',\n",
    "            ha='center', va='bottom', color='w', fontsize=12)\n",
    "    \n",
    "'''for bar in bars:\n",
    "    height = bar.get_height()\n",
    "    plt.gca().text(bar.get_x() + bar.get_width()/2, bar.get_height() - 13, str(int(height)) +' '+ 'goals', \n",
    "                 ha='center', color='w', fontsize=15)'''\n",
    "ax1.grid(False)\n",
    "\n",
    "ax1.set_title('Goals scored and suffered by the Linhares team in the past 10 years',fontsize=13);   \n",
    "\n",
    "\n",
    "ax2.pie(sizes, colors = colors, labels=labels, autopct='%1.1f%%', startangle=90)\n",
    "ax2.set_title('% of Wins, Losses and Draws for the last 10 years')\n",
    "#draw circle\n",
    "centre_circle = plt.Circle((0,0),0.75,fc='white')\n",
    "fig = plt.gcf()\n",
    "fig.gca().add_artist(centre_circle)\n",
    "\n",
    "ax1.patch.set_facecolor('w')\n",
    "# Equal aspect ratio ensures that pie is drawn as a circle\n",
    "ax2.axis('equal')  \n",
    "plt.tight_layout()\n",
    "plt.show()\n",
    "fig.savefig('linharesSoccer.png', format='png');"
   ]
  },
  {
   "cell_type": "markdown",
   "metadata": {},
   "source": [
    "**As we can see the Linhares team has not performed well in the past 10 years. Based on the charts, we were able to conclude that the team suffered more goals than scored and that the number of victories is less than the number of loses**"
   ]
  }
 ],
 "metadata": {
  "kernelspec": {
   "display_name": "Python 3",
   "language": "python",
   "name": "python3"
  },
  "language_info": {
   "codemirror_mode": {
    "name": "ipython",
    "version": 3
   },
   "file_extension": ".py",
   "mimetype": "text/x-python",
   "name": "python",
   "nbconvert_exporter": "python",
   "pygments_lexer": "ipython3",
   "version": "3.6.2"
  }
 },
 "nbformat": 4,
 "nbformat_minor": 1
}
