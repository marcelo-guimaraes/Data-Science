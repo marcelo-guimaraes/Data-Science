{
  "nbformat": 4,
  "nbformat_minor": 0,
  "metadata": {
    "coursera": {
      "course_slug": "python-text-mining",
      "graded_item_id": "Pn19K",
      "launcher_item_id": "y1juS",
      "part_id": "ctlgo"
    },
    "kernelspec": {
      "display_name": "Python 3",
      "language": "python",
      "name": "python3"
    },
    "language_info": {
      "codemirror_mode": {
        "name": "ipython",
        "version": 3
      },
      "file_extension": ".py",
      "mimetype": "text/x-python",
      "name": "python",
      "nbconvert_exporter": "python",
      "pygments_lexer": "ipython3",
      "version": "3.6.2"
    },
    "colab": {
      "name": "SpamClassifier.ipynb",
      "provenance": [],
      "collapsed_sections": [],
      "include_colab_link": true
    }
  },
  "cells": [
    {
      "cell_type": "markdown",
      "metadata": {
        "id": "view-in-github",
        "colab_type": "text"
      },
      "source": [
        "<a href=\"https://colab.research.google.com/github/marcelo-guimaraes/Data-Science/blob/master/SpamClassifier.ipynb\" target=\"_parent\"><img src=\"https://colab.research.google.com/assets/colab-badge.svg\" alt=\"Open In Colab\"/></a>"
      ]
    },
    {
      "cell_type": "markdown",
      "metadata": {
        "id": "osjwrX2b5Vmp",
        "colab_type": "text"
      },
      "source": [
        "## This Project is a Spam Classifier and it'ss part of the Text Mining course at the University of Michigan. Aims to create features for text data and use a Machine Learning model using the NLTK library to predict the chances of an email being Spam or not"
      ]
    },
    {
      "cell_type": "markdown",
      "metadata": {
        "id": "yf4mMqDX8eUO",
        "colab_type": "text"
      },
      "source": [
        "### First I'll start by importing my libraries and data"
      ]
    },
    {
      "cell_type": "code",
      "metadata": {
        "id": "wLFWaTDR5TNC",
        "colab_type": "code",
        "outputId": "825bc990-6861-49c9-aaf2-16c3c62c9235",
        "colab": {
          "base_uri": "https://localhost:8080/",
          "height": 393
        }
      },
      "source": [
        "import pandas as pd\n",
        "import numpy as np\n",
        "\n",
        "spam_data = pd.read_csv('/content/drive/My Drive/spam.csv')\n",
        "\n",
        "spam_data['target'] = np.where(spam_data['target']=='spam',1,0)\n",
        "\n",
        "print('File size: {} lines\\n'.format(len(spam_data)))\n",
        "spam_data.head(10)"
      ],
      "execution_count": 107,
      "outputs": [
        {
          "output_type": "stream",
          "text": [
            "File size: 5572 lines\n",
            "\n"
          ],
          "name": "stdout"
        },
        {
          "output_type": "execute_result",
          "data": {
            "text/html": [
              "<div>\n",
              "<style scoped>\n",
              "    .dataframe tbody tr th:only-of-type {\n",
              "        vertical-align: middle;\n",
              "    }\n",
              "\n",
              "    .dataframe tbody tr th {\n",
              "        vertical-align: top;\n",
              "    }\n",
              "\n",
              "    .dataframe thead th {\n",
              "        text-align: right;\n",
              "    }\n",
              "</style>\n",
              "<table border=\"1\" class=\"dataframe\">\n",
              "  <thead>\n",
              "    <tr style=\"text-align: right;\">\n",
              "      <th></th>\n",
              "      <th>text</th>\n",
              "      <th>target</th>\n",
              "    </tr>\n",
              "  </thead>\n",
              "  <tbody>\n",
              "    <tr>\n",
              "      <th>0</th>\n",
              "      <td>Go until jurong point, crazy.. Available only ...</td>\n",
              "      <td>0</td>\n",
              "    </tr>\n",
              "    <tr>\n",
              "      <th>1</th>\n",
              "      <td>Ok lar... Joking wif u oni...</td>\n",
              "      <td>0</td>\n",
              "    </tr>\n",
              "    <tr>\n",
              "      <th>2</th>\n",
              "      <td>Free entry in 2 a wkly comp to win FA Cup fina...</td>\n",
              "      <td>1</td>\n",
              "    </tr>\n",
              "    <tr>\n",
              "      <th>3</th>\n",
              "      <td>U dun say so early hor... U c already then say...</td>\n",
              "      <td>0</td>\n",
              "    </tr>\n",
              "    <tr>\n",
              "      <th>4</th>\n",
              "      <td>Nah I don't think he goes to usf, he lives aro...</td>\n",
              "      <td>0</td>\n",
              "    </tr>\n",
              "    <tr>\n",
              "      <th>5</th>\n",
              "      <td>FreeMsg Hey there darling it's been 3 week's n...</td>\n",
              "      <td>1</td>\n",
              "    </tr>\n",
              "    <tr>\n",
              "      <th>6</th>\n",
              "      <td>Even my brother is not like to speak with me. ...</td>\n",
              "      <td>0</td>\n",
              "    </tr>\n",
              "    <tr>\n",
              "      <th>7</th>\n",
              "      <td>As per your request 'Melle Melle (Oru Minnamin...</td>\n",
              "      <td>0</td>\n",
              "    </tr>\n",
              "    <tr>\n",
              "      <th>8</th>\n",
              "      <td>WINNER!! As a valued network customer you have...</td>\n",
              "      <td>1</td>\n",
              "    </tr>\n",
              "    <tr>\n",
              "      <th>9</th>\n",
              "      <td>Had your mobile 11 months or more? U R entitle...</td>\n",
              "      <td>1</td>\n",
              "    </tr>\n",
              "  </tbody>\n",
              "</table>\n",
              "</div>"
            ],
            "text/plain": [
              "                                                text  target\n",
              "0  Go until jurong point, crazy.. Available only ...       0\n",
              "1                      Ok lar... Joking wif u oni...       0\n",
              "2  Free entry in 2 a wkly comp to win FA Cup fina...       1\n",
              "3  U dun say so early hor... U c already then say...       0\n",
              "4  Nah I don't think he goes to usf, he lives aro...       0\n",
              "5  FreeMsg Hey there darling it's been 3 week's n...       1\n",
              "6  Even my brother is not like to speak with me. ...       0\n",
              "7  As per your request 'Melle Melle (Oru Minnamin...       0\n",
              "8  WINNER!! As a valued network customer you have...       1\n",
              "9  Had your mobile 11 months or more? U R entitle...       1"
            ]
          },
          "metadata": {
            "tags": []
          },
          "execution_count": 107
        }
      ]
    },
    {
      "cell_type": "code",
      "metadata": {
        "id": "51TEXv9s5TNI",
        "colab_type": "code",
        "colab": {}
      },
      "source": [
        "from sklearn.model_selection import train_test_split\n",
        "\n",
        "\n",
        "X_train, X_test, y_train, y_test = train_test_split(spam_data['text'], \n",
        "                                                    spam_data['target'], \n",
        "                                                    random_state=0)"
      ],
      "execution_count": 0,
      "outputs": []
    },
    {
      "cell_type": "code",
      "metadata": {
        "id": "y00NjxLfehIW",
        "colab_type": "code",
        "outputId": "b5175216-3e37-4ccf-a165-e989ebc4a893",
        "colab": {
          "base_uri": "https://localhost:8080/",
          "height": 34
        }
      },
      "source": [
        "print(\"Percentage of emails that are spam: {}\".format(spam_data['target'].mean() * 100))"
      ],
      "execution_count": 109,
      "outputs": [
        {
          "output_type": "stream",
          "text": [
            "Percentage of emails that are spam: 13.406317300789663\n"
          ],
          "name": "stdout"
        }
      ]
    },
    {
      "cell_type": "markdown",
      "metadata": {
        "id": "b3N_03lr5D_4",
        "colab_type": "text"
      },
      "source": [
        "### The metrics used for evaluating the model was selected by this article of [Machine Learning Mastery](https://machinelearningmastery.com/tour-of-evaluation-metrics-for-imbalanced-classification/) "
      ]
    },
    {
      "cell_type": "markdown",
      "metadata": {
        "id": "p73hErCS5TNb",
        "colab_type": "text"
      },
      "source": [
        "### Question 1\n",
        "\n",
        "Fit and transform the training data `X_train` using a Count Vectorizer with default parameters.\n",
        "\n",
        "Next, fit a fit a multinomial Naive Bayes classifier model with smoothing `alpha=0.1`. Find the area under the curve (AUC) score using the transformed test data.\n",
        "\n",
        "*This function should return the AUC score as a float.*"
      ]
    },
    {
      "cell_type": "code",
      "metadata": {
        "id": "L_gXJihc5TNb",
        "colab_type": "code",
        "outputId": "3ceb387d-404e-4cbf-ff0c-fe693b40e2f7",
        "colab": {
          "base_uri": "https://localhost:8080/",
          "height": 85
        }
      },
      "source": [
        "from sklearn.feature_extraction.text import CountVectorizer\n",
        "from sklearn.naive_bayes import MultinomialNB\n",
        "from sklearn.metrics import roc_auc_score\n",
        "from sklearn.metrics import recall_score\n",
        "from sklearn.metrics import precision_score\n",
        "from imblearn.metrics import geometric_mean_score\n",
        "\n",
        "vet = CountVectorizer().fit(X_train)\n",
        "train_vet = vet.transform(X_train)\n",
        "\n",
        "clf = MultinomialNB(alpha = 0.1).fit(train_vet, y_train)\n",
        "\n",
        "y_pred = clf.predict(vet.transform(X_test))\n",
        "\n",
        "print(\"AUC Score: {}\".format(roc_auc_score(y_test, y_pred)),\n",
        "      \"\\nRecall SCORE: {}\".format(recall_score(y_pred, y_test)),\n",
        "      \"\\nPrecision SCORE: {}\".format(precision_score(y_pred, y_test)),\n",
        "      \"\\nG-Mean SCORE: {}\".format(geometric_mean_score(y_pred, y_test)))"
      ],
      "execution_count": 110,
      "outputs": [
        {
          "output_type": "stream",
          "text": [
            "AUC Score: 0.9720812182741116 \n",
            "Recall SCORE: 1.0 \n",
            "Precision SCORE: 0.9441624365482234 \n",
            "G-Mean SCORE: 0.9954328181465828\n"
          ],
          "name": "stdout"
        }
      ]
    },
    {
      "cell_type": "markdown",
      "metadata": {
        "id": "gZqNvYM55TNk",
        "colab_type": "text"
      },
      "source": [
        "### Question 2\n",
        "\n",
        "Fit and transform the training data `X_train` using a Tfidf Vectorizer with default parameters.\n",
        "\n",
        "What 20 features have the smallest tf-idf and what 20 have the largest tf-idf?\n",
        "\n",
        "Put these features in a two series where each series is sorted by tf-idf value and then alphabetically by feature name. The index of the series should be the feature name, and the data should be the tf-idf.\n",
        "\n",
        "The series of 20 features with smallest tf-idfs should be sorted smallest tfidf first, the list of 20 features with largest tf-idfs should be sorted largest first. \n",
        "\n",
        "*This function should return a tuple of two series\n",
        "`(smallest tf-idfs series, largest tf-idfs series)`.*"
      ]
    },
    {
      "cell_type": "code",
      "metadata": {
        "id": "0mRGLW_cfxfC",
        "colab_type": "code",
        "outputId": "ad75ed44-a63c-47e3-a430-d951a186089d",
        "colab": {
          "base_uri": "https://localhost:8080/",
          "height": 714
        }
      },
      "source": [
        "from sklearn.feature_extraction.text import TfidfVectorizer\n",
        "import operator\n",
        "\n",
        "vectorizer = TfidfVectorizer()\n",
        "X_train_transformed = vectorizer.fit_transform(X_train)\n",
        "\n",
        "feature_names = vectorizer.get_feature_names()\n",
        "idfs = vectorizer.idf_\n",
        "names_idfs = list(zip(feature_names, idfs))\n",
        "\n",
        "smallest = sorted(names_idfs, key=operator.itemgetter(1))[:20]\n",
        "smallest = pd.Series([features[1] for features in smallest], index=[features[0] for features in smallest])\n",
        "\n",
        "largest = sorted(names_idfs, key=operator.itemgetter(1), reverse=True)[:20]\n",
        "largest = sorted(largest, key=operator.itemgetter(0))\n",
        "largest = pd.Series([features[1] for features in largest], index=[features[0] for features in largest])\n",
        "\n",
        "(smallest, largest)"
      ],
      "execution_count": 111,
      "outputs": [
        {
          "output_type": "execute_result",
          "data": {
            "text/plain": [
              "(to      2.198406\n",
              " you     2.265645\n",
              " the     2.707383\n",
              " in      2.890761\n",
              " and     2.976764\n",
              " is      3.003012\n",
              " me      3.111530\n",
              " for     3.206840\n",
              " it      3.222174\n",
              " my      3.231044\n",
              " call    3.297812\n",
              " your    3.300196\n",
              " of      3.319473\n",
              " have    3.354130\n",
              " that    3.408477\n",
              " on      3.463136\n",
              " now     3.465949\n",
              " can     3.545053\n",
              " are     3.560414\n",
              " so      3.566625\n",
              " dtype: float64, 000pes         8.644919\n",
              " 0089           8.644919\n",
              " 0121           8.644919\n",
              " 01223585236    8.644919\n",
              " 0125698789     8.644919\n",
              " 02072069400    8.644919\n",
              " 02073162414    8.644919\n",
              " 02085076972    8.644919\n",
              " 021            8.644919\n",
              " 0430           8.644919\n",
              " 07008009200    8.644919\n",
              " 07099833605    8.644919\n",
              " 07123456789    8.644919\n",
              " 0721072        8.644919\n",
              " 07753741225    8.644919\n",
              " 077xxx         8.644919\n",
              " 078            8.644919\n",
              " 07808247860    8.644919\n",
              " 07808726822    8.644919\n",
              " 078498         8.644919\n",
              " dtype: float64)"
            ]
          },
          "metadata": {
            "tags": []
          },
          "execution_count": 111
        }
      ]
    },
    {
      "cell_type": "markdown",
      "metadata": {
        "id": "kLLHfhsB5TNu",
        "colab_type": "text"
      },
      "source": [
        "### Question 3\n",
        "\n",
        "Fit and transform the training data `X_train` using a Tfidf Vectorizer ignoring terms that have a document frequency strictly lower than **3**.\n",
        "\n",
        "Then fit a multinomial Naive Bayes classifier model with smoothing `alpha=0.1` and compute the area under the curve (AUC) score using the transformed test data.\n",
        "\n",
        "*This function should return the AUC score as a float.*"
      ]
    },
    {
      "cell_type": "code",
      "metadata": {
        "id": "iyjQN3fupJ3N",
        "colab_type": "code",
        "outputId": "85721adf-dcb5-45b1-fa85-58d58dbcbe56",
        "colab": {
          "base_uri": "https://localhost:8080/",
          "height": 85
        }
      },
      "source": [
        "vet = TfidfVectorizer(min_df=3).fit(X_train)\n",
        "train_vet = vet.transform(X_train)\n",
        "\n",
        "clf = MultinomialNB(alpha=0.1).fit(train_vet, y_train)\n",
        "\n",
        "y_pred = clf.predict(vet.transform(X_test))\n",
        "        \n",
        "print(\"AUC Score: {}\".format(roc_auc_score(y_test, y_pred)),\n",
        "      \"\\nRecall SCORE: {}\".format(recall_score(y_pred, y_test)),\n",
        "      \"\\nPrecision SCORE: {}\".format(precision_score(y_pred, y_test)),\n",
        "      \"\\nG-Mean SCORE: {}\".format(geometric_mean_score(y_pred, y_test)))"
      ],
      "execution_count": 112,
      "outputs": [
        {
          "output_type": "stream",
          "text": [
            "AUC Score: 0.9416243654822335 \n",
            "Recall SCORE: 1.0 \n",
            "Precision SCORE: 0.883248730964467 \n",
            "G-Mean SCORE: 0.9905211130872972\n"
          ],
          "name": "stdout"
        }
      ]
    },
    {
      "cell_type": "markdown",
      "metadata": {
        "id": "Et92nZND5i0T",
        "colab_type": "text"
      },
      "source": [
        "#### Well, as we can see. Using a min_df of 3 worsened the model"
      ]
    },
    {
      "cell_type": "markdown",
      "metadata": {
        "id": "AWUom1fK5TN1",
        "colab_type": "text"
      },
      "source": [
        "### Question 4\n",
        "\n",
        "What is the average length of documents (number of characters) for not spam and spam documents?\n",
        "\n",
        "*This function should return a tuple (average length not spam, average length spam).*"
      ]
    },
    {
      "cell_type": "code",
      "metadata": {
        "id": "9pdGiwYy5TN5",
        "colab_type": "code",
        "outputId": "8032b48b-0452-4eab-e955-f02099a44dcb",
        "colab": {
          "base_uri": "https://localhost:8080/",
          "height": 51
        }
      },
      "source": [
        "spam_data['length'] = spam_data['text'].apply(lambda x:len(x))\n",
        "\n",
        "print(\"Average Length of not Spam Documents: {} characters\".format(int(np.mean(spam_data['length'][spam_data['target'] == 0]))), \n",
        "      \"\\nAverage Length of Spam Documents: {} characters\".format(int(np.mean(spam_data['length'][spam_data['target'] == 1]))))"
      ],
      "execution_count": 113,
      "outputs": [
        {
          "output_type": "stream",
          "text": [
            "Average Length of not Spam Documents: 71 characters \n",
            "Average Length of Spam Documents: 138 characters\n"
          ],
          "name": "stdout"
        }
      ]
    },
    {
      "cell_type": "code",
      "metadata": {
        "id": "EQOrdbmn5TOB",
        "colab_type": "code",
        "colab": {}
      },
      "source": [
        "def add_feature(X, feature_to_add):\n",
        "    \"\"\"\n",
        "    Returns sparse feature matrix with added feature.\n",
        "    feature_to_add can also be a list of features.\n",
        "    \"\"\"\n",
        "    from scipy.sparse import csr_matrix, hstack\n",
        "    return hstack([X, csr_matrix(feature_to_add).T], 'csr')"
      ],
      "execution_count": 0,
      "outputs": []
    },
    {
      "cell_type": "markdown",
      "metadata": {
        "id": "KaOsfMHX5TOE",
        "colab_type": "text"
      },
      "source": [
        "### Question 5\n",
        "\n",
        "Fit and transform the training data X_train using a Tfidf Vectorizer ignoring terms that have a document frequency strictly lower than **5**.\n",
        "\n",
        "Using this document-term matrix and an additional feature, **the length of document (number of characters)**, fit a Support Vector Classification model with regularization `C=10000`. Then compute the area under the curve (AUC) score using the transformed test data.\n",
        "\n",
        "*This function should return the AUC score as a float.*"
      ]
    },
    {
      "cell_type": "code",
      "metadata": {
        "id": "fbiukJG_5TOE",
        "colab_type": "code",
        "outputId": "f1841f2b-72ac-4fdb-b241-b3a472f763ff",
        "colab": {
          "base_uri": "https://localhost:8080/",
          "height": 85
        }
      },
      "source": [
        "from sklearn.svm import SVC\n",
        "\n",
        "\n",
        "\n",
        "vectorizer = TfidfVectorizer(min_df=5)\n",
        "\n",
        "train_vet = vectorizer.fit_transform(X_train)\n",
        "train_vet_len = add_feature(train_vet, X_train.str.len())\n",
        "\n",
        "teste = vectorizer.transform(X_test) \n",
        "teste_len = add_feature(teste, X_test.str.len())\n",
        "\n",
        "clf = SVC(C=10000).fit(train_vet_len, y_train)\n",
        "\n",
        "y_pred = clf.predict(teste_len)\n",
        "  \n",
        "   \n",
        "print(\"AUC Score: {}\".format(roc_auc_score(y_test, y_pred)),\n",
        "      \"\\nRecall SCORE: {}\".format(recall_score(y_pred, y_test)),\n",
        "      \"\\nPrecision SCORE: {}\".format(precision_score(y_pred, y_test)),\n",
        "      \"\\nG-Mean SCORE: {}\".format(geometric_mean_score(y_pred, y_test)))"
      ],
      "execution_count": 115,
      "outputs": [
        {
          "output_type": "stream",
          "text": [
            "AUC Score: 0.9661689557407943 \n",
            "Recall SCORE: 0.989247311827957 \n",
            "Precision SCORE: 0.934010152284264 \n",
            "G-Mean SCORE: 0.9892384031812388\n"
          ],
          "name": "stdout"
        }
      ]
    },
    {
      "cell_type": "markdown",
      "metadata": {
        "id": "YHmKiL_t5TOJ",
        "colab_type": "text"
      },
      "source": [
        "### Question 6\n",
        "\n",
        "What is the average number of digits per document for not spam and spam documents?\n",
        "\n",
        "*This function should return a tuple (average # digits not spam, average # digits spam).*"
      ]
    },
    {
      "cell_type": "code",
      "metadata": {
        "id": "OMH1w1kZ5TOK",
        "colab_type": "code",
        "outputId": "779c6d3e-bce9-4d6e-a4d5-05d4bb491e7d",
        "colab": {
          "base_uri": "https://localhost:8080/",
          "height": 34
        }
      },
      "source": [
        "spam_data['digits'] = spam_data['text'].apply(lambda x: len(''.join([a for a in x if a.isdigit()])))\n",
        "    \n",
        "(spam_data['digits'][spam_data['target'] == 0].mean(), spam_data['digits'][spam_data['target'] == 1].mean())"
      ],
      "execution_count": 116,
      "outputs": [
        {
          "output_type": "execute_result",
          "data": {
            "text/plain": [
              "(0.2992746113989637, 15.759036144578314)"
            ]
          },
          "metadata": {
            "tags": []
          },
          "execution_count": 116
        }
      ]
    },
    {
      "cell_type": "markdown",
      "metadata": {
        "id": "AXWUsk185TOQ",
        "colab_type": "text"
      },
      "source": [
        "### Question 7\n",
        "\n",
        "Fit and transform the training data `X_train` using a Tfidf Vectorizer ignoring terms that have a document frequency strictly lower than **5** and using **word n-grams from n=1 to n=3** (unigrams, bigrams, and trigrams).\n",
        "\n",
        "Using this document-term matrix and the following additional features:\n",
        "* the length of document (number of characters)\n",
        "* **number of digits per document**\n",
        "\n",
        "fit a Logistic Regression model with regularization `C=100`. Then compute the area under the curve (AUC) score using the transformed test data.\n",
        "\n",
        "*This function should return the AUC score as a float.*"
      ]
    },
    {
      "cell_type": "code",
      "metadata": {
        "id": "23g6Rq-G5TOU",
        "colab_type": "code",
        "outputId": "9caf2afb-2307-4570-a4ef-d3a78b3797f4",
        "colab": {
          "base_uri": "https://localhost:8080/",
          "height": 85
        }
      },
      "source": [
        "from sklearn.linear_model import LogisticRegression\n",
        "\n",
        "\n",
        "    \n",
        "vectorizer = TfidfVectorizer(min_df=5, ngram_range=[1,3])\n",
        "\n",
        "train_vet = vectorizer.fit_transform(X_train)\n",
        "X_train_transformed = add_feature(train_vet, [X_train.str.len(),\n",
        "                                              X_train.apply(lambda x:len(''.join([a for a in x if a.isdigit()])))])\n",
        "\n",
        "test_vet = vectorizer.transform(X_test)\n",
        "X_test_transformed = add_feature(test_vet,[X_test.str.len(),\n",
        "                                           X_test.apply(lambda x:len(''.join(a for a in x if a.isdigit())))])\n",
        "\n",
        "clf = LogisticRegression(C=100,max_iter = 2000).fit(X_train_transformed, y_train)\n",
        "\n",
        "y_pred = clf.predict(X_test_transformed)\n",
        "\n",
        "    \n",
        "print(\"AUC Score: {}\".format(roc_auc_score(y_test, y_pred)),\n",
        "      \"\\nRecall SCORE: {}\".format(recall_score(y_pred, y_test)),\n",
        "      \"\\nPrecision SCORE: {}\".format(precision_score(y_pred, y_test)),\n",
        "      \"\\nG-Mean SCORE: {}\".format(geometric_mean_score(y_pred, y_test)))"
      ],
      "execution_count": 117,
      "outputs": [
        {
          "output_type": "stream",
          "text": [
            "AUC Score: 0.9678709064054463 \n",
            "Recall SCORE: 0.9788359788359788 \n",
            "Precision SCORE: 0.9390862944162437 \n",
            "G-Mean SCORE: 0.9844186804989808\n"
          ],
          "name": "stdout"
        }
      ]
    },
    {
      "cell_type": "markdown",
      "metadata": {
        "id": "GpSQcUIj5TOZ",
        "colab_type": "text"
      },
      "source": [
        "### Question 8\n",
        "\n",
        "What is the average number of non-word characters (anything other than a letter, digit or underscore) per document for not spam and spam documents?\n",
        "\n",
        "*Hint: Use `\\w` and `\\W` character classes*\n",
        "\n",
        "*This function should return a tuple (average # non-word characters not spam, average # non-word characters spam).*"
      ]
    },
    {
      "cell_type": "code",
      "metadata": {
        "id": "G3wx9zN65TOc",
        "colab_type": "code",
        "outputId": "c14db39b-4459-47c1-e7ed-b0e464659d04",
        "colab": {
          "base_uri": "https://localhost:8080/",
          "height": 51
        }
      },
      "source": [
        "spam = spam_data['text'][spam_data['target'] == 1].str.findall(r'(\\W)').str.len().mean()\n",
        "not_spam = spam_data['text'][spam_data['target'] == 0].str.findall(r'(\\W)').str.len().mean()\n",
        "    \n",
        "print(\"Avg N° of non-word characters in non Spam Emails: {}\".format(int(not_spam)), \n",
        "      \"\\nAvg N° of non-word characters inSpam Emails: {}\".format(int(spam)))"
      ],
      "execution_count": 118,
      "outputs": [
        {
          "output_type": "stream",
          "text": [
            "Avg N° of non-word characters in non Spam Emails: 17 \n",
            "Avg N° of non-word characters inSpam Emails: 29\n"
          ],
          "name": "stdout"
        }
      ]
    },
    {
      "cell_type": "markdown",
      "metadata": {
        "id": "WnqDgHj25TOh",
        "colab_type": "text"
      },
      "source": [
        "### Question 9\n",
        "\n",
        "Fit and transform the training data X_train using a Count Vectorizer ignoring terms that have a document frequency strictly lower than **5** and using **character n-grams from n=2 to n=5.**\n",
        "\n",
        "To tell Count Vectorizer to use character n-grams pass in `analyzer='char_wb'` which creates character n-grams only from text inside word boundaries. This should make the model more robust to spelling mistakes.\n",
        "\n",
        "Using this document-term matrix and the following additional features:\n",
        "* the length of document (number of characters)\n",
        "* number of digits per document\n",
        "* **number of non-word characters (anything other than a letter, digit or underscore.)**\n",
        "\n",
        "fit a Logistic Regression model with regularization C=100. Then compute the area under the curve (AUC) score using the transformed test data.\n",
        "\n",
        "Also **find the 10 smallest and 10 largest coefficients from the model** and return them along with the AUC score in a tuple.\n",
        "\n",
        "The list of 10 smallest coefficients should be sorted smallest first, the list of 10 largest coefficients should be sorted largest first.\n",
        "\n",
        "The three features that were added to the document term matrix should have the following names should they appear in the list of coefficients:\n",
        "['length_of_doc', 'digit_count', 'non_word_char_count']\n",
        "\n",
        "*This function should return a tuple `(AUC score as a float, smallest coefs list, largest coefs list)`.*"
      ]
    },
    {
      "cell_type": "code",
      "metadata": {
        "id": "sSbqGUay5TOi",
        "colab_type": "code",
        "outputId": "e7e4251a-3edb-4461-92e1-22158e55857f",
        "colab": {
          "base_uri": "https://localhost:8080/",
          "height": 85
        }
      },
      "source": [
        "vectorizer = CountVectorizer(min_df=5, ngram_range = [2,5], analyzer = 'char_wb').fit(X_train)\n",
        "\n",
        "X_train_vet = vectorizer.transform(X_train)\n",
        "X_test_vet = vectorizer.transform(X_test)\n",
        "\n",
        "X_train_added = add_feature(X_train_vet, [X_train.str.len(),\n",
        "                                          X_train.apply(lambda x:len(''.join([a for a in x if a.isdigit()]))),\n",
        "                                          X_train.str.findall(r'(\\W)').str.len()])\n",
        "\n",
        "X_test_added = add_feature(X_test_vet, [X_test.str.len(),\n",
        "                                        X_test.apply(lambda x: len(''.join([a for a in x if a.isdigit()]))),\n",
        "                                        X_test.str.findall(r'(\\W)').str.len()])\n",
        "\n",
        "clf = LogisticRegression(C=100,max_iter = 2000)\n",
        "\n",
        "clf.fit(X_train_added, y_train)\n",
        "\n",
        "y_pred = clf.predict(X_test_added)\n",
        "\n",
        "auc = roc_auc_score(y_test, y_pred)\n",
        "\n",
        "print(\"AUC Score: {}\".format(auc),\n",
        "      \"\\nRecall SCORE: {}\".format(recall_score(y_pred, y_test)),\n",
        "      \"\\nPrecision SCORE: {}\".format(precision_score(y_pred, y_test)),\n",
        "      \"\\nG-Mean SCORE: {}\".format(geometric_mean_score(y_pred, y_test)))"
      ],
      "execution_count": 119,
      "outputs": [
        {
          "output_type": "stream",
          "text": [
            "AUC Score: 0.9780231906694056 \n",
            "Recall SCORE: 0.9792746113989638 \n",
            "Precision SCORE: 0.9593908629441624 \n",
            "G-Mean SCORE: 0.9862789230180463\n"
          ],
          "name": "stdout"
        }
      ]
    },
    {
      "cell_type": "code",
      "metadata": {
        "id": "vcY227l35TOk",
        "colab_type": "code",
        "colab": {}
      },
      "source": [
        "feature_names = np.array(vectorizer.get_feature_names() + ['length_of_doc', 'digit_count', 'non_word_char_count'])\n",
        "sorted_coef_index = clf.coef_[0].argsort()\n",
        "smallest = feature_names[sorted_coef_index[:10]]\n",
        "largest = feature_names[sorted_coef_index[:-11:-1]]"
      ],
      "execution_count": 0,
      "outputs": []
    },
    {
      "cell_type": "code",
      "metadata": {
        "id": "UJlSGLGrurjI",
        "colab_type": "code",
        "outputId": "806147e1-b0fc-4145-fd87-9daa3604f9b0",
        "colab": {
          "base_uri": "https://localhost:8080/",
          "height": 68
        }
      },
      "source": [
        "(auc, list(smallest), list(largest)) "
      ],
      "execution_count": 121,
      "outputs": [
        {
          "output_type": "execute_result",
          "data": {
            "text/plain": [
              "(0.9780231906694056,\n",
              " [' i', 'ca', '..', '. ', 'pe', ' go', ' m', 'if', 'us', 'go'],\n",
              " ['digit_count', 'ia', ' r', 'xt', 'ne', 'co', ' ba', ' x', 'ian ', '46'])"
            ]
          },
          "metadata": {
            "tags": []
          },
          "execution_count": 121
        }
      ]
    }
  ]
}